{
 "cells": [
  {
   "cell_type": "markdown",
   "metadata": {},
   "source": [
    "# Project tasks\n",
    "\n",
    "- Please rename this file so that you know which copy you have been working in. Keep a copy safe (especially if you are working in the online Jupyter service). You can download a copy by choosing -File- then -Download as- Notebook from the menu above. \n",
    "- These tasks are intended to be open-ended, use the questions as a guide, but **you should further investigate the datasets** to answer other interesting questions about them."
   ]
  },
  {
   "cell_type": "markdown",
   "metadata": {},
   "source": [
    "---"
   ]
  },
  {
   "cell_type": "code",
   "execution_count": 1,
   "metadata": {},
   "outputs": [
    {
     "data": {
      "text/html": [
       "<script>requirejs.config({paths: { 'plotly': ['https://cdn.plot.ly/plotly-latest.min']},});if(!window.Plotly) {{require(['plotly'],function(plotly) {window.Plotly=plotly;});}}</script>"
      ],
      "text/vnd.plotly.v1+html": [
       "<script>requirejs.config({paths: { 'plotly': ['https://cdn.plot.ly/plotly-latest.min']},});if(!window.Plotly) {{require(['plotly'],function(plotly) {window.Plotly=plotly;});}}</script>"
      ]
     },
     "metadata": {},
     "output_type": "display_data"
    }
   ],
   "source": [
    "# Global import\n",
    "import pandas as pd\n",
    "import numpy as np\n",
    "import plotly.plotly as py\n",
    "import plotly.graph_objs as go\n",
    "from matplotlib import pyplot as plt\n",
    "from plotly.offline import download_plotlyjs, init_notebook_mode, plot, iplot\n",
    "init_notebook_mode(connected=True)\n",
    "from math import sin, cos, sqrt, atan2, radians\n",
    "from itertools import chain\n",
    "import string, re"
   ]
  },
  {
   "cell_type": "markdown",
   "metadata": {},
   "source": [
    "## Task 1 - Edinburgh cycle hire data"
   ]
  },
  {
   "cell_type": "markdown",
   "metadata": {},
   "source": [
    "The first task is to investigate the dataset in the file `bikes_October18.csv` which contains anonymised data for all trips taken in October 2018 with the Edinburgh Cycle Hire bikes (found [here](https://edinburghcyclehire.com/open-data/historical)). This dataset is kindly supplied for use by Edinburgh Cycle Hire under the [Open Government License (OGL) v3.0](https://www.nationalarchives.gov.uk/doc/open-government-licence/version/3/).\n",
    "\n",
    "- What is the average journey time and distance of bike trips which started on a Tuesday?\n",
    "- How many stations appear in the dataset? Which were the most common starting stations? Think about how to display/plot the results of your analysis.\n",
    "- What was the most common time(s) of day for journeys to be undertaken?\n",
    "- Can you process the geographic information (latitudes and longitudes of start and end stations), and display this in an interesting way?\n",
    "- Can you use the data to answer any other interesting questions about the bike trips?\n",
    "\n",
    "Please include all the code used to generate your answer and plots, and remember to investigate beyond the initial scope of the questions."
   ]
  },
  {
   "cell_type": "code",
   "execution_count": 2,
   "metadata": {
    "scrolled": true
   },
   "outputs": [
    {
     "data": {
      "text/html": [
       "<div>\n",
       "<style scoped>\n",
       "    .dataframe tbody tr th:only-of-type {\n",
       "        vertical-align: middle;\n",
       "    }\n",
       "\n",
       "    .dataframe tbody tr th {\n",
       "        vertical-align: top;\n",
       "    }\n",
       "\n",
       "    .dataframe thead th {\n",
       "        text-align: right;\n",
       "    }\n",
       "</style>\n",
       "<table border=\"1\" class=\"dataframe\">\n",
       "  <thead>\n",
       "    <tr style=\"text-align: right;\">\n",
       "      <th></th>\n",
       "      <th>started_at</th>\n",
       "      <th>ended_at</th>\n",
       "      <th>duration</th>\n",
       "      <th>start_station_id</th>\n",
       "      <th>start_station_name</th>\n",
       "      <th>start_station_description</th>\n",
       "      <th>start_station_latitude</th>\n",
       "      <th>start_station_longitude</th>\n",
       "      <th>end_station_id</th>\n",
       "      <th>end_station_name</th>\n",
       "      <th>end_station_description</th>\n",
       "      <th>end_station_latitude</th>\n",
       "      <th>end_station_longitude</th>\n",
       "    </tr>\n",
       "  </thead>\n",
       "  <tbody>\n",
       "    <tr>\n",
       "      <th>0</th>\n",
       "      <td>2018-10-01 01:21:40.555000+00:00</td>\n",
       "      <td>2018-10-01 01:26:57.840000+00:00</td>\n",
       "      <td>317</td>\n",
       "      <td>259</td>\n",
       "      <td>St Andrew Square</td>\n",
       "      <td>North East corner</td>\n",
       "      <td>55.954749</td>\n",
       "      <td>-3.192774</td>\n",
       "      <td>262</td>\n",
       "      <td>Canonmills</td>\n",
       "      <td>near Tesco's</td>\n",
       "      <td>55.962804</td>\n",
       "      <td>-3.196284</td>\n",
       "    </tr>\n",
       "    <tr>\n",
       "      <th>1</th>\n",
       "      <td>2018-10-01 04:44:47.775000+00:00</td>\n",
       "      <td>2018-10-01 04:47:27.430000+00:00</td>\n",
       "      <td>159</td>\n",
       "      <td>254</td>\n",
       "      <td>Kings Building 3</td>\n",
       "      <td>Kings Building House</td>\n",
       "      <td>55.923479</td>\n",
       "      <td>-3.175385</td>\n",
       "      <td>254</td>\n",
       "      <td>Kings Building 3</td>\n",
       "      <td>Kings Building House</td>\n",
       "      <td>55.923479</td>\n",
       "      <td>-3.175385</td>\n",
       "    </tr>\n",
       "    <tr>\n",
       "      <th>2</th>\n",
       "      <td>2018-10-01 04:45:03.548000+00:00</td>\n",
       "      <td>2018-10-01 05:14:10.466000+00:00</td>\n",
       "      <td>1746</td>\n",
       "      <td>254</td>\n",
       "      <td>Kings Building 3</td>\n",
       "      <td>Kings Building House</td>\n",
       "      <td>55.923479</td>\n",
       "      <td>-3.175385</td>\n",
       "      <td>265</td>\n",
       "      <td>Meadows East</td>\n",
       "      <td>Melville Terrace</td>\n",
       "      <td>55.939809</td>\n",
       "      <td>-3.182739</td>\n",
       "    </tr>\n",
       "    <tr>\n",
       "      <th>3</th>\n",
       "      <td>2018-10-01 04:53:03.261000+00:00</td>\n",
       "      <td>2018-10-01 04:58:42.537000+00:00</td>\n",
       "      <td>339</td>\n",
       "      <td>255</td>\n",
       "      <td>Kings Buildings 4</td>\n",
       "      <td>X-Y Cafe</td>\n",
       "      <td>55.922001</td>\n",
       "      <td>-3.176902</td>\n",
       "      <td>254</td>\n",
       "      <td>Kings Building 3</td>\n",
       "      <td>Kings Building House</td>\n",
       "      <td>55.923479</td>\n",
       "      <td>-3.175385</td>\n",
       "    </tr>\n",
       "    <tr>\n",
       "      <th>4</th>\n",
       "      <td>2018-10-01 05:01:40.443000+00:00</td>\n",
       "      <td>2018-10-01 05:15:36.416000+00:00</td>\n",
       "      <td>835</td>\n",
       "      <td>252</td>\n",
       "      <td>Kings Buildings 1</td>\n",
       "      <td>Grant Institute</td>\n",
       "      <td>55.924185</td>\n",
       "      <td>-3.173831</td>\n",
       "      <td>265</td>\n",
       "      <td>Meadows East</td>\n",
       "      <td>Melville Terrace</td>\n",
       "      <td>55.939809</td>\n",
       "      <td>-3.182739</td>\n",
       "    </tr>\n",
       "  </tbody>\n",
       "</table>\n",
       "</div>"
      ],
      "text/plain": [
       "                         started_at                          ended_at  \\\n",
       "0  2018-10-01 01:21:40.555000+00:00  2018-10-01 01:26:57.840000+00:00   \n",
       "1  2018-10-01 04:44:47.775000+00:00  2018-10-01 04:47:27.430000+00:00   \n",
       "2  2018-10-01 04:45:03.548000+00:00  2018-10-01 05:14:10.466000+00:00   \n",
       "3  2018-10-01 04:53:03.261000+00:00  2018-10-01 04:58:42.537000+00:00   \n",
       "4  2018-10-01 05:01:40.443000+00:00  2018-10-01 05:15:36.416000+00:00   \n",
       "\n",
       "   duration  start_station_id start_station_name start_station_description  \\\n",
       "0       317               259   St Andrew Square         North East corner   \n",
       "1       159               254   Kings Building 3      Kings Building House   \n",
       "2      1746               254   Kings Building 3      Kings Building House   \n",
       "3       339               255  Kings Buildings 4                  X-Y Cafe   \n",
       "4       835               252  Kings Buildings 1           Grant Institute   \n",
       "\n",
       "   start_station_latitude  start_station_longitude  end_station_id  \\\n",
       "0               55.954749                -3.192774             262   \n",
       "1               55.923479                -3.175385             254   \n",
       "2               55.923479                -3.175385             265   \n",
       "3               55.922001                -3.176902             254   \n",
       "4               55.924185                -3.173831             265   \n",
       "\n",
       "   end_station_name end_station_description  end_station_latitude  \\\n",
       "0        Canonmills            near Tesco's             55.962804   \n",
       "1  Kings Building 3    Kings Building House             55.923479   \n",
       "2      Meadows East        Melville Terrace             55.939809   \n",
       "3  Kings Building 3    Kings Building House             55.923479   \n",
       "4      Meadows East        Melville Terrace             55.939809   \n",
       "\n",
       "   end_station_longitude  \n",
       "0              -3.196284  \n",
       "1              -3.175385  \n",
       "2              -3.182739  \n",
       "3              -3.175385  \n",
       "4              -3.182739  "
      ]
     },
     "execution_count": 2,
     "metadata": {},
     "output_type": "execute_result"
    }
   ],
   "source": [
    "# Read in the bike data\n",
    "bike_df = pd.read_csv('bikes_October18.csv')\n",
    "bike_df.head()"
   ]
  },
  {
   "cell_type": "code",
   "execution_count": 3,
   "metadata": {},
   "outputs": [],
   "source": [
    "# Adjust the time format\n",
    "bike_df.started_at = bike_df.started_at.astype('datetime64[ns]')\n",
    "bike_df.ended_at = bike_df.ended_at.astype('datetime64[ns]')"
   ]
  },
  {
   "cell_type": "markdown",
   "metadata": {},
   "source": [
    "#### Q1. What is the average journey time and distance of bike trips which started on a Tuesday?"
   ]
  },
  {
   "cell_type": "code",
   "execution_count": 4,
   "metadata": {
    "scrolled": true
   },
   "outputs": [],
   "source": [
    "# Find the Tuesdays\n",
    "bike_df_tuesday = bike_df[bike_df.started_at.dt.dayofweek==1]"
   ]
  },
  {
   "cell_type": "code",
   "execution_count": 5,
   "metadata": {},
   "outputs": [
    {
     "name": "stdout",
     "output_type": "stream",
     "text": [
      "The average journey time of bike trips started on Tuesdays is: 22.81 mins\n"
     ]
    }
   ],
   "source": [
    "# Average journey time on Tuesday\n",
    "aver_trip_time = np.mean(bike_df_tuesday.duration)\n",
    "print('The average journey time of bike trips started on Tuesdays is:', round(aver_trip_time/60,2), 'mins')"
   ]
  },
  {
   "cell_type": "code",
   "execution_count": 6,
   "metadata": {},
   "outputs": [
    {
     "name": "stdout",
     "output_type": "stream",
     "text": [
      "The average journey distance of bike trips on Tuesdays is: 1.6765 km\n",
      "The average journey distance of total bike trips: 1.6573 km\n"
     ]
    }
   ],
   "source": [
    "def dist(bike_df):\n",
    "    '''\n",
    "    This function is to compute the distance of input trip using ‘Haversine’ formula\n",
    "    '''\n",
    "    # Approximate radius of earth in km\n",
    "    R = 6373.0\n",
    "    \n",
    "    # Use the ‘Haversine’ formula to calculate the great-circle distance between two points\n",
    "    dlat = bike_df.start_station_latitude.apply(radians) - bike_df.end_station_latitude.apply(radians) \n",
    "    dlon = bike_df.start_station_longitude.apply(radians) - bike_df.end_station_longitude.apply(radians) \n",
    "    a = dlat.apply(lambda x: sin(x/2)**2) + bike_df.start_station_latitude.apply(radians).apply(cos) \\\n",
    "        * bike_df.end_station_latitude.apply(radians).apply(cos) * dlon.apply(lambda x: sin(x/2)**2)\n",
    "    c = a.apply(lambda x: 2 * atan2(sqrt(x), sqrt(1 - x)))   \n",
    "    distance = R * c\n",
    "    \n",
    "    return distance\n",
    "\n",
    "# Distance of bike trips which started on Tuesday \n",
    "print('The average journey distance of bike trips on Tuesdays is:', round(np.mean(dist(bike_df_tuesday)),4), 'km')\n",
    "\n",
    "# We can also investigate the average journey distance of overall bike trips:\n",
    "print('The average journey distance of total bike trips:', round(np.mean(dist(bike_df)),4), 'km')"
   ]
  },
  {
   "cell_type": "markdown",
   "metadata": {},
   "source": [
    "#### Q2. How many stations appear in the dataset? "
   ]
  },
  {
   "cell_type": "code",
   "execution_count": 7,
   "metadata": {
    "scrolled": true
   },
   "outputs": [
    {
     "name": "stdout",
     "output_type": "stream",
     "text": [
      "There are 31 stations appear in the dataset\n"
     ]
    }
   ],
   "source": [
    "# Count the stations\n",
    "station_count = len(bike_df.start_station_name.unique())\n",
    "print('There are {num} stations appear in the dataset'.format(num=station_count))"
   ]
  },
  {
   "cell_type": "markdown",
   "metadata": {},
   "source": [
    "#### Q: Which were the most common starting stations?"
   ]
  },
  {
   "cell_type": "code",
   "execution_count": 8,
   "metadata": {},
   "outputs": [
    {
     "name": "stdout",
     "output_type": "stream",
     "text": [
      "Bristo Square              299\n",
      "Fountainbridge             275\n",
      "George Square              240\n",
      "Meadows East               215\n",
      "Canonmills                 204\n",
      "St Andrew Square           201\n",
      "Lauriston Place            189\n",
      "Portobello                 188\n",
      "Brunswick Place            174\n",
      "Charlotte Square           160\n",
      "Victoria Quay              157\n",
      "Pollock Halls              147\n",
      "Stockbridge                130\n",
      "Royal Commonwealth Pool    116\n",
      "Kings Building 3           116\n",
      "Waverley Bridge            112\n",
      "Riego Street               108\n",
      "Leith Links                100\n",
      "Shrubhill                   99\n",
      "City Chambers               84\n",
      "Kings Building 2            71\n",
      "Waverley Station            71\n",
      "St Andrews House            55\n",
      "Waverley Court              53\n",
      "Victoria Park               53\n",
      "Ocean Terminal              47\n",
      "Castle Street               34\n",
      "Waitrose, Comely Bank       33\n",
      "Kings Buildings 1           28\n",
      "Bruntsfield                 23\n",
      "Kings Buildings 4           17\n",
      "Name: start_station_name, dtype: int64\n"
     ]
    }
   ],
   "source": [
    "# print the starting stations in order of usage times\n",
    "print(bike_df.start_station_name.value_counts())"
   ]
  },
  {
   "cell_type": "code",
   "execution_count": 9,
   "metadata": {},
   "outputs": [
    {
     "name": "stdout",
     "output_type": "stream",
     "text": [
      "Canonmills                 285\n",
      "Victoria Quay              278\n",
      "Fountainbridge             253\n",
      "Brunswick Place            230\n",
      "George Square              222\n",
      "Portobello                 201\n",
      "Meadows East               195\n",
      "Stockbridge                187\n",
      "Shrubhill                  181\n",
      "Bristo Square              174\n",
      "St Andrew Square           162\n",
      "Leith Links                139\n",
      "Waverley Bridge            129\n",
      "Pollock Halls              122\n",
      "Charlotte Square           121\n",
      "Lauriston Place            107\n",
      "Riego Street               100\n",
      "Kings Building 2            85\n",
      "Ocean Terminal              82\n",
      "Royal Commonwealth Pool     80\n",
      "Kings Building 3            72\n",
      "Victoria Park               67\n",
      "Waitrose, Comely Bank       57\n",
      "Waverley Station            55\n",
      "City Chambers               53\n",
      "Waverley Court              50\n",
      "St Andrews House            43\n",
      "Kings Buildings 1           27\n",
      "Castle Street               24\n",
      "Bruntsfield                 14\n",
      "Kings Buildings 4            4\n",
      "Name: end_station_name, dtype: int64\n"
     ]
    }
   ],
   "source": [
    "# print the most common ending stations\n",
    "print(bike_df.end_station_name.value_counts())"
   ]
  },
  {
   "cell_type": "markdown",
   "metadata": {},
   "source": [
    "- We can see, Bristo Square, Fountainbridge and George Square are the most popular starting stations. \n",
    "- On the other hand, Canomills, Victoria Quay and Fountainbridge are the most common ending stations. \n",
    "- Kings Building 4 has the fewest visitors."
   ]
  },
  {
   "cell_type": "markdown",
   "metadata": {},
   "source": [
    "#### Q: Think about how to display/plot the results of your analysis."
   ]
  },
  {
   "cell_type": "markdown",
   "metadata": {},
   "source": [
    "- I think bar charts would be the best way to display these information."
   ]
  },
  {
   "cell_type": "code",
   "execution_count": 10,
   "metadata": {
    "scrolled": true
   },
   "outputs": [
    {
     "data": {
      "text/plain": [
       "<matplotlib.axes._subplots.AxesSubplot at 0x1084d2400>"
      ]
     },
     "execution_count": 10,
     "metadata": {},
     "output_type": "execute_result"
    },
    {
     "data": {
      "image/png": "[encoded data removed]",
      "text/plain": [
       "<Figure size 1080x360 with 1 Axes>"
      ]
     },
     "metadata": {},
     "output_type": "display_data"
    }
   ],
   "source": [
    "# Plot bar chart of count of station usage as starting point\n",
    "bike_df.start_station_name.value_counts().plot.bar(\n",
    "    figsize=(15,5),\n",
    "    color='skyblue',\n",
    "    title='count of station usage (as starting point)'\n",
    ")"
   ]
  },
  {
   "cell_type": "code",
   "execution_count": 11,
   "metadata": {},
   "outputs": [
    {
     "data": {
      "text/plain": [
       "<matplotlib.axes._subplots.AxesSubplot at 0x113fc5e10>"
      ]
     },
     "execution_count": 11,
     "metadata": {},
     "output_type": "execute_result"
    },
    {
     "data": {
      "image/png": "[encoded data removed]",
      "text/plain": [
       "<Figure size 1080x360 with 1 Axes>"
      ]
     },
     "metadata": {},
     "output_type": "display_data"
    }
   ],
   "source": [
    "# Plot bar chart of count of station usage as ending point\n",
    "bike_df.end_station_name.value_counts().plot.bar(\n",
    "    figsize=(15,5),\n",
    "    color='c',\n",
    "    title='count of station usage (as ending point)',\n",
    ")"
   ]
  },
  {
   "cell_type": "markdown",
   "metadata": {},
   "source": [
    "#### Q3. What was the most common time(s) of day for journeys to be undertaken?"
   ]
  },
  {
   "cell_type": "code",
   "execution_count": 12,
   "metadata": {},
   "outputs": [
    {
     "data": {
      "application/vnd.plotly.v1+json": {
       "data": [
        {
         "name": "Monday",
         "type": "bar",
         "uid": "3c0727ee-f977-11e8-be0e-9801a79eab69",
         "x": [
          0,
          1,
          4,
          5,
          6,
          7,
          8,
          9,
          10,
          11,
          12,
          13,
          14,
          15,
          16,
          17,
          18,
          19,
          20,
          21,
          22,
          23
         ],
         "y": [
          3,
          3,
          3,
          10,
          8,
          30,
          39,
          29,
          31,
          40,
          24,
          42,
          29,
          41,
          69,
          57,
          25,
          10,
          7,
          10,
          8,
          11
         ]
        },
        {
         "name": "Tuesday",
         "type": "bar",
         "uid": "3c090122-f977-11e8-8abc-9801a79eab69",
         "x": [
          0,
          1,
          2,
          3,
          5,
          6,
          7,
          8,
          9,
          10,
          11,
          12,
          13,
          14,
          15,
          16,
          17,
          18,
          19,
          20,
          21,
          22,
          23
         ],
         "y": [
          4,
          3,
          4,
          1,
          2,
          8,
          25,
          36,
          28,
          20,
          35,
          29,
          41,
          38,
          60,
          74,
          54,
          38,
          32,
          10,
          16,
          9,
          9
         ]
        },
        {
         "name": "Wednesday",
         "type": "bar",
         "uid": "3c092170-f977-11e8-bdaa-9801a79eab69",
         "x": [
          0,
          1,
          4,
          5,
          6,
          7,
          8,
          9,
          10,
          11,
          12,
          13,
          14,
          15,
          16,
          17,
          18,
          19,
          20,
          21,
          22,
          23
         ],
         "y": [
          6,
          2,
          1,
          4,
          13,
          27,
          26,
          16,
          22,
          32,
          45,
          31,
          41,
          43,
          72,
          44,
          22,
          22,
          8,
          7,
          15,
          5
         ]
        },
        {
         "name": "Thursday",
         "type": "bar",
         "uid": "3c092406-f977-11e8-b5cb-9801a79eab69",
         "x": [
          0,
          1,
          2,
          3,
          5,
          6,
          7,
          8,
          9,
          10,
          11,
          12,
          13,
          14,
          15,
          16,
          17,
          18,
          19,
          20,
          21,
          22,
          23
         ],
         "y": [
          1,
          3,
          3,
          1,
          7,
          4,
          39,
          33,
          17,
          23,
          22,
          33,
          32,
          33,
          39,
          81,
          45,
          32,
          27,
          14,
          18,
          18,
          12
         ]
        },
        {
         "name": "Friday",
         "type": "bar",
         "uid": "3c092602-f977-11e8-ab1c-9801a79eab69",
         "x": [
          0,
          2,
          3,
          5,
          6,
          7,
          8,
          9,
          10,
          11,
          12,
          13,
          14,
          15,
          16,
          17,
          18,
          19,
          20,
          21,
          22,
          23
         ],
         "y": [
          3,
          1,
          1,
          2,
          2,
          33,
          40,
          26,
          29,
          45,
          32,
          38,
          40,
          41,
          66,
          37,
          23,
          19,
          18,
          12,
          16,
          11
         ]
        },
        {
         "name": "Saturday",
         "type": "bar",
         "uid": "3c0927ec-f977-11e8-bf25-9801a79eab69",
         "x": [
          0,
          1,
          2,
          3,
          4,
          5,
          6,
          7,
          8,
          9,
          10,
          11,
          12,
          13,
          14,
          15,
          16,
          17,
          18,
          19,
          20,
          21,
          22,
          23
         ],
         "y": [
          7,
          8,
          16,
          1,
          2,
          3,
          3,
          7,
          16,
          29,
          35,
          68,
          58,
          63,
          63,
          77,
          50,
          35,
          21,
          13,
          17,
          5,
          9,
          11
         ]
        },
        {
         "name": "Sunday",
         "type": "bar",
         "uid": "3c0929b8-f977-11e8-88ea-9801a79eab69",
         "x": [
          0,
          1,
          2,
          3,
          5,
          6,
          7,
          8,
          9,
          10,
          11,
          12,
          13,
          14,
          15,
          16,
          17,
          18,
          19,
          20,
          21,
          22,
          23
         ],
         "y": [
          7,
          4,
          11,
          2,
          1,
          2,
          4,
          16,
          26,
          41,
          34,
          41,
          60,
          51,
          64,
          47,
          26,
          19,
          18,
          10,
          7,
          6,
          4
         ]
        }
       ],
       "layout": {
        "bargap": 0.25,
        "bargroupgap": 0.5,
        "barmode": "group",
        "title": "Count of trips per hour on each weekday",
        "xaxis": {
         "title": "Time point of the day"
        },
        "yaxis": {
         "tickfont": {
          "color": "rgb(107, 107, 107)",
          "size": 14
         },
         "title": "Count of trips",
         "titlefont": {
          "color": "rgb(107, 107, 107)",
          "size": 16
         }
        }
       }
      },
      "text/html": [
       "<div id=\"55e0f5c4-8d23-4766-885a-8759c7946f11\" style=\"height: 525px; width: 100%;\" class=\"plotly-graph-div\"></div><script type=\"text/javascript\">require([\"plotly\"], function(Plotly) { window.PLOTLYENV=window.PLOTLYENV || {};window.PLOTLYENV.BASE_URL=\"https://plot.ly\";Plotly.newPlot(\"55e0f5c4-8d23-4766-885a-8759c7946f11\", [{\"name\": \"Monday\", \"x\": [0, 1, 4, 5, 6, 7, 8, 9, 10, 11, 12, 13, 14, 15, 16, 17, 18, 19, 20, 21, 22, 23], \"y\": [3, 3, 3, 10, 8, 30, 39, 29, 31, 40, 24, 42, 29, 41, 69, 57, 25, 10, 7, 10, 8, 11], \"type\": \"bar\", \"uid\": \"3c0727ee-f977-11e8-be0e-9801a79eab69\"}, {\"name\": \"Tuesday\", \"x\": [0, 1, 2, 3, 5, 6, 7, 8, 9, 10, 11, 12, 13, 14, 15, 16, 17, 18, 19, 20, 21, 22, 23], \"y\": [4, 3, 4, 1, 2, 8, 25, 36, 28, 20, 35, 29, 41, 38, 60, 74, 54, 38, 32, 10, 16, 9, 9], \"type\": \"bar\", \"uid\": \"3c090122-f977-11e8-8abc-9801a79eab69\"}, {\"name\": \"Wednesday\", \"x\": [0, 1, 4, 5, 6, 7, 8, 9, 10, 11, 12, 13, 14, 15, 16, 17, 18, 19, 20, 21, 22, 23], \"y\": [6, 2, 1, 4, 13, 27, 26, 16, 22, 32, 45, 31, 41, 43, 72, 44, 22, 22, 8, 7, 15, 5], \"type\": \"bar\", \"uid\": \"3c092170-f977-11e8-bdaa-9801a79eab69\"}, {\"name\": \"Thursday\", \"x\": [0, 1, 2, 3, 5, 6, 7, 8, 9, 10, 11, 12, 13, 14, 15, 16, 17, 18, 19, 20, 21, 22, 23], \"y\": [1, 3, 3, 1, 7, 4, 39, 33, 17, 23, 22, 33, 32, 33, 39, 81, 45, 32, 27, 14, 18, 18, 12], \"type\": \"bar\", \"uid\": \"3c092406-f977-11e8-b5cb-9801a79eab69\"}, {\"name\": \"Friday\", \"x\": [0, 2, 3, 5, 6, 7, 8, 9, 10, 11, 12, 13, 14, 15, 16, 17, 18, 19, 20, 21, 22, 23], \"y\": [3, 1, 1, 2, 2, 33, 40, 26, 29, 45, 32, 38, 40, 41, 66, 37, 23, 19, 18, 12, 16, 11], \"type\": \"bar\", \"uid\": \"3c092602-f977-11e8-ab1c-9801a79eab69\"}, {\"name\": \"Saturday\", \"x\": [0, 1, 2, 3, 4, 5, 6, 7, 8, 9, 10, 11, 12, 13, 14, 15, 16, 17, 18, 19, 20, 21, 22, 23], \"y\": [7, 8, 16, 1, 2, 3, 3, 7, 16, 29, 35, 68, 58, 63, 63, 77, 50, 35, 21, 13, 17, 5, 9, 11], \"type\": \"bar\", \"uid\": \"3c0927ec-f977-11e8-bf25-9801a79eab69\"}, {\"name\": \"Sunday\", \"x\": [0, 1, 2, 3, 5, 6, 7, 8, 9, 10, 11, 12, 13, 14, 15, 16, 17, 18, 19, 20, 21, 22, 23], \"y\": [7, 4, 11, 2, 1, 2, 4, 16, 26, 41, 34, 41, 60, 51, 64, 47, 26, 19, 18, 10, 7, 6, 4], \"type\": \"bar\", \"uid\": \"3c0929b8-f977-11e8-88ea-9801a79eab69\"}], {\"bargap\": 0.25, \"bargroupgap\": 0.5, \"barmode\": \"group\", \"title\": \"Count of trips per hour on each weekday\", \"xaxis\": {\"title\": \"Time point of the day\"}, \"yaxis\": {\"tickfont\": {\"color\": \"rgb(107, 107, 107)\", \"size\": 14}, \"title\": \"Count of trips\", \"titlefont\": {\"color\": \"rgb(107, 107, 107)\", \"size\": 16}}}, {\"showLink\": true, \"linkText\": \"Export to plot.ly\"})});</script>"
      ],
      "text/vnd.plotly.v1+html": [
       "<div id=\"55e0f5c4-8d23-4766-885a-8759c7946f11\" style=\"height: 525px; width: 100%;\" class=\"plotly-graph-div\"></div><script type=\"text/javascript\">require([\"plotly\"], function(Plotly) { window.PLOTLYENV=window.PLOTLYENV || {};window.PLOTLYENV.BASE_URL=\"https://plot.ly\";Plotly.newPlot(\"55e0f5c4-8d23-4766-885a-8759c7946f11\", [{\"name\": \"Monday\", \"x\": [0, 1, 4, 5, 6, 7, 8, 9, 10, 11, 12, 13, 14, 15, 16, 17, 18, 19, 20, 21, 22, 23], \"y\": [3, 3, 3, 10, 8, 30, 39, 29, 31, 40, 24, 42, 29, 41, 69, 57, 25, 10, 7, 10, 8, 11], \"type\": \"bar\", \"uid\": \"3c0727ee-f977-11e8-be0e-9801a79eab69\"}, {\"name\": \"Tuesday\", \"x\": [0, 1, 2, 3, 5, 6, 7, 8, 9, 10, 11, 12, 13, 14, 15, 16, 17, 18, 19, 20, 21, 22, 23], \"y\": [4, 3, 4, 1, 2, 8, 25, 36, 28, 20, 35, 29, 41, 38, 60, 74, 54, 38, 32, 10, 16, 9, 9], \"type\": \"bar\", \"uid\": \"3c090122-f977-11e8-8abc-9801a79eab69\"}, {\"name\": \"Wednesday\", \"x\": [0, 1, 4, 5, 6, 7, 8, 9, 10, 11, 12, 13, 14, 15, 16, 17, 18, 19, 20, 21, 22, 23], \"y\": [6, 2, 1, 4, 13, 27, 26, 16, 22, 32, 45, 31, 41, 43, 72, 44, 22, 22, 8, 7, 15, 5], \"type\": \"bar\", \"uid\": \"3c092170-f977-11e8-bdaa-9801a79eab69\"}, {\"name\": \"Thursday\", \"x\": [0, 1, 2, 3, 5, 6, 7, 8, 9, 10, 11, 12, 13, 14, 15, 16, 17, 18, 19, 20, 21, 22, 23], \"y\": [1, 3, 3, 1, 7, 4, 39, 33, 17, 23, 22, 33, 32, 33, 39, 81, 45, 32, 27, 14, 18, 18, 12], \"type\": \"bar\", \"uid\": \"3c092406-f977-11e8-b5cb-9801a79eab69\"}, {\"name\": \"Friday\", \"x\": [0, 2, 3, 5, 6, 7, 8, 9, 10, 11, 12, 13, 14, 15, 16, 17, 18, 19, 20, 21, 22, 23], \"y\": [3, 1, 1, 2, 2, 33, 40, 26, 29, 45, 32, 38, 40, 41, 66, 37, 23, 19, 18, 12, 16, 11], \"type\": \"bar\", \"uid\": \"3c092602-f977-11e8-ab1c-9801a79eab69\"}, {\"name\": \"Saturday\", \"x\": [0, 1, 2, 3, 4, 5, 6, 7, 8, 9, 10, 11, 12, 13, 14, 15, 16, 17, 18, 19, 20, 21, 22, 23], \"y\": [7, 8, 16, 1, 2, 3, 3, 7, 16, 29, 35, 68, 58, 63, 63, 77, 50, 35, 21, 13, 17, 5, 9, 11], \"type\": \"bar\", \"uid\": \"3c0927ec-f977-11e8-bf25-9801a79eab69\"}, {\"name\": \"Sunday\", \"x\": [0, 1, 2, 3, 5, 6, 7, 8, 9, 10, 11, 12, 13, 14, 15, 16, 17, 18, 19, 20, 21, 22, 23], \"y\": [7, 4, 11, 2, 1, 2, 4, 16, 26, 41, 34, 41, 60, 51, 64, 47, 26, 19, 18, 10, 7, 6, 4], \"type\": \"bar\", \"uid\": \"3c0929b8-f977-11e8-88ea-9801a79eab69\"}], {\"bargap\": 0.25, \"bargroupgap\": 0.5, \"barmode\": \"group\", \"title\": \"Count of trips per hour on each weekday\", \"xaxis\": {\"title\": \"Time point of the day\"}, \"yaxis\": {\"tickfont\": {\"color\": \"rgb(107, 107, 107)\", \"size\": 14}, \"title\": \"Count of trips\", \"titlefont\": {\"color\": \"rgb(107, 107, 107)\", \"size\": 16}}}, {\"showLink\": true, \"linkText\": \"Export to plot.ly\"})});</script>"
      ]
     },
     "metadata": {},
     "output_type": "display_data"
    }
   ],
   "source": [
    "# Count the bike usage per hour on each day, sum up those counts number for each day\n",
    "data = []\n",
    "day = [\"Monday\",'Tuesday','Wednesday','Thursday','Friday','Saturday','Sunday']\n",
    "for j,i in enumerate(bike_df.started_at.dt.dayofweek.unique()):\n",
    "    data.append(\n",
    "        go.Bar(\n",
    "            # How many hours in a day\n",
    "            x=bike_df[bike_df.started_at.dt.dayofweek==i].started_at.dt.hour.value_counts().sort_index().index,\n",
    "            # Counts of trips per hour in a day\n",
    "            y=bike_df[bike_df.started_at.dt.dayofweek==i].started_at.dt.hour.value_counts().sort_index(),\n",
    "            # legend\n",
    "            name=day[j]\n",
    "        )\n",
    "    )\n",
    "\n",
    "    \n",
    "# Set the feature of the chart\n",
    "layout = go.Layout(\n",
    "    title='Count of trips per hour on each weekday',\n",
    "    xaxis=dict(\n",
    "        title='Time point of the day'\n",
    "        ),\n",
    "    yaxis=dict(\n",
    "        title='Count of trips',\n",
    "        titlefont=dict(\n",
    "            size=16,\n",
    "            color='rgb(107, 107, 107)'\n",
    "        ),\n",
    "        tickfont=dict(\n",
    "            size=14,\n",
    "            color='rgb(107, 107, 107)'\n",
    "        )\n",
    "    ),\n",
    "    barmode='group',\n",
    "    bargap=0.25,\n",
    "    bargroupgap=0.5\n",
    ")\n",
    "\n",
    "# Plot the graph\n",
    "fig = go.Figure(data=data, layout=layout)\n",
    "iplot(fig, filename='basic-bar')"
   ]
  },
  {
   "cell_type": "markdown",
   "metadata": {},
   "source": [
    "- We can select the day to be shown by clicking the right-hand-side legend.\n",
    "- As shown in the chart, 16:00-17:00 is the most common time of day for journeys to be undertaken.\n",
    "- 11:00-18:00 is the popular time interval of the day.\n",
    "\n",
    "    I try to compare the difference of bike usage between different days. However, there are 5 Mondays and Tuesdays in October, and as for other days, there are only 4. In this case, as the above chart is an absolute count of the trips on each day, the outputs are not comparable between Monday/Tuesday with other days. So I also make a chart of average count on each week per day, which could be used to compare within the week."
   ]
  },
  {
   "cell_type": "code",
   "execution_count": 13,
   "metadata": {},
   "outputs": [
    {
     "data": {
      "application/vnd.plotly.v1+json": {
       "data": [
        {
         "name": "Monday",
         "type": "bar",
         "uid": "3c2bdc58-f977-11e8-bbb2-9801a79eab69",
         "x": [
          0,
          1,
          4,
          5,
          6,
          7,
          8,
          9,
          10,
          11,
          12,
          13,
          14,
          15,
          16,
          17,
          18,
          19,
          20,
          21,
          22,
          23
         ],
         "y": [
          0.6,
          0.6,
          0.6,
          2,
          1.6,
          6,
          7.8,
          5.8,
          6.2,
          8,
          4.8,
          8.4,
          5.8,
          8.2,
          13.8,
          11.4,
          5,
          2,
          1.4,
          2,
          1.6,
          2.2
         ]
        },
        {
         "name": "Tuesday",
         "type": "bar",
         "uid": "3c2bdf62-f977-11e8-be07-9801a79eab69",
         "x": [
          0,
          1,
          2,
          3,
          5,
          6,
          7,
          8,
          9,
          10,
          11,
          12,
          13,
          14,
          15,
          16,
          17,
          18,
          19,
          20,
          21,
          22,
          23
         ],
         "y": [
          0.8,
          0.6,
          0.8,
          0.2,
          0.4,
          1.6,
          5,
          7.2,
          5.6,
          4,
          7,
          5.8,
          8.2,
          7.6,
          12,
          14.8,
          10.8,
          7.6,
          6.4,
          2,
          3.2,
          1.8,
          1.8
         ]
        },
        {
         "name": "Wednesday",
         "type": "bar",
         "uid": "3c2be110-f977-11e8-9710-9801a79eab69",
         "x": [
          0,
          1,
          4,
          5,
          6,
          7,
          8,
          9,
          10,
          11,
          12,
          13,
          14,
          15,
          16,
          17,
          18,
          19,
          20,
          21,
          22,
          23
         ],
         "y": [
          1.5,
          0.5,
          0.25,
          1,
          3.25,
          6.75,
          6.5,
          4,
          5.5,
          8,
          11.25,
          7.75,
          10.25,
          10.75,
          18,
          11,
          5.5,
          5.5,
          2,
          1.75,
          3.75,
          1.25
         ]
        },
        {
         "name": "Thursday",
         "type": "bar",
         "uid": "3c2be26e-f977-11e8-b2a8-9801a79eab69",
         "x": [
          0,
          1,
          2,
          3,
          5,
          6,
          7,
          8,
          9,
          10,
          11,
          12,
          13,
          14,
          15,
          16,
          17,
          18,
          19,
          20,
          21,
          22,
          23
         ],
         "y": [
          0.25,
          0.75,
          0.75,
          0.25,
          1.75,
          1,
          9.75,
          8.25,
          4.25,
          5.75,
          5.5,
          8.25,
          8,
          8.25,
          9.75,
          20.25,
          11.25,
          8,
          6.75,
          3.5,
          4.5,
          4.5,
          3
         ]
        },
        {
         "name": "Friday",
         "type": "bar",
         "uid": "3c2be3c2-f977-11e8-8161-9801a79eab69",
         "x": [
          0,
          2,
          3,
          5,
          6,
          7,
          8,
          9,
          10,
          11,
          12,
          13,
          14,
          15,
          16,
          17,
          18,
          19,
          20,
          21,
          22,
          23
         ],
         "y": [
          0.75,
          0.25,
          0.25,
          0.5,
          0.5,
          8.25,
          10,
          6.5,
          7.25,
          11.25,
          8,
          9.5,
          10,
          10.25,
          16.5,
          9.25,
          5.75,
          4.75,
          4.5,
          3,
          4,
          2.75
         ]
        },
        {
         "name": "Saturday",
         "type": "bar",
         "uid": "3c2be518-f977-11e8-b782-9801a79eab69",
         "x": [
          0,
          1,
          2,
          3,
          4,
          5,
          6,
          7,
          8,
          9,
          10,
          11,
          12,
          13,
          14,
          15,
          16,
          17,
          18,
          19,
          20,
          21,
          22,
          23
         ],
         "y": [
          1.75,
          2,
          4,
          0.25,
          0.5,
          0.75,
          0.75,
          1.75,
          4,
          7.25,
          8.75,
          17,
          14.5,
          15.75,
          15.75,
          19.25,
          12.5,
          8.75,
          5.25,
          3.25,
          4.25,
          1.25,
          2.25,
          2.75
         ]
        },
        {
         "name": "Sunday",
         "type": "bar",
         "uid": "3c2be64c-f977-11e8-8bcd-9801a79eab69",
         "x": [
          0,
          1,
          2,
          3,
          5,
          6,
          7,
          8,
          9,
          10,
          11,
          12,
          13,
          14,
          15,
          16,
          17,
          18,
          19,
          20,
          21,
          22,
          23
         ],
         "y": [
          1.75,
          1,
          2.75,
          0.5,
          0.25,
          0.5,
          1,
          4,
          6.5,
          10.25,
          8.5,
          10.25,
          15,
          12.75,
          16,
          11.75,
          6.5,
          4.75,
          4.5,
          2.5,
          1.75,
          1.5,
          1
         ]
        }
       ],
       "layout": {
        "bargap": 0.25,
        "bargroupgap": 0.5,
        "barmode": "group",
        "title": "Average trips per hour on each day of the week",
        "xaxis": {
         "title": "Time point of the day"
        },
        "yaxis": {
         "tickfont": {
          "color": "rgb(107, 107, 107)",
          "size": 14
         },
         "title": "Average trips",
         "titlefont": {
          "color": "rgb(107, 107, 107)",
          "size": 16
         }
        }
       }
      },
      "text/html": [
       "<div id=\"d0e8f371-7292-4a5f-99ce-ccd3b9bf88b3\" style=\"height: 525px; width: 100%;\" class=\"plotly-graph-div\"></div><script type=\"text/javascript\">require([\"plotly\"], function(Plotly) { window.PLOTLYENV=window.PLOTLYENV || {};window.PLOTLYENV.BASE_URL=\"https://plot.ly\";Plotly.newPlot(\"d0e8f371-7292-4a5f-99ce-ccd3b9bf88b3\", [{\"name\": \"Monday\", \"x\": [0, 1, 4, 5, 6, 7, 8, 9, 10, 11, 12, 13, 14, 15, 16, 17, 18, 19, 20, 21, 22, 23], \"y\": [0.6, 0.6, 0.6, 2.0, 1.6, 6.0, 7.8, 5.8, 6.2, 8.0, 4.8, 8.4, 5.8, 8.2, 13.8, 11.4, 5.0, 2.0, 1.4, 2.0, 1.6, 2.2], \"type\": \"bar\", \"uid\": \"3c2bdc58-f977-11e8-bbb2-9801a79eab69\"}, {\"name\": \"Tuesday\", \"x\": [0, 1, 2, 3, 5, 6, 7, 8, 9, 10, 11, 12, 13, 14, 15, 16, 17, 18, 19, 20, 21, 22, 23], \"y\": [0.8, 0.6, 0.8, 0.2, 0.4, 1.6, 5.0, 7.2, 5.6, 4.0, 7.0, 5.8, 8.2, 7.6, 12.0, 14.8, 10.8, 7.6, 6.4, 2.0, 3.2, 1.8, 1.8], \"type\": \"bar\", \"uid\": \"3c2bdf62-f977-11e8-be07-9801a79eab69\"}, {\"name\": \"Wednesday\", \"x\": [0, 1, 4, 5, 6, 7, 8, 9, 10, 11, 12, 13, 14, 15, 16, 17, 18, 19, 20, 21, 22, 23], \"y\": [1.5, 0.5, 0.25, 1.0, 3.25, 6.75, 6.5, 4.0, 5.5, 8.0, 11.25, 7.75, 10.25, 10.75, 18.0, 11.0, 5.5, 5.5, 2.0, 1.75, 3.75, 1.25], \"type\": \"bar\", \"uid\": \"3c2be110-f977-11e8-9710-9801a79eab69\"}, {\"name\": \"Thursday\", \"x\": [0, 1, 2, 3, 5, 6, 7, 8, 9, 10, 11, 12, 13, 14, 15, 16, 17, 18, 19, 20, 21, 22, 23], \"y\": [0.25, 0.75, 0.75, 0.25, 1.75, 1.0, 9.75, 8.25, 4.25, 5.75, 5.5, 8.25, 8.0, 8.25, 9.75, 20.25, 11.25, 8.0, 6.75, 3.5, 4.5, 4.5, 3.0], \"type\": \"bar\", \"uid\": \"3c2be26e-f977-11e8-b2a8-9801a79eab69\"}, {\"name\": \"Friday\", \"x\": [0, 2, 3, 5, 6, 7, 8, 9, 10, 11, 12, 13, 14, 15, 16, 17, 18, 19, 20, 21, 22, 23], \"y\": [0.75, 0.25, 0.25, 0.5, 0.5, 8.25, 10.0, 6.5, 7.25, 11.25, 8.0, 9.5, 10.0, 10.25, 16.5, 9.25, 5.75, 4.75, 4.5, 3.0, 4.0, 2.75], \"type\": \"bar\", \"uid\": \"3c2be3c2-f977-11e8-8161-9801a79eab69\"}, {\"name\": \"Saturday\", \"x\": [0, 1, 2, 3, 4, 5, 6, 7, 8, 9, 10, 11, 12, 13, 14, 15, 16, 17, 18, 19, 20, 21, 22, 23], \"y\": [1.75, 2.0, 4.0, 0.25, 0.5, 0.75, 0.75, 1.75, 4.0, 7.25, 8.75, 17.0, 14.5, 15.75, 15.75, 19.25, 12.5, 8.75, 5.25, 3.25, 4.25, 1.25, 2.25, 2.75], \"type\": \"bar\", \"uid\": \"3c2be518-f977-11e8-b782-9801a79eab69\"}, {\"name\": \"Sunday\", \"x\": [0, 1, 2, 3, 5, 6, 7, 8, 9, 10, 11, 12, 13, 14, 15, 16, 17, 18, 19, 20, 21, 22, 23], \"y\": [1.75, 1.0, 2.75, 0.5, 0.25, 0.5, 1.0, 4.0, 6.5, 10.25, 8.5, 10.25, 15.0, 12.75, 16.0, 11.75, 6.5, 4.75, 4.5, 2.5, 1.75, 1.5, 1.0], \"type\": \"bar\", \"uid\": \"3c2be64c-f977-11e8-8bcd-9801a79eab69\"}], {\"bargap\": 0.25, \"bargroupgap\": 0.5, \"barmode\": \"group\", \"title\": \"Average trips per hour on each day of the week\", \"xaxis\": {\"title\": \"Time point of the day\"}, \"yaxis\": {\"tickfont\": {\"color\": \"rgb(107, 107, 107)\", \"size\": 14}, \"title\": \"Average trips\", \"titlefont\": {\"color\": \"rgb(107, 107, 107)\", \"size\": 16}}}, {\"showLink\": true, \"linkText\": \"Export to plot.ly\"})});</script>"
      ],
      "text/vnd.plotly.v1+html": [
       "<div id=\"d0e8f371-7292-4a5f-99ce-ccd3b9bf88b3\" style=\"height: 525px; width: 100%;\" class=\"plotly-graph-div\"></div><script type=\"text/javascript\">require([\"plotly\"], function(Plotly) { window.PLOTLYENV=window.PLOTLYENV || {};window.PLOTLYENV.BASE_URL=\"https://plot.ly\";Plotly.newPlot(\"d0e8f371-7292-4a5f-99ce-ccd3b9bf88b3\", [{\"name\": \"Monday\", \"x\": [0, 1, 4, 5, 6, 7, 8, 9, 10, 11, 12, 13, 14, 15, 16, 17, 18, 19, 20, 21, 22, 23], \"y\": [0.6, 0.6, 0.6, 2.0, 1.6, 6.0, 7.8, 5.8, 6.2, 8.0, 4.8, 8.4, 5.8, 8.2, 13.8, 11.4, 5.0, 2.0, 1.4, 2.0, 1.6, 2.2], \"type\": \"bar\", \"uid\": \"3c2bdc58-f977-11e8-bbb2-9801a79eab69\"}, {\"name\": \"Tuesday\", \"x\": [0, 1, 2, 3, 5, 6, 7, 8, 9, 10, 11, 12, 13, 14, 15, 16, 17, 18, 19, 20, 21, 22, 23], \"y\": [0.8, 0.6, 0.8, 0.2, 0.4, 1.6, 5.0, 7.2, 5.6, 4.0, 7.0, 5.8, 8.2, 7.6, 12.0, 14.8, 10.8, 7.6, 6.4, 2.0, 3.2, 1.8, 1.8], \"type\": \"bar\", \"uid\": \"3c2bdf62-f977-11e8-be07-9801a79eab69\"}, {\"name\": \"Wednesday\", \"x\": [0, 1, 4, 5, 6, 7, 8, 9, 10, 11, 12, 13, 14, 15, 16, 17, 18, 19, 20, 21, 22, 23], \"y\": [1.5, 0.5, 0.25, 1.0, 3.25, 6.75, 6.5, 4.0, 5.5, 8.0, 11.25, 7.75, 10.25, 10.75, 18.0, 11.0, 5.5, 5.5, 2.0, 1.75, 3.75, 1.25], \"type\": \"bar\", \"uid\": \"3c2be110-f977-11e8-9710-9801a79eab69\"}, {\"name\": \"Thursday\", \"x\": [0, 1, 2, 3, 5, 6, 7, 8, 9, 10, 11, 12, 13, 14, 15, 16, 17, 18, 19, 20, 21, 22, 23], \"y\": [0.25, 0.75, 0.75, 0.25, 1.75, 1.0, 9.75, 8.25, 4.25, 5.75, 5.5, 8.25, 8.0, 8.25, 9.75, 20.25, 11.25, 8.0, 6.75, 3.5, 4.5, 4.5, 3.0], \"type\": \"bar\", \"uid\": \"3c2be26e-f977-11e8-b2a8-9801a79eab69\"}, {\"name\": \"Friday\", \"x\": [0, 2, 3, 5, 6, 7, 8, 9, 10, 11, 12, 13, 14, 15, 16, 17, 18, 19, 20, 21, 22, 23], \"y\": [0.75, 0.25, 0.25, 0.5, 0.5, 8.25, 10.0, 6.5, 7.25, 11.25, 8.0, 9.5, 10.0, 10.25, 16.5, 9.25, 5.75, 4.75, 4.5, 3.0, 4.0, 2.75], \"type\": \"bar\", \"uid\": \"3c2be3c2-f977-11e8-8161-9801a79eab69\"}, {\"name\": \"Saturday\", \"x\": [0, 1, 2, 3, 4, 5, 6, 7, 8, 9, 10, 11, 12, 13, 14, 15, 16, 17, 18, 19, 20, 21, 22, 23], \"y\": [1.75, 2.0, 4.0, 0.25, 0.5, 0.75, 0.75, 1.75, 4.0, 7.25, 8.75, 17.0, 14.5, 15.75, 15.75, 19.25, 12.5, 8.75, 5.25, 3.25, 4.25, 1.25, 2.25, 2.75], \"type\": \"bar\", \"uid\": \"3c2be518-f977-11e8-b782-9801a79eab69\"}, {\"name\": \"Sunday\", \"x\": [0, 1, 2, 3, 5, 6, 7, 8, 9, 10, 11, 12, 13, 14, 15, 16, 17, 18, 19, 20, 21, 22, 23], \"y\": [1.75, 1.0, 2.75, 0.5, 0.25, 0.5, 1.0, 4.0, 6.5, 10.25, 8.5, 10.25, 15.0, 12.75, 16.0, 11.75, 6.5, 4.75, 4.5, 2.5, 1.75, 1.5, 1.0], \"type\": \"bar\", \"uid\": \"3c2be64c-f977-11e8-8bcd-9801a79eab69\"}], {\"bargap\": 0.25, \"bargroupgap\": 0.5, \"barmode\": \"group\", \"title\": \"Average trips per hour on each day of the week\", \"xaxis\": {\"title\": \"Time point of the day\"}, \"yaxis\": {\"tickfont\": {\"color\": \"rgb(107, 107, 107)\", \"size\": 14}, \"title\": \"Average trips\", \"titlefont\": {\"color\": \"rgb(107, 107, 107)\", \"size\": 16}}}, {\"showLink\": true, \"linkText\": \"Export to plot.ly\"})});</script>"
      ]
     },
     "metadata": {},
     "output_type": "display_data"
    }
   ],
   "source": [
    "# Count the bike usage per hour on each day, average those counts number for each day\n",
    "data = []\n",
    "day = [\"Monday\",'Tuesday','Wednesday','Thursday','Friday','Saturday','Sunday']\n",
    "for j,i in enumerate(bike_df.started_at.dt.dayofweek.unique()):\n",
    "    data.append(\n",
    "        go.Bar(\n",
    "            # How many hours in a day\n",
    "            x=bike_df[bike_df.started_at.dt.dayofweek==i].started_at.dt.hour.value_counts().sort_index().index,\n",
    "            # Average the counts of trips per hour in a day\n",
    "            y=(bike_df[bike_df.started_at.dt.dayofweek==i].started_at.dt.hour.value_counts()/\n",
    "               len(bike_df[bike_df.started_at.dt.dayofweek==i].started_at.dt.day.value_counts())).sort_index(),\n",
    "            # Legend\n",
    "            name=day[j]\n",
    "        )\n",
    "    )\n",
    "\n",
    "\n",
    "# Set the feature of the chart\n",
    "layout = go.Layout(\n",
    "    title='Average trips per hour on each day of the week',\n",
    "    xaxis=dict(\n",
    "        title='Time point of the day'\n",
    "        ),\n",
    "    yaxis=dict(\n",
    "        title='Average trips',\n",
    "        titlefont=dict(\n",
    "            size=16,\n",
    "            color='rgb(107, 107, 107)'\n",
    "        ),\n",
    "        tickfont=dict(\n",
    "            size=14,\n",
    "            color='rgb(107, 107, 107)'\n",
    "        )\n",
    "    ),\n",
    "    barmode='group',\n",
    "    bargap=0.25,\n",
    "    bargroupgap=0.5\n",
    ")\n",
    "\n",
    "# Plot the graph\n",
    "fig = go.Figure(data=data, layout=layout)\n",
    "iplot(fig, filename='basic-bar')"
   ]
  },
  {
   "cell_type": "markdown",
   "metadata": {},
   "source": [
    "- The peak time for workdays is 16:00-17:00, but as for weekends, peak time is 15:00-16:00.\n",
    "- Concluded from the chart, for the 9:00-12:00 and 13:00-16:00 period, the average usage of bikes on weekends is greater than on workdays.\n",
    "- On workdays, bike rental starts to become busy at 7:00. As for the weekends, the bike rental gets busy later than 9:00.\n",
    "- Saturday is the busiest day of one week."
   ]
  },
  {
   "cell_type": "markdown",
   "metadata": {},
   "source": [
    "#### Q4. Can you process the geographic information (latitudes and longitudes of start and end stations), and display this in an interesting way?"
   ]
  },
  {
   "cell_type": "markdown",
   "metadata": {},
   "source": [
    "- I use mapbox to creat a real map of the city of Edinburgh in this part. \n",
    "- Each trip is illustrates as a yellow line on the map, and each station is denoted by a blue node on the map."
   ]
  },
  {
   "cell_type": "code",
   "execution_count": 14,
   "metadata": {},
   "outputs": [],
   "source": [
    "# Extract the description of the stations\n",
    "locations_name = bike_df.start_station_description\n",
    "\n",
    "# add my mapbox access token\n",
    "mapbox_access_token = 'pk.eyJ1IjoieWluZ2ppYSIsImEiOiJjam95a2gwZTIyY2kxM3dsaGNyMGczcWh5In0.fJzSzMjPKKWYMKu7ev8LRg'"
   ]
  },
  {
   "cell_type": "code",
   "execution_count": 15,
   "metadata": {},
   "outputs": [],
   "source": [
    "# Fill the station location(latitude and logitude) and name\n",
    "data = [\n",
    "    go.Scattermapbox(\n",
    "        # Latitude and Longitude of the stations\n",
    "        lat = bike_df.start_station_latitude,\n",
    "        lon = bike_df.start_station_longitude,\n",
    "        mode = 'markers',\n",
    "        marker = dict(\n",
    "            size = 9,\n",
    "            color = '#31abf6'\n",
    "        ),\n",
    "        text = locations_name,\n",
    "    )\n",
    "]"
   ]
  },
  {
   "cell_type": "code",
   "execution_count": 16,
   "metadata": {},
   "outputs": [],
   "source": [
    "# Adjust the location data to the GoeJSON format coordinates, fill the datas into 'route'\n",
    "start_lon = bike_df.start_station_longitude.values.tolist()\n",
    "start_lat = bike_df.start_station_latitude.values.tolist()\n",
    "end_lon = bike_df.end_station_longitude.values.tolist()\n",
    "end_lat = bike_df.end_station_latitude.values.tolist()\n",
    "route = [[[start_lon[i], start_lat[i]], [end_lon[i], end_lat[i]]] for i in range(len(start_lon))]"
   ]
  },
  {
   "cell_type": "code",
   "execution_count": 17,
   "metadata": {},
   "outputs": [],
   "source": [
    "# Construct the GeoJSON type dict\n",
    "the_geojson_type_dict = {\n",
    "    \"geometry\": {\n",
    "    \"coordinates\": route,\n",
    "    \"type\": \"MultiLineString\"\n",
    "  },\n",
    "  \"type\": \"Feature\",\n",
    "  \"properties\": {}\n",
    "}"
   ]
  },
  {
   "cell_type": "code",
   "execution_count": 18,
   "metadata": {},
   "outputs": [],
   "source": [
    "# Fill in the GeoJSON type dict to the layer\n",
    "layers = [\n",
    "    dict(sourcetype = 'geojson',\n",
    "    source = the_geojson_type_dict,\n",
    "    color = '#f6b131',\n",
    "    type = 'line',\n",
    "    line = dict(width=0.3),\n",
    "   )\n",
    "]  "
   ]
  },
  {
   "cell_type": "code",
   "execution_count": 19,
   "metadata": {},
   "outputs": [],
   "source": [
    "# Set the size and the location of the layout map \n",
    "layout = go.Layout(\n",
    "    autosize=True,\n",
    "    hovermode='closest',\n",
    "    mapbox=dict(\n",
    "        accesstoken=mapbox_access_token,\n",
    "        layers=layers,\n",
    "        bearing=0,\n",
    "        center=dict(\n",
    "            # This is the approximate location of Edinburgh Centre\n",
    "            lat=55.945,\n",
    "            lon=-3.185\n",
    "        ),\n",
    "        pitch=0,\n",
    "        zoom=12\n",
    "    ),\n",
    ")"
   ]
  },
  {
   "cell_type": "code",
   "execution_count": 20,
   "metadata": {},
   "outputs": [
    {
     "data": {
      "text/html": [
       "<iframe id=\"igraph\" scrolling=\"no\" style=\"border:none;\" seamless=\"seamless\" src=\"https://plot.ly/~Yingjia/6.embed\" height=\"525px\" width=\"100%\"></iframe>"
      ],
      "text/plain": [
       "<plotly.tools.PlotlyDisplay object>"
      ]
     },
     "execution_count": 20,
     "metadata": {},
     "output_type": "execute_result"
    }
   ],
   "source": [
    "# Plot the map\n",
    "fig = dict(data=data, layout=layout)\n",
    "py.iplot(fig, filename='Multiple Mapbox')"
   ]
  },
  {
   "cell_type": "markdown",
   "metadata": {
    "scrolled": true
   },
   "source": [
    "#### Q5. Can you use the data to answer any other interesting questions about the bike trips?"
   ]
  },
  {
   "cell_type": "markdown",
   "metadata": {},
   "source": [
    "**First, I try to figure out which is the busiest workday.**"
   ]
  },
  {
   "cell_type": "code",
   "execution_count": 21,
   "metadata": {},
   "outputs": [
    {
     "name": "stdout",
     "output_type": "stream",
     "text": [
      "105.8\n",
      "115.2\n",
      "126.0\n",
      "134.25\n",
      "133.75\n",
      "154.25\n",
      "125.25\n"
     ]
    }
   ],
   "source": [
    "# Calculate the average all day bike usage of each weekday\n",
    "for i in range(7):\n",
    "    y = (bike_df[bike_df.started_at.dt.dayofweek==i].started_at.dt.hour.value_counts()/\n",
    "    len(bike_df[bike_df.started_at.dt.dayofweek==i].started_at.dt.day.value_counts())).sort_index()\n",
    "    print(sum(y))"
   ]
  },
  {
   "cell_type": "markdown",
   "metadata": {},
   "source": [
    "- Thus, Thursday is the busiest workday, it is slightly busier than Friday. Meanwhile, Saturday is the busiest day of the week."
   ]
  },
  {
   "cell_type": "markdown",
   "metadata": {},
   "source": [
    "**Next, I try to discover the which stations have largest demand on different days. I think this might be helpful for making decision about the allocation of number of bikes to different stations on different days.**"
   ]
  },
  {
   "cell_type": "code",
   "execution_count": 22,
   "metadata": {},
   "outputs": [
    {
     "data": {
      "application/vnd.plotly.v1+json": {
       "data": [
        {
         "name": "Monday",
         "type": "bar",
         "uid": "3edd359e-f977-11e8-a8b9-9801a79eab69",
         "x": [
          "Bristo Square",
          "Brunswick Place",
          "Bruntsfield",
          "Canonmills",
          "Castle Street",
          "Charlotte Square",
          "City Chambers",
          "Fountainbridge",
          "George Square",
          "Kings Building 2",
          "Kings Building 3",
          "Kings Buildings 1",
          "Kings Buildings 4",
          "Lauriston Place",
          "Leith Links",
          "Meadows East",
          "Ocean Terminal",
          "Pollock Halls",
          "Portobello",
          "Riego Street",
          "Royal Commonwealth Pool",
          "Shrubhill",
          "St Andrew Square",
          "St Andrews House",
          "Stockbridge",
          "Victoria Park",
          "Victoria Quay",
          "Waitrose, Comely Bank",
          "Waverley Bridge",
          "Waverley Court",
          "Waverley Station"
         ],
         "y": [
          9.4,
          3.4,
          1,
          4,
          1.8,
          4.2,
          2.4,
          6.6,
          6.2,
          2.6,
          3.8,
          1.2,
          1,
          5.2,
          2.2,
          7.8,
          0.8,
          4.4,
          5.8,
          3,
          4,
          2,
          5.6,
          0.6,
          2.8,
          0.6,
          4.6,
          1,
          3,
          2,
          2.8
         ]
        },
        {
         "name": "Tuesday",
         "type": "bar",
         "uid": "3edd3724-f977-11e8-928f-9801a79eab69",
         "x": [
          "Bristo Square",
          "Brunswick Place",
          "Bruntsfield",
          "Canonmills",
          "Castle Street",
          "Charlotte Square",
          "City Chambers",
          "Fountainbridge",
          "George Square",
          "Kings Building 2",
          "Kings Building 3",
          "Kings Buildings 1",
          "Kings Buildings 4",
          "Lauriston Place",
          "Leith Links",
          "Meadows East",
          "Ocean Terminal",
          "Pollock Halls",
          "Portobello",
          "Riego Street",
          "Royal Commonwealth Pool",
          "Shrubhill",
          "St Andrew Square",
          "St Andrews House",
          "Stockbridge",
          "Victoria Park",
          "Victoria Quay",
          "Waitrose, Comely Bank",
          "Waverley Bridge",
          "Waverley Court",
          "Waverley Station"
         ],
         "y": [
          8,
          6,
          0.4,
          7.6,
          0.4,
          5.8,
          3.2,
          7.8,
          8.6,
          3,
          6.2,
          1.2,
          0.4,
          8,
          1,
          5.8,
          0.6,
          5.8,
          2.8,
          1.4,
          3.2,
          1.8,
          6.4,
          1,
          4,
          2,
          4.8,
          0.2,
          2.6,
          2.6,
          2.6
         ]
        },
        {
         "name": "Wednesday",
         "type": "bar",
         "uid": "3edd3800-f977-11e8-9685-9801a79eab69",
         "x": [
          "Bristo Square",
          "Brunswick Place",
          "Canonmills",
          "Charlotte Square",
          "City Chambers",
          "Fountainbridge",
          "George Square",
          "Kings Building 2",
          "Kings Building 3",
          "Kings Buildings 1",
          "Kings Buildings 4",
          "Lauriston Place",
          "Leith Links",
          "Meadows East",
          "Ocean Terminal",
          "Pollock Halls",
          "Portobello",
          "Riego Street",
          "Royal Commonwealth Pool",
          "Shrubhill",
          "St Andrew Square",
          "St Andrews House",
          "Stockbridge",
          "Victoria Park",
          "Victoria Quay",
          "Waitrose, Comely Bank",
          "Waverley Bridge",
          "Waverley Court",
          "Waverley Station"
         ],
         "y": [
          10,
          5.75,
          5.5,
          8,
          3,
          12.5,
          10.75,
          2.5,
          3.5,
          1.5,
          1.5,
          7.25,
          1.75,
          6.5,
          0.25,
          5,
          1.5,
          3,
          6.75,
          2.25,
          9.25,
          0.75,
          3.25,
          1,
          4.25,
          0.75,
          4.5,
          1.5,
          2
         ]
        },
        {
         "name": "Thursday",
         "type": "bar",
         "uid": "3edd38b4-f977-11e8-bd1a-9801a79eab69",
         "x": [
          "Bristo Square",
          "Brunswick Place",
          "Canonmills",
          "Castle Street",
          "Charlotte Square",
          "City Chambers",
          "Fountainbridge",
          "George Square",
          "Kings Building 2",
          "Kings Building 3",
          "Kings Buildings 1",
          "Kings Buildings 4",
          "Lauriston Place",
          "Leith Links",
          "Meadows East",
          "Ocean Terminal",
          "Pollock Halls",
          "Portobello",
          "Riego Street",
          "Royal Commonwealth Pool",
          "Shrubhill",
          "St Andrew Square",
          "St Andrews House",
          "Stockbridge",
          "Victoria Park",
          "Victoria Quay",
          "Waitrose, Comely Bank",
          "Waverley Bridge",
          "Waverley Court",
          "Waverley Station"
         ],
         "y": [
          9,
          5,
          5.25,
          0.75,
          5.5,
          2.75,
          10,
          9,
          3.25,
          7.25,
          1.25,
          0.75,
          6.75,
          3.25,
          9.25,
          2,
          6.75,
          3.25,
          7,
          2.25,
          5.25,
          5,
          3,
          4.25,
          2.5,
          3.75,
          0.75,
          5,
          1.75,
          2.75
         ]
        },
        {
         "name": "Friday",
         "type": "bar",
         "uid": "3edd395e-f977-11e8-80ee-9801a79eab69",
         "x": [
          "Bristo Square",
          "Brunswick Place",
          "Bruntsfield",
          "Canonmills",
          "Castle Street",
          "Charlotte Square",
          "City Chambers",
          "Fountainbridge",
          "George Square",
          "Kings Building 2",
          "Kings Building 3",
          "Kings Buildings 1",
          "Kings Buildings 4",
          "Lauriston Place",
          "Leith Links",
          "Meadows East",
          "Ocean Terminal",
          "Pollock Halls",
          "Portobello",
          "Riego Street",
          "Royal Commonwealth Pool",
          "Shrubhill",
          "St Andrew Square",
          "St Andrews House",
          "Stockbridge",
          "Victoria Park",
          "Victoria Quay",
          "Waitrose, Comely Bank",
          "Waverley Bridge",
          "Waverley Court",
          "Waverley Station"
         ],
         "y": [
          11.25,
          5.5,
          0.5,
          7,
          2.25,
          5.75,
          1.75,
          12.5,
          6.25,
          2.5,
          3,
          0.75,
          0.25,
          8,
          4,
          8.75,
          1.5,
          5.75,
          2.25,
          6,
          5.5,
          4.5,
          7.5,
          1.25,
          3.75,
          3.25,
          3,
          2,
          2.5,
          2.25,
          2.75
         ]
        },
        {
         "name": "Saturday",
         "type": "bar",
         "uid": "3edd39fe-f977-11e8-b8c6-9801a79eab69",
         "x": [
          "Bristo Square",
          "Brunswick Place",
          "Bruntsfield",
          "Canonmills",
          "Castle Street",
          "Charlotte Square",
          "City Chambers",
          "Fountainbridge",
          "George Square",
          "Kings Building 2",
          "Kings Building 3",
          "Kings Buildings 1",
          "Lauriston Place",
          "Leith Links",
          "Meadows East",
          "Ocean Terminal",
          "Pollock Halls",
          "Portobello",
          "Riego Street",
          "Royal Commonwealth Pool",
          "Shrubhill",
          "St Andrew Square",
          "St Andrews House",
          "Stockbridge",
          "Victoria Park",
          "Victoria Quay",
          "Waitrose, Comely Bank",
          "Waverley Bridge",
          "Waverley Court",
          "Waverley Station"
         ],
         "y": [
          12,
          7,
          1.25,
          9,
          1.25,
          5.25,
          3.25,
          8.5,
          9.75,
          1,
          1.5,
          0.25,
          5.5,
          4.75,
          7.75,
          3.5,
          4.75,
          16,
          3.25,
          3.5,
          3.5,
          9.5,
          3.75,
          7.25,
          2.25,
          8.25,
          2.25,
          5.5,
          1.25,
          1.75
         ]
        },
        {
         "name": "Sunday",
         "type": "bar",
         "uid": "3edd3a9e-f977-11e8-aed6-9801a79eab69",
         "x": [
          "Bristo Square",
          "Brunswick Place",
          "Bruntsfield",
          "Canonmills",
          "Castle Street",
          "Charlotte Square",
          "City Chambers",
          "Fountainbridge",
          "George Square",
          "Kings Building 2",
          "Kings Building 3",
          "Kings Buildings 1",
          "Lauriston Place",
          "Leith Links",
          "Meadows East",
          "Ocean Terminal",
          "Pollock Halls",
          "Portobello",
          "Riego Street",
          "Royal Commonwealth Pool",
          "Shrubhill",
          "St Andrew Square",
          "St Andrews House",
          "Stockbridge",
          "Victoria Park",
          "Victoria Quay",
          "Waitrose, Comely Bank",
          "Waverley Bridge",
          "Waverley Court",
          "Waverley Station"
         ],
         "y": [
          10.75,
          8.5,
          2.25,
          9.75,
          1.5,
          3,
          3.25,
          7.25,
          5.75,
          1.5,
          1.25,
          0.25,
          3.25,
          7.25,
          4.5,
          2.75,
          1.75,
          13.25,
          2.25,
          2,
          4.5,
          4,
          3,
          5.5,
          1,
          8.25,
          1,
          3.5,
          0.75,
          1.75
         ]
        }
       ],
       "layout": {
        "bargap": 0.25,
        "bargroupgap": 0.5,
        "barmode": "group",
        "title": "Average usage of stations (starting point) on each day of the week",
        "xaxis": {
         "tickfont": {
          "color": "rgb(107, 107, 107)",
          "size": 10
         },
         "title": "Bike Station"
        },
        "yaxis": {
         "tickfont": {
          "color": "rgb(107, 107, 107)",
          "size": 14
         },
         "title": "Average number of trips",
         "titlefont": {
          "color": "rgb(107, 107, 107)",
          "size": 16
         }
        }
       }
      },
      "text/html": [
       "<div id=\"40af3b6a-7c74-4f99-84c6-028f25b2ce14\" style=\"height: 525px; width: 100%;\" class=\"plotly-graph-div\"></div><script type=\"text/javascript\">require([\"plotly\"], function(Plotly) { window.PLOTLYENV=window.PLOTLYENV || {};window.PLOTLYENV.BASE_URL=\"https://plot.ly\";Plotly.newPlot(\"40af3b6a-7c74-4f99-84c6-028f25b2ce14\", [{\"name\": \"Monday\", \"x\": [\"Bristo Square\", \"Brunswick Place\", \"Bruntsfield\", \"Canonmills\", \"Castle Street\", \"Charlotte Square\", \"City Chambers\", \"Fountainbridge\", \"George Square\", \"Kings Building 2\", \"Kings Building 3\", \"Kings Buildings 1\", \"Kings Buildings 4\", \"Lauriston Place\", \"Leith Links\", \"Meadows East\", \"Ocean Terminal\", \"Pollock Halls\", \"Portobello\", \"Riego Street\", \"Royal Commonwealth Pool\", \"Shrubhill\", \"St Andrew Square\", \"St Andrews House\", \"Stockbridge\", \"Victoria Park\", \"Victoria Quay\", \"Waitrose, Comely Bank\", \"Waverley Bridge\", \"Waverley Court\", \"Waverley Station\"], \"y\": [9.4, 3.4, 1.0, 4.0, 1.8, 4.2, 2.4, 6.6, 6.2, 2.6, 3.8, 1.2, 1.0, 5.2, 2.2, 7.8, 0.8, 4.4, 5.8, 3.0, 4.0, 2.0, 5.6, 0.6, 2.8, 0.6, 4.6, 1.0, 3.0, 2.0, 2.8], \"type\": \"bar\", \"uid\": \"3edd359e-f977-11e8-a8b9-9801a79eab69\"}, {\"name\": \"Tuesday\", \"x\": [\"Bristo Square\", \"Brunswick Place\", \"Bruntsfield\", \"Canonmills\", \"Castle Street\", \"Charlotte Square\", \"City Chambers\", \"Fountainbridge\", \"George Square\", \"Kings Building 2\", \"Kings Building 3\", \"Kings Buildings 1\", \"Kings Buildings 4\", \"Lauriston Place\", \"Leith Links\", \"Meadows East\", \"Ocean Terminal\", \"Pollock Halls\", \"Portobello\", \"Riego Street\", \"Royal Commonwealth Pool\", \"Shrubhill\", \"St Andrew Square\", \"St Andrews House\", \"Stockbridge\", \"Victoria Park\", \"Victoria Quay\", \"Waitrose, Comely Bank\", \"Waverley Bridge\", \"Waverley Court\", \"Waverley Station\"], \"y\": [8.0, 6.0, 0.4, 7.6, 0.4, 5.8, 3.2, 7.8, 8.6, 3.0, 6.2, 1.2, 0.4, 8.0, 1.0, 5.8, 0.6, 5.8, 2.8, 1.4, 3.2, 1.8, 6.4, 1.0, 4.0, 2.0, 4.8, 0.2, 2.6, 2.6, 2.6], \"type\": \"bar\", \"uid\": \"3edd3724-f977-11e8-928f-9801a79eab69\"}, {\"name\": \"Wednesday\", \"x\": [\"Bristo Square\", \"Brunswick Place\", \"Canonmills\", \"Charlotte Square\", \"City Chambers\", \"Fountainbridge\", \"George Square\", \"Kings Building 2\", \"Kings Building 3\", \"Kings Buildings 1\", \"Kings Buildings 4\", \"Lauriston Place\", \"Leith Links\", \"Meadows East\", \"Ocean Terminal\", \"Pollock Halls\", \"Portobello\", \"Riego Street\", \"Royal Commonwealth Pool\", \"Shrubhill\", \"St Andrew Square\", \"St Andrews House\", \"Stockbridge\", \"Victoria Park\", \"Victoria Quay\", \"Waitrose, Comely Bank\", \"Waverley Bridge\", \"Waverley Court\", \"Waverley Station\"], \"y\": [10.0, 5.75, 5.5, 8.0, 3.0, 12.5, 10.75, 2.5, 3.5, 1.5, 1.5, 7.25, 1.75, 6.5, 0.25, 5.0, 1.5, 3.0, 6.75, 2.25, 9.25, 0.75, 3.25, 1.0, 4.25, 0.75, 4.5, 1.5, 2.0], \"type\": \"bar\", \"uid\": \"3edd3800-f977-11e8-9685-9801a79eab69\"}, {\"name\": \"Thursday\", \"x\": [\"Bristo Square\", \"Brunswick Place\", \"Canonmills\", \"Castle Street\", \"Charlotte Square\", \"City Chambers\", \"Fountainbridge\", \"George Square\", \"Kings Building 2\", \"Kings Building 3\", \"Kings Buildings 1\", \"Kings Buildings 4\", \"Lauriston Place\", \"Leith Links\", \"Meadows East\", \"Ocean Terminal\", \"Pollock Halls\", \"Portobello\", \"Riego Street\", \"Royal Commonwealth Pool\", \"Shrubhill\", \"St Andrew Square\", \"St Andrews House\", \"Stockbridge\", \"Victoria Park\", \"Victoria Quay\", \"Waitrose, Comely Bank\", \"Waverley Bridge\", \"Waverley Court\", \"Waverley Station\"], \"y\": [9.0, 5.0, 5.25, 0.75, 5.5, 2.75, 10.0, 9.0, 3.25, 7.25, 1.25, 0.75, 6.75, 3.25, 9.25, 2.0, 6.75, 3.25, 7.0, 2.25, 5.25, 5.0, 3.0, 4.25, 2.5, 3.75, 0.75, 5.0, 1.75, 2.75], \"type\": \"bar\", \"uid\": \"3edd38b4-f977-11e8-bd1a-9801a79eab69\"}, {\"name\": \"Friday\", \"x\": [\"Bristo Square\", \"Brunswick Place\", \"Bruntsfield\", \"Canonmills\", \"Castle Street\", \"Charlotte Square\", \"City Chambers\", \"Fountainbridge\", \"George Square\", \"Kings Building 2\", \"Kings Building 3\", \"Kings Buildings 1\", \"Kings Buildings 4\", \"Lauriston Place\", \"Leith Links\", \"Meadows East\", \"Ocean Terminal\", \"Pollock Halls\", \"Portobello\", \"Riego Street\", \"Royal Commonwealth Pool\", \"Shrubhill\", \"St Andrew Square\", \"St Andrews House\", \"Stockbridge\", \"Victoria Park\", \"Victoria Quay\", \"Waitrose, Comely Bank\", \"Waverley Bridge\", \"Waverley Court\", \"Waverley Station\"], \"y\": [11.25, 5.5, 0.5, 7.0, 2.25, 5.75, 1.75, 12.5, 6.25, 2.5, 3.0, 0.75, 0.25, 8.0, 4.0, 8.75, 1.5, 5.75, 2.25, 6.0, 5.5, 4.5, 7.5, 1.25, 3.75, 3.25, 3.0, 2.0, 2.5, 2.25, 2.75], \"type\": \"bar\", \"uid\": \"3edd395e-f977-11e8-80ee-9801a79eab69\"}, {\"name\": \"Saturday\", \"x\": [\"Bristo Square\", \"Brunswick Place\", \"Bruntsfield\", \"Canonmills\", \"Castle Street\", \"Charlotte Square\", \"City Chambers\", \"Fountainbridge\", \"George Square\", \"Kings Building 2\", \"Kings Building 3\", \"Kings Buildings 1\", \"Lauriston Place\", \"Leith Links\", \"Meadows East\", \"Ocean Terminal\", \"Pollock Halls\", \"Portobello\", \"Riego Street\", \"Royal Commonwealth Pool\", \"Shrubhill\", \"St Andrew Square\", \"St Andrews House\", \"Stockbridge\", \"Victoria Park\", \"Victoria Quay\", \"Waitrose, Comely Bank\", \"Waverley Bridge\", \"Waverley Court\", \"Waverley Station\"], \"y\": [12.0, 7.0, 1.25, 9.0, 1.25, 5.25, 3.25, 8.5, 9.75, 1.0, 1.5, 0.25, 5.5, 4.75, 7.75, 3.5, 4.75, 16.0, 3.25, 3.5, 3.5, 9.5, 3.75, 7.25, 2.25, 8.25, 2.25, 5.5, 1.25, 1.75], \"type\": \"bar\", \"uid\": \"3edd39fe-f977-11e8-b8c6-9801a79eab69\"}, {\"name\": \"Sunday\", \"x\": [\"Bristo Square\", \"Brunswick Place\", \"Bruntsfield\", \"Canonmills\", \"Castle Street\", \"Charlotte Square\", \"City Chambers\", \"Fountainbridge\", \"George Square\", \"Kings Building 2\", \"Kings Building 3\", \"Kings Buildings 1\", \"Lauriston Place\", \"Leith Links\", \"Meadows East\", \"Ocean Terminal\", \"Pollock Halls\", \"Portobello\", \"Riego Street\", \"Royal Commonwealth Pool\", \"Shrubhill\", \"St Andrew Square\", \"St Andrews House\", \"Stockbridge\", \"Victoria Park\", \"Victoria Quay\", \"Waitrose, Comely Bank\", \"Waverley Bridge\", \"Waverley Court\", \"Waverley Station\"], \"y\": [10.75, 8.5, 2.25, 9.75, 1.5, 3.0, 3.25, 7.25, 5.75, 1.5, 1.25, 0.25, 3.25, 7.25, 4.5, 2.75, 1.75, 13.25, 2.25, 2.0, 4.5, 4.0, 3.0, 5.5, 1.0, 8.25, 1.0, 3.5, 0.75, 1.75], \"type\": \"bar\", \"uid\": \"3edd3a9e-f977-11e8-aed6-9801a79eab69\"}], {\"bargap\": 0.25, \"bargroupgap\": 0.5, \"barmode\": \"group\", \"title\": \"Average usage of stations (starting point) on each day of the week\", \"xaxis\": {\"tickfont\": {\"color\": \"rgb(107, 107, 107)\", \"size\": 10}, \"title\": \"Bike Station\"}, \"yaxis\": {\"tickfont\": {\"color\": \"rgb(107, 107, 107)\", \"size\": 14}, \"title\": \"Average number of trips\", \"titlefont\": {\"color\": \"rgb(107, 107, 107)\", \"size\": 16}}}, {\"showLink\": true, \"linkText\": \"Export to plot.ly\"})});</script>"
      ],
      "text/vnd.plotly.v1+html": [
       "<div id=\"40af3b6a-7c74-4f99-84c6-028f25b2ce14\" style=\"height: 525px; width: 100%;\" class=\"plotly-graph-div\"></div><script type=\"text/javascript\">require([\"plotly\"], function(Plotly) { window.PLOTLYENV=window.PLOTLYENV || {};window.PLOTLYENV.BASE_URL=\"https://plot.ly\";Plotly.newPlot(\"40af3b6a-7c74-4f99-84c6-028f25b2ce14\", [{\"name\": \"Monday\", \"x\": [\"Bristo Square\", \"Brunswick Place\", \"Bruntsfield\", \"Canonmills\", \"Castle Street\", \"Charlotte Square\", \"City Chambers\", \"Fountainbridge\", \"George Square\", \"Kings Building 2\", \"Kings Building 3\", \"Kings Buildings 1\", \"Kings Buildings 4\", \"Lauriston Place\", \"Leith Links\", \"Meadows East\", \"Ocean Terminal\", \"Pollock Halls\", \"Portobello\", \"Riego Street\", \"Royal Commonwealth Pool\", \"Shrubhill\", \"St Andrew Square\", \"St Andrews House\", \"Stockbridge\", \"Victoria Park\", \"Victoria Quay\", \"Waitrose, Comely Bank\", \"Waverley Bridge\", \"Waverley Court\", \"Waverley Station\"], \"y\": [9.4, 3.4, 1.0, 4.0, 1.8, 4.2, 2.4, 6.6, 6.2, 2.6, 3.8, 1.2, 1.0, 5.2, 2.2, 7.8, 0.8, 4.4, 5.8, 3.0, 4.0, 2.0, 5.6, 0.6, 2.8, 0.6, 4.6, 1.0, 3.0, 2.0, 2.8], \"type\": \"bar\", \"uid\": \"3edd359e-f977-11e8-a8b9-9801a79eab69\"}, {\"name\": \"Tuesday\", \"x\": [\"Bristo Square\", \"Brunswick Place\", \"Bruntsfield\", \"Canonmills\", \"Castle Street\", \"Charlotte Square\", \"City Chambers\", \"Fountainbridge\", \"George Square\", \"Kings Building 2\", \"Kings Building 3\", \"Kings Buildings 1\", \"Kings Buildings 4\", \"Lauriston Place\", \"Leith Links\", \"Meadows East\", \"Ocean Terminal\", \"Pollock Halls\", \"Portobello\", \"Riego Street\", \"Royal Commonwealth Pool\", \"Shrubhill\", \"St Andrew Square\", \"St Andrews House\", \"Stockbridge\", \"Victoria Park\", \"Victoria Quay\", \"Waitrose, Comely Bank\", \"Waverley Bridge\", \"Waverley Court\", \"Waverley Station\"], \"y\": [8.0, 6.0, 0.4, 7.6, 0.4, 5.8, 3.2, 7.8, 8.6, 3.0, 6.2, 1.2, 0.4, 8.0, 1.0, 5.8, 0.6, 5.8, 2.8, 1.4, 3.2, 1.8, 6.4, 1.0, 4.0, 2.0, 4.8, 0.2, 2.6, 2.6, 2.6], \"type\": \"bar\", \"uid\": \"3edd3724-f977-11e8-928f-9801a79eab69\"}, {\"name\": \"Wednesday\", \"x\": [\"Bristo Square\", \"Brunswick Place\", \"Canonmills\", \"Charlotte Square\", \"City Chambers\", \"Fountainbridge\", \"George Square\", \"Kings Building 2\", \"Kings Building 3\", \"Kings Buildings 1\", \"Kings Buildings 4\", \"Lauriston Place\", \"Leith Links\", \"Meadows East\", \"Ocean Terminal\", \"Pollock Halls\", \"Portobello\", \"Riego Street\", \"Royal Commonwealth Pool\", \"Shrubhill\", \"St Andrew Square\", \"St Andrews House\", \"Stockbridge\", \"Victoria Park\", \"Victoria Quay\", \"Waitrose, Comely Bank\", \"Waverley Bridge\", \"Waverley Court\", \"Waverley Station\"], \"y\": [10.0, 5.75, 5.5, 8.0, 3.0, 12.5, 10.75, 2.5, 3.5, 1.5, 1.5, 7.25, 1.75, 6.5, 0.25, 5.0, 1.5, 3.0, 6.75, 2.25, 9.25, 0.75, 3.25, 1.0, 4.25, 0.75, 4.5, 1.5, 2.0], \"type\": \"bar\", \"uid\": \"3edd3800-f977-11e8-9685-9801a79eab69\"}, {\"name\": \"Thursday\", \"x\": [\"Bristo Square\", \"Brunswick Place\", \"Canonmills\", \"Castle Street\", \"Charlotte Square\", \"City Chambers\", \"Fountainbridge\", \"George Square\", \"Kings Building 2\", \"Kings Building 3\", \"Kings Buildings 1\", \"Kings Buildings 4\", \"Lauriston Place\", \"Leith Links\", \"Meadows East\", \"Ocean Terminal\", \"Pollock Halls\", \"Portobello\", \"Riego Street\", \"Royal Commonwealth Pool\", \"Shrubhill\", \"St Andrew Square\", \"St Andrews House\", \"Stockbridge\", \"Victoria Park\", \"Victoria Quay\", \"Waitrose, Comely Bank\", \"Waverley Bridge\", \"Waverley Court\", \"Waverley Station\"], \"y\": [9.0, 5.0, 5.25, 0.75, 5.5, 2.75, 10.0, 9.0, 3.25, 7.25, 1.25, 0.75, 6.75, 3.25, 9.25, 2.0, 6.75, 3.25, 7.0, 2.25, 5.25, 5.0, 3.0, 4.25, 2.5, 3.75, 0.75, 5.0, 1.75, 2.75], \"type\": \"bar\", \"uid\": \"3edd38b4-f977-11e8-bd1a-9801a79eab69\"}, {\"name\": \"Friday\", \"x\": [\"Bristo Square\", \"Brunswick Place\", \"Bruntsfield\", \"Canonmills\", \"Castle Street\", \"Charlotte Square\", \"City Chambers\", \"Fountainbridge\", \"George Square\", \"Kings Building 2\", \"Kings Building 3\", \"Kings Buildings 1\", \"Kings Buildings 4\", \"Lauriston Place\", \"Leith Links\", \"Meadows East\", \"Ocean Terminal\", \"Pollock Halls\", \"Portobello\", \"Riego Street\", \"Royal Commonwealth Pool\", \"Shrubhill\", \"St Andrew Square\", \"St Andrews House\", \"Stockbridge\", \"Victoria Park\", \"Victoria Quay\", \"Waitrose, Comely Bank\", \"Waverley Bridge\", \"Waverley Court\", \"Waverley Station\"], \"y\": [11.25, 5.5, 0.5, 7.0, 2.25, 5.75, 1.75, 12.5, 6.25, 2.5, 3.0, 0.75, 0.25, 8.0, 4.0, 8.75, 1.5, 5.75, 2.25, 6.0, 5.5, 4.5, 7.5, 1.25, 3.75, 3.25, 3.0, 2.0, 2.5, 2.25, 2.75], \"type\": \"bar\", \"uid\": \"3edd395e-f977-11e8-80ee-9801a79eab69\"}, {\"name\": \"Saturday\", \"x\": [\"Bristo Square\", \"Brunswick Place\", \"Bruntsfield\", \"Canonmills\", \"Castle Street\", \"Charlotte Square\", \"City Chambers\", \"Fountainbridge\", \"George Square\", \"Kings Building 2\", \"Kings Building 3\", \"Kings Buildings 1\", \"Lauriston Place\", \"Leith Links\", \"Meadows East\", \"Ocean Terminal\", \"Pollock Halls\", \"Portobello\", \"Riego Street\", \"Royal Commonwealth Pool\", \"Shrubhill\", \"St Andrew Square\", \"St Andrews House\", \"Stockbridge\", \"Victoria Park\", \"Victoria Quay\", \"Waitrose, Comely Bank\", \"Waverley Bridge\", \"Waverley Court\", \"Waverley Station\"], \"y\": [12.0, 7.0, 1.25, 9.0, 1.25, 5.25, 3.25, 8.5, 9.75, 1.0, 1.5, 0.25, 5.5, 4.75, 7.75, 3.5, 4.75, 16.0, 3.25, 3.5, 3.5, 9.5, 3.75, 7.25, 2.25, 8.25, 2.25, 5.5, 1.25, 1.75], \"type\": \"bar\", \"uid\": \"3edd39fe-f977-11e8-b8c6-9801a79eab69\"}, {\"name\": \"Sunday\", \"x\": [\"Bristo Square\", \"Brunswick Place\", \"Bruntsfield\", \"Canonmills\", \"Castle Street\", \"Charlotte Square\", \"City Chambers\", \"Fountainbridge\", \"George Square\", \"Kings Building 2\", \"Kings Building 3\", \"Kings Buildings 1\", \"Lauriston Place\", \"Leith Links\", \"Meadows East\", \"Ocean Terminal\", \"Pollock Halls\", \"Portobello\", \"Riego Street\", \"Royal Commonwealth Pool\", \"Shrubhill\", \"St Andrew Square\", \"St Andrews House\", \"Stockbridge\", \"Victoria Park\", \"Victoria Quay\", \"Waitrose, Comely Bank\", \"Waverley Bridge\", \"Waverley Court\", \"Waverley Station\"], \"y\": [10.75, 8.5, 2.25, 9.75, 1.5, 3.0, 3.25, 7.25, 5.75, 1.5, 1.25, 0.25, 3.25, 7.25, 4.5, 2.75, 1.75, 13.25, 2.25, 2.0, 4.5, 4.0, 3.0, 5.5, 1.0, 8.25, 1.0, 3.5, 0.75, 1.75], \"type\": \"bar\", \"uid\": \"3edd3a9e-f977-11e8-aed6-9801a79eab69\"}], {\"bargap\": 0.25, \"bargroupgap\": 0.5, \"barmode\": \"group\", \"title\": \"Average usage of stations (starting point) on each day of the week\", \"xaxis\": {\"tickfont\": {\"color\": \"rgb(107, 107, 107)\", \"size\": 10}, \"title\": \"Bike Station\"}, \"yaxis\": {\"tickfont\": {\"color\": \"rgb(107, 107, 107)\", \"size\": 14}, \"title\": \"Average number of trips\", \"titlefont\": {\"color\": \"rgb(107, 107, 107)\", \"size\": 16}}}, {\"showLink\": true, \"linkText\": \"Export to plot.ly\"})});</script>"
      ]
     },
     "metadata": {},
     "output_type": "display_data"
    }
   ],
   "source": [
    "# Count the bike usage per station on each day, average those counts number for each day\n",
    "data = []\n",
    "day = [\"Monday\",'Tuesday','Wednesday','Thursday','Friday','Saturday','Sunday']\n",
    "for j,i in enumerate(bike_df.started_at.dt.dayofweek.unique()):\n",
    "    data.append(\n",
    "        go.Bar(\n",
    "            # Count the usage of each station\n",
    "            x=bike_df[bike_df.started_at.dt.dayofweek==i].start_station_name.value_counts().sort_index().index,\n",
    "            # Average the counts for each day\n",
    "            y=(bike_df[bike_df.started_at.dt.dayofweek==i].start_station_name.value_counts()/\n",
    "               len(bike_df[bike_df.started_at.dt.dayofweek==i].started_at.dt.day.value_counts())).sort_index(),\n",
    "            name=day[j]\n",
    "        )\n",
    "    )\n",
    "\n",
    "# Set the feature of the chart\n",
    "layout = go.Layout(\n",
    "    title='Average usage of stations (starting point) on each day of the week',\n",
    "    xaxis=dict(\n",
    "        title='Bike Station',\n",
    "        tickfont=dict(\n",
    "            size=10,\n",
    "            color='rgb(107, 107, 107)'\n",
    "        )\n",
    "    ),\n",
    "    yaxis=dict(\n",
    "        title='Average number of trips',\n",
    "        titlefont=dict(\n",
    "            size=16,\n",
    "            color='rgb(107, 107, 107)'\n",
    "        ),\n",
    "        tickfont=dict(\n",
    "            size=14,\n",
    "            color='rgb(107, 107, 107)'\n",
    "        )\n",
    "    ),\n",
    "    barmode='group',\n",
    "    bargap=0.25,\n",
    "    bargroupgap=0.5\n",
    ")\n",
    "\n",
    "# Plot the graph\n",
    "fig = go.Figure(data=data, layout=layout)\n",
    "iplot(fig, filename='basic-bar')"
   ]
  },
  {
   "cell_type": "markdown",
   "metadata": {},
   "source": [
    "- We can see some stations have significantly more demand on weekends than they do on workdays, such as Portobello and Victoria Quay. So we might consider to allocate more bikes to these stations on weekends.\n",
    "- Bristo Square and Fountianbridge are still the overall most popular starting stations."
   ]
  },
  {
   "cell_type": "markdown",
   "metadata": {},
   "source": [
    "**I also wonder: where do people like to go during daytime and nighttime? I would like to discover where do people most likely to go between 9:00-17:00, 17:00-23:00 and 23:00-3:00 respectively.**"
   ]
  },
  {
   "cell_type": "code",
   "execution_count": 23,
   "metadata": {},
   "outputs": [
    {
     "data": {
      "application/vnd.plotly.v1+json": {
       "data": [
        {
         "name": "Monday",
         "type": "bar",
         "uid": "3f00ec1e-f977-11e8-a55e-9801a79eab69",
         "x": [
          "Bristo Square",
          "Brunswick Place",
          "Canonmills",
          "Castle Street",
          "Charlotte Square",
          "City Chambers",
          "Fountainbridge",
          "George Square",
          "Kings Building 2",
          "Kings Building 3",
          "Kings Buildings 1",
          "Lauriston Place",
          "Leith Links",
          "Meadows East",
          "Ocean Terminal",
          "Pollock Halls",
          "Portobello",
          "Riego Street",
          "Royal Commonwealth Pool",
          "Shrubhill",
          "St Andrew Square",
          "St Andrews House",
          "Stockbridge",
          "Victoria Park",
          "Victoria Quay",
          "Waitrose, Comely Bank",
          "Waverley Bridge",
          "Waverley Court",
          "Waverley Station"
         ],
         "y": [
          2.2,
          2.4,
          4.2,
          0.2,
          1.2,
          0.6,
          3,
          2.6,
          2.4,
          1.4,
          0.2,
          2.6,
          2.4,
          3.2,
          0.8,
          1.2,
          4.8,
          1,
          1.2,
          2.8,
          1.2,
          0.2,
          3.4,
          0.4,
          3,
          1.2,
          3.2,
          1,
          1.2
         ]
        },
        {
         "name": "Tuesday",
         "type": "bar",
         "uid": "3f00eeba-f977-11e8-b695-9801a79eab69",
         "x": [
          "Bristo Square",
          "Brunswick Place",
          "Bruntsfield",
          "Canonmills",
          "Castle Street",
          "Charlotte Square",
          "City Chambers",
          "Fountainbridge",
          "George Square",
          "Kings Building 2",
          "Kings Building 3",
          "Kings Buildings 1",
          "Kings Buildings 4",
          "Lauriston Place",
          "Leith Links",
          "Meadows East",
          "Ocean Terminal",
          "Pollock Halls",
          "Portobello",
          "Riego Street",
          "Royal Commonwealth Pool",
          "Shrubhill",
          "St Andrew Square",
          "St Andrews House",
          "Stockbridge",
          "Victoria Park",
          "Victoria Quay",
          "Waitrose, Comely Bank",
          "Waverley Bridge",
          "Waverley Court",
          "Waverley Station"
         ],
         "y": [
          2.8,
          2.4,
          0.2,
          8.4,
          0.6,
          1.2,
          0.6,
          2.8,
          4.6,
          1,
          1.4,
          0.2,
          0.2,
          1.4,
          1.4,
          2.6,
          0.6,
          1.8,
          1.8,
          0.6,
          1.6,
          2,
          2,
          0.6,
          3,
          2.2,
          5.8,
          0.8,
          2.2,
          0.6,
          2
         ]
        },
        {
         "name": "Wednesday",
         "type": "bar",
         "uid": "3f00f04c-f977-11e8-b452-9801a79eab69",
         "x": [
          "Bristo Square",
          "Brunswick Place",
          "Canonmills",
          "Charlotte Square",
          "City Chambers",
          "Fountainbridge",
          "George Square",
          "Kings Building 2",
          "Kings Building 3",
          "Kings Buildings 4",
          "Lauriston Place",
          "Leith Links",
          "Meadows East",
          "Ocean Terminal",
          "Pollock Halls",
          "Portobello",
          "Riego Street",
          "Royal Commonwealth Pool",
          "Shrubhill",
          "St Andrew Square",
          "Stockbridge",
          "Victoria Quay",
          "Waitrose, Comely Bank",
          "Waverley Bridge",
          "Waverley Court",
          "Waverley Station"
         ],
         "y": [
          3.25,
          2.25,
          3.75,
          2.75,
          1.25,
          6,
          6.75,
          0.75,
          2.25,
          0.25,
          2,
          2.25,
          4.5,
          0.25,
          3.25,
          2.5,
          1.75,
          3.5,
          3,
          3.25,
          3.25,
          6,
          0.5,
          5,
          0.5,
          1
         ]
        },
        {
         "name": "Thursday",
         "type": "bar",
         "uid": "3f00f1b4-f977-11e8-8d3b-9801a79eab69",
         "x": [
          "Bristo Square",
          "Brunswick Place",
          "Canonmills",
          "Charlotte Square",
          "City Chambers",
          "Fountainbridge",
          "George Square",
          "Kings Building 2",
          "Kings Building 3",
          "Kings Buildings 1",
          "Lauriston Place",
          "Leith Links",
          "Meadows East",
          "Ocean Terminal",
          "Pollock Halls",
          "Portobello",
          "Riego Street",
          "Royal Commonwealth Pool",
          "Shrubhill",
          "St Andrew Square",
          "St Andrews House",
          "Stockbridge",
          "Victoria Park",
          "Victoria Quay",
          "Waitrose, Comely Bank",
          "Waverley Bridge",
          "Waverley Court",
          "Waverley Station"
         ],
         "y": [
          4.25,
          3.25,
          4.25,
          2,
          0.75,
          2.5,
          5.75,
          1.75,
          1,
          0.5,
          1.25,
          3.25,
          2.5,
          2.5,
          3.75,
          2.75,
          3.75,
          0.5,
          3,
          3.25,
          0.75,
          2,
          2.25,
          2,
          1.25,
          2.5,
          1.25,
          1
         ]
        },
        {
         "name": "Friday",
         "type": "bar",
         "uid": "3f00f308-f977-11e8-ab20-9801a79eab69",
         "x": [
          "Bristo Square",
          "Brunswick Place",
          "Bruntsfield",
          "Canonmills",
          "Castle Street",
          "Charlotte Square",
          "City Chambers",
          "Fountainbridge",
          "George Square",
          "Kings Building 2",
          "Kings Building 3",
          "Lauriston Place",
          "Leith Links",
          "Meadows East",
          "Ocean Terminal",
          "Pollock Halls",
          "Portobello",
          "Riego Street",
          "Royal Commonwealth Pool",
          "Shrubhill",
          "St Andrew Square",
          "St Andrews House",
          "Stockbridge",
          "Victoria Park",
          "Victoria Quay",
          "Waitrose, Comely Bank",
          "Waverley Bridge",
          "Waverley Court",
          "Waverley Station"
         ],
         "y": [
          6,
          3,
          0.5,
          5.75,
          1,
          2,
          0.5,
          3,
          5,
          0.5,
          1.5,
          1.25,
          4.5,
          2.75,
          2.5,
          2.75,
          1.5,
          2.75,
          2,
          2.75,
          4,
          0.75,
          3.25,
          2.5,
          5,
          0.75,
          2.25,
          1.25,
          1.5
         ]
        },
        {
         "name": "Saturday",
         "type": "bar",
         "uid": "3f00f45c-f977-11e8-9156-9801a79eab69",
         "x": [
          "Bristo Square",
          "Brunswick Place",
          "Bruntsfield",
          "Canonmills",
          "Castle Street",
          "Charlotte Square",
          "City Chambers",
          "Fountainbridge",
          "George Square",
          "Kings Building 2",
          "Kings Building 3",
          "Kings Buildings 1",
          "Kings Buildings 4",
          "Lauriston Place",
          "Leith Links",
          "Meadows East",
          "Ocean Terminal",
          "Pollock Halls",
          "Portobello",
          "Riego Street",
          "Royal Commonwealth Pool",
          "Shrubhill",
          "St Andrew Square",
          "St Andrews House",
          "Stockbridge",
          "Victoria Park",
          "Victoria Quay",
          "Waitrose, Comely Bank",
          "Waverley Bridge",
          "Waverley Court",
          "Waverley Station"
         ],
         "y": [
          4,
          3.5,
          0.5,
          7.5,
          2.25,
          3.25,
          2.5,
          4.25,
          3,
          0.5,
          0.25,
          0.5,
          0.25,
          1.5,
          4,
          3.75,
          2.25,
          4.25,
          13.75,
          2,
          2.25,
          3,
          6,
          2.25,
          7.5,
          2.5,
          8.5,
          1.75,
          3.5,
          1.5,
          1
         ]
        },
        {
         "name": "Sunday",
         "type": "bar",
         "uid": "3f00f5a6-f977-11e8-b749-9801a79eab69",
         "x": [
          "Bristo Square",
          "Brunswick Place",
          "Bruntsfield",
          "Canonmills",
          "Charlotte Square",
          "City Chambers",
          "Fountainbridge",
          "George Square",
          "Kings Building 2",
          "Kings Building 3",
          "Lauriston Place",
          "Leith Links",
          "Meadows East",
          "Ocean Terminal",
          "Pollock Halls",
          "Portobello",
          "Riego Street",
          "Royal Commonwealth Pool",
          "Shrubhill",
          "St Andrew Square",
          "St Andrews House",
          "Stockbridge",
          "Victoria Park",
          "Victoria Quay",
          "Waitrose, Comely Bank",
          "Waverley Bridge",
          "Waverley Court",
          "Waverley Station"
         ],
         "y": [
          4.25,
          4.75,
          1,
          7,
          2.25,
          1.75,
          4.5,
          2.75,
          1.5,
          1.25,
          2,
          6.5,
          2,
          4.25,
          2,
          8.5,
          0.5,
          1.5,
          3.25,
          3,
          2,
          4,
          0.75,
          8.5,
          1.75,
          2.25,
          0.25,
          0.5
         ]
        }
       ],
       "layout": {
        "bargap": 0.25,
        "bargroupgap": 0.5,
        "barmode": "group",
        "title": "Average count of destinations on each day of the week between 9:00-17:00",
        "xaxis": {
         "tickfont": {
          "color": "rgb(107, 107, 107)",
          "size": 10
         },
         "title": "Bike Station"
        },
        "yaxis": {
         "tickfont": {
          "color": "rgb(107, 107, 107)",
          "size": 14
         },
         "title": "Average number of trips",
         "titlefont": {
          "color": "rgb(107, 107, 107)",
          "size": 16
         }
        }
       }
      },
      "text/html": [
       "<div id=\"3134c635-b96b-4475-8312-38c688e7f6bf\" style=\"height: 525px; width: 100%;\" class=\"plotly-graph-div\"></div><script type=\"text/javascript\">require([\"plotly\"], function(Plotly) { window.PLOTLYENV=window.PLOTLYENV || {};window.PLOTLYENV.BASE_URL=\"https://plot.ly\";Plotly.newPlot(\"3134c635-b96b-4475-8312-38c688e7f6bf\", [{\"name\": \"Monday\", \"x\": [\"Bristo Square\", \"Brunswick Place\", \"Canonmills\", \"Castle Street\", \"Charlotte Square\", \"City Chambers\", \"Fountainbridge\", \"George Square\", \"Kings Building 2\", \"Kings Building 3\", \"Kings Buildings 1\", \"Lauriston Place\", \"Leith Links\", \"Meadows East\", \"Ocean Terminal\", \"Pollock Halls\", \"Portobello\", \"Riego Street\", \"Royal Commonwealth Pool\", \"Shrubhill\", \"St Andrew Square\", \"St Andrews House\", \"Stockbridge\", \"Victoria Park\", \"Victoria Quay\", \"Waitrose, Comely Bank\", \"Waverley Bridge\", \"Waverley Court\", \"Waverley Station\"], \"y\": [2.2, 2.4, 4.2, 0.2, 1.2, 0.6, 3.0, 2.6, 2.4, 1.4, 0.2, 2.6, 2.4, 3.2, 0.8, 1.2, 4.8, 1.0, 1.2, 2.8, 1.2, 0.2, 3.4, 0.4, 3.0, 1.2, 3.2, 1.0, 1.2], \"type\": \"bar\", \"uid\": \"3f00ec1e-f977-11e8-a55e-9801a79eab69\"}, {\"name\": \"Tuesday\", \"x\": [\"Bristo Square\", \"Brunswick Place\", \"Bruntsfield\", \"Canonmills\", \"Castle Street\", \"Charlotte Square\", \"City Chambers\", \"Fountainbridge\", \"George Square\", \"Kings Building 2\", \"Kings Building 3\", \"Kings Buildings 1\", \"Kings Buildings 4\", \"Lauriston Place\", \"Leith Links\", \"Meadows East\", \"Ocean Terminal\", \"Pollock Halls\", \"Portobello\", \"Riego Street\", \"Royal Commonwealth Pool\", \"Shrubhill\", \"St Andrew Square\", \"St Andrews House\", \"Stockbridge\", \"Victoria Park\", \"Victoria Quay\", \"Waitrose, Comely Bank\", \"Waverley Bridge\", \"Waverley Court\", \"Waverley Station\"], \"y\": [2.8, 2.4, 0.2, 8.4, 0.6, 1.2, 0.6, 2.8, 4.6, 1.0, 1.4, 0.2, 0.2, 1.4, 1.4, 2.6, 0.6, 1.8, 1.8, 0.6, 1.6, 2.0, 2.0, 0.6, 3.0, 2.2, 5.8, 0.8, 2.2, 0.6, 2.0], \"type\": \"bar\", \"uid\": \"3f00eeba-f977-11e8-b695-9801a79eab69\"}, {\"name\": \"Wednesday\", \"x\": [\"Bristo Square\", \"Brunswick Place\", \"Canonmills\", \"Charlotte Square\", \"City Chambers\", \"Fountainbridge\", \"George Square\", \"Kings Building 2\", \"Kings Building 3\", \"Kings Buildings 4\", \"Lauriston Place\", \"Leith Links\", \"Meadows East\", \"Ocean Terminal\", \"Pollock Halls\", \"Portobello\", \"Riego Street\", \"Royal Commonwealth Pool\", \"Shrubhill\", \"St Andrew Square\", \"Stockbridge\", \"Victoria Quay\", \"Waitrose, Comely Bank\", \"Waverley Bridge\", \"Waverley Court\", \"Waverley Station\"], \"y\": [3.25, 2.25, 3.75, 2.75, 1.25, 6.0, 6.75, 0.75, 2.25, 0.25, 2.0, 2.25, 4.5, 0.25, 3.25, 2.5, 1.75, 3.5, 3.0, 3.25, 3.25, 6.0, 0.5, 5.0, 0.5, 1.0], \"type\": \"bar\", \"uid\": \"3f00f04c-f977-11e8-b452-9801a79eab69\"}, {\"name\": \"Thursday\", \"x\": [\"Bristo Square\", \"Brunswick Place\", \"Canonmills\", \"Charlotte Square\", \"City Chambers\", \"Fountainbridge\", \"George Square\", \"Kings Building 2\", \"Kings Building 3\", \"Kings Buildings 1\", \"Lauriston Place\", \"Leith Links\", \"Meadows East\", \"Ocean Terminal\", \"Pollock Halls\", \"Portobello\", \"Riego Street\", \"Royal Commonwealth Pool\", \"Shrubhill\", \"St Andrew Square\", \"St Andrews House\", \"Stockbridge\", \"Victoria Park\", \"Victoria Quay\", \"Waitrose, Comely Bank\", \"Waverley Bridge\", \"Waverley Court\", \"Waverley Station\"], \"y\": [4.25, 3.25, 4.25, 2.0, 0.75, 2.5, 5.75, 1.75, 1.0, 0.5, 1.25, 3.25, 2.5, 2.5, 3.75, 2.75, 3.75, 0.5, 3.0, 3.25, 0.75, 2.0, 2.25, 2.0, 1.25, 2.5, 1.25, 1.0], \"type\": \"bar\", \"uid\": \"3f00f1b4-f977-11e8-8d3b-9801a79eab69\"}, {\"name\": \"Friday\", \"x\": [\"Bristo Square\", \"Brunswick Place\", \"Bruntsfield\", \"Canonmills\", \"Castle Street\", \"Charlotte Square\", \"City Chambers\", \"Fountainbridge\", \"George Square\", \"Kings Building 2\", \"Kings Building 3\", \"Lauriston Place\", \"Leith Links\", \"Meadows East\", \"Ocean Terminal\", \"Pollock Halls\", \"Portobello\", \"Riego Street\", \"Royal Commonwealth Pool\", \"Shrubhill\", \"St Andrew Square\", \"St Andrews House\", \"Stockbridge\", \"Victoria Park\", \"Victoria Quay\", \"Waitrose, Comely Bank\", \"Waverley Bridge\", \"Waverley Court\", \"Waverley Station\"], \"y\": [6.0, 3.0, 0.5, 5.75, 1.0, 2.0, 0.5, 3.0, 5.0, 0.5, 1.5, 1.25, 4.5, 2.75, 2.5, 2.75, 1.5, 2.75, 2.0, 2.75, 4.0, 0.75, 3.25, 2.5, 5.0, 0.75, 2.25, 1.25, 1.5], \"type\": \"bar\", \"uid\": \"3f00f308-f977-11e8-ab20-9801a79eab69\"}, {\"name\": \"Saturday\", \"x\": [\"Bristo Square\", \"Brunswick Place\", \"Bruntsfield\", \"Canonmills\", \"Castle Street\", \"Charlotte Square\", \"City Chambers\", \"Fountainbridge\", \"George Square\", \"Kings Building 2\", \"Kings Building 3\", \"Kings Buildings 1\", \"Kings Buildings 4\", \"Lauriston Place\", \"Leith Links\", \"Meadows East\", \"Ocean Terminal\", \"Pollock Halls\", \"Portobello\", \"Riego Street\", \"Royal Commonwealth Pool\", \"Shrubhill\", \"St Andrew Square\", \"St Andrews House\", \"Stockbridge\", \"Victoria Park\", \"Victoria Quay\", \"Waitrose, Comely Bank\", \"Waverley Bridge\", \"Waverley Court\", \"Waverley Station\"], \"y\": [4.0, 3.5, 0.5, 7.5, 2.25, 3.25, 2.5, 4.25, 3.0, 0.5, 0.25, 0.5, 0.25, 1.5, 4.0, 3.75, 2.25, 4.25, 13.75, 2.0, 2.25, 3.0, 6.0, 2.25, 7.5, 2.5, 8.5, 1.75, 3.5, 1.5, 1.0], \"type\": \"bar\", \"uid\": \"3f00f45c-f977-11e8-9156-9801a79eab69\"}, {\"name\": \"Sunday\", \"x\": [\"Bristo Square\", \"Brunswick Place\", \"Bruntsfield\", \"Canonmills\", \"Charlotte Square\", \"City Chambers\", \"Fountainbridge\", \"George Square\", \"Kings Building 2\", \"Kings Building 3\", \"Lauriston Place\", \"Leith Links\", \"Meadows East\", \"Ocean Terminal\", \"Pollock Halls\", \"Portobello\", \"Riego Street\", \"Royal Commonwealth Pool\", \"Shrubhill\", \"St Andrew Square\", \"St Andrews House\", \"Stockbridge\", \"Victoria Park\", \"Victoria Quay\", \"Waitrose, Comely Bank\", \"Waverley Bridge\", \"Waverley Court\", \"Waverley Station\"], \"y\": [4.25, 4.75, 1.0, 7.0, 2.25, 1.75, 4.5, 2.75, 1.5, 1.25, 2.0, 6.5, 2.0, 4.25, 2.0, 8.5, 0.5, 1.5, 3.25, 3.0, 2.0, 4.0, 0.75, 8.5, 1.75, 2.25, 0.25, 0.5], \"type\": \"bar\", \"uid\": \"3f00f5a6-f977-11e8-b749-9801a79eab69\"}], {\"bargap\": 0.25, \"bargroupgap\": 0.5, \"barmode\": \"group\", \"title\": \"Average count of destinations on each day of the week between 9:00-17:00\", \"xaxis\": {\"tickfont\": {\"color\": \"rgb(107, 107, 107)\", \"size\": 10}, \"title\": \"Bike Station\"}, \"yaxis\": {\"tickfont\": {\"color\": \"rgb(107, 107, 107)\", \"size\": 14}, \"title\": \"Average number of trips\", \"titlefont\": {\"color\": \"rgb(107, 107, 107)\", \"size\": 16}}}, {\"showLink\": true, \"linkText\": \"Export to plot.ly\"})});</script>"
      ],
      "text/vnd.plotly.v1+html": [
       "<div id=\"3134c635-b96b-4475-8312-38c688e7f6bf\" style=\"height: 525px; width: 100%;\" class=\"plotly-graph-div\"></div><script type=\"text/javascript\">require([\"plotly\"], function(Plotly) { window.PLOTLYENV=window.PLOTLYENV || {};window.PLOTLYENV.BASE_URL=\"https://plot.ly\";Plotly.newPlot(\"3134c635-b96b-4475-8312-38c688e7f6bf\", [{\"name\": \"Monday\", \"x\": [\"Bristo Square\", \"Brunswick Place\", \"Canonmills\", \"Castle Street\", \"Charlotte Square\", \"City Chambers\", \"Fountainbridge\", \"George Square\", \"Kings Building 2\", \"Kings Building 3\", \"Kings Buildings 1\", \"Lauriston Place\", \"Leith Links\", \"Meadows East\", \"Ocean Terminal\", \"Pollock Halls\", \"Portobello\", \"Riego Street\", \"Royal Commonwealth Pool\", \"Shrubhill\", \"St Andrew Square\", \"St Andrews House\", \"Stockbridge\", \"Victoria Park\", \"Victoria Quay\", \"Waitrose, Comely Bank\", \"Waverley Bridge\", \"Waverley Court\", \"Waverley Station\"], \"y\": [2.2, 2.4, 4.2, 0.2, 1.2, 0.6, 3.0, 2.6, 2.4, 1.4, 0.2, 2.6, 2.4, 3.2, 0.8, 1.2, 4.8, 1.0, 1.2, 2.8, 1.2, 0.2, 3.4, 0.4, 3.0, 1.2, 3.2, 1.0, 1.2], \"type\": \"bar\", \"uid\": \"3f00ec1e-f977-11e8-a55e-9801a79eab69\"}, {\"name\": \"Tuesday\", \"x\": [\"Bristo Square\", \"Brunswick Place\", \"Bruntsfield\", \"Canonmills\", \"Castle Street\", \"Charlotte Square\", \"City Chambers\", \"Fountainbridge\", \"George Square\", \"Kings Building 2\", \"Kings Building 3\", \"Kings Buildings 1\", \"Kings Buildings 4\", \"Lauriston Place\", \"Leith Links\", \"Meadows East\", \"Ocean Terminal\", \"Pollock Halls\", \"Portobello\", \"Riego Street\", \"Royal Commonwealth Pool\", \"Shrubhill\", \"St Andrew Square\", \"St Andrews House\", \"Stockbridge\", \"Victoria Park\", \"Victoria Quay\", \"Waitrose, Comely Bank\", \"Waverley Bridge\", \"Waverley Court\", \"Waverley Station\"], \"y\": [2.8, 2.4, 0.2, 8.4, 0.6, 1.2, 0.6, 2.8, 4.6, 1.0, 1.4, 0.2, 0.2, 1.4, 1.4, 2.6, 0.6, 1.8, 1.8, 0.6, 1.6, 2.0, 2.0, 0.6, 3.0, 2.2, 5.8, 0.8, 2.2, 0.6, 2.0], \"type\": \"bar\", \"uid\": \"3f00eeba-f977-11e8-b695-9801a79eab69\"}, {\"name\": \"Wednesday\", \"x\": [\"Bristo Square\", \"Brunswick Place\", \"Canonmills\", \"Charlotte Square\", \"City Chambers\", \"Fountainbridge\", \"George Square\", \"Kings Building 2\", \"Kings Building 3\", \"Kings Buildings 4\", \"Lauriston Place\", \"Leith Links\", \"Meadows East\", \"Ocean Terminal\", \"Pollock Halls\", \"Portobello\", \"Riego Street\", \"Royal Commonwealth Pool\", \"Shrubhill\", \"St Andrew Square\", \"Stockbridge\", \"Victoria Quay\", \"Waitrose, Comely Bank\", \"Waverley Bridge\", \"Waverley Court\", \"Waverley Station\"], \"y\": [3.25, 2.25, 3.75, 2.75, 1.25, 6.0, 6.75, 0.75, 2.25, 0.25, 2.0, 2.25, 4.5, 0.25, 3.25, 2.5, 1.75, 3.5, 3.0, 3.25, 3.25, 6.0, 0.5, 5.0, 0.5, 1.0], \"type\": \"bar\", \"uid\": \"3f00f04c-f977-11e8-b452-9801a79eab69\"}, {\"name\": \"Thursday\", \"x\": [\"Bristo Square\", \"Brunswick Place\", \"Canonmills\", \"Charlotte Square\", \"City Chambers\", \"Fountainbridge\", \"George Square\", \"Kings Building 2\", \"Kings Building 3\", \"Kings Buildings 1\", \"Lauriston Place\", \"Leith Links\", \"Meadows East\", \"Ocean Terminal\", \"Pollock Halls\", \"Portobello\", \"Riego Street\", \"Royal Commonwealth Pool\", \"Shrubhill\", \"St Andrew Square\", \"St Andrews House\", \"Stockbridge\", \"Victoria Park\", \"Victoria Quay\", \"Waitrose, Comely Bank\", \"Waverley Bridge\", \"Waverley Court\", \"Waverley Station\"], \"y\": [4.25, 3.25, 4.25, 2.0, 0.75, 2.5, 5.75, 1.75, 1.0, 0.5, 1.25, 3.25, 2.5, 2.5, 3.75, 2.75, 3.75, 0.5, 3.0, 3.25, 0.75, 2.0, 2.25, 2.0, 1.25, 2.5, 1.25, 1.0], \"type\": \"bar\", \"uid\": \"3f00f1b4-f977-11e8-8d3b-9801a79eab69\"}, {\"name\": \"Friday\", \"x\": [\"Bristo Square\", \"Brunswick Place\", \"Bruntsfield\", \"Canonmills\", \"Castle Street\", \"Charlotte Square\", \"City Chambers\", \"Fountainbridge\", \"George Square\", \"Kings Building 2\", \"Kings Building 3\", \"Lauriston Place\", \"Leith Links\", \"Meadows East\", \"Ocean Terminal\", \"Pollock Halls\", \"Portobello\", \"Riego Street\", \"Royal Commonwealth Pool\", \"Shrubhill\", \"St Andrew Square\", \"St Andrews House\", \"Stockbridge\", \"Victoria Park\", \"Victoria Quay\", \"Waitrose, Comely Bank\", \"Waverley Bridge\", \"Waverley Court\", \"Waverley Station\"], \"y\": [6.0, 3.0, 0.5, 5.75, 1.0, 2.0, 0.5, 3.0, 5.0, 0.5, 1.5, 1.25, 4.5, 2.75, 2.5, 2.75, 1.5, 2.75, 2.0, 2.75, 4.0, 0.75, 3.25, 2.5, 5.0, 0.75, 2.25, 1.25, 1.5], \"type\": \"bar\", \"uid\": \"3f00f308-f977-11e8-ab20-9801a79eab69\"}, {\"name\": \"Saturday\", \"x\": [\"Bristo Square\", \"Brunswick Place\", \"Bruntsfield\", \"Canonmills\", \"Castle Street\", \"Charlotte Square\", \"City Chambers\", \"Fountainbridge\", \"George Square\", \"Kings Building 2\", \"Kings Building 3\", \"Kings Buildings 1\", \"Kings Buildings 4\", \"Lauriston Place\", \"Leith Links\", \"Meadows East\", \"Ocean Terminal\", \"Pollock Halls\", \"Portobello\", \"Riego Street\", \"Royal Commonwealth Pool\", \"Shrubhill\", \"St Andrew Square\", \"St Andrews House\", \"Stockbridge\", \"Victoria Park\", \"Victoria Quay\", \"Waitrose, Comely Bank\", \"Waverley Bridge\", \"Waverley Court\", \"Waverley Station\"], \"y\": [4.0, 3.5, 0.5, 7.5, 2.25, 3.25, 2.5, 4.25, 3.0, 0.5, 0.25, 0.5, 0.25, 1.5, 4.0, 3.75, 2.25, 4.25, 13.75, 2.0, 2.25, 3.0, 6.0, 2.25, 7.5, 2.5, 8.5, 1.75, 3.5, 1.5, 1.0], \"type\": \"bar\", \"uid\": \"3f00f45c-f977-11e8-9156-9801a79eab69\"}, {\"name\": \"Sunday\", \"x\": [\"Bristo Square\", \"Brunswick Place\", \"Bruntsfield\", \"Canonmills\", \"Charlotte Square\", \"City Chambers\", \"Fountainbridge\", \"George Square\", \"Kings Building 2\", \"Kings Building 3\", \"Lauriston Place\", \"Leith Links\", \"Meadows East\", \"Ocean Terminal\", \"Pollock Halls\", \"Portobello\", \"Riego Street\", \"Royal Commonwealth Pool\", \"Shrubhill\", \"St Andrew Square\", \"St Andrews House\", \"Stockbridge\", \"Victoria Park\", \"Victoria Quay\", \"Waitrose, Comely Bank\", \"Waverley Bridge\", \"Waverley Court\", \"Waverley Station\"], \"y\": [4.25, 4.75, 1.0, 7.0, 2.25, 1.75, 4.5, 2.75, 1.5, 1.25, 2.0, 6.5, 2.0, 4.25, 2.0, 8.5, 0.5, 1.5, 3.25, 3.0, 2.0, 4.0, 0.75, 8.5, 1.75, 2.25, 0.25, 0.5], \"type\": \"bar\", \"uid\": \"3f00f5a6-f977-11e8-b749-9801a79eab69\"}], {\"bargap\": 0.25, \"bargroupgap\": 0.5, \"barmode\": \"group\", \"title\": \"Average count of destinations on each day of the week between 9:00-17:00\", \"xaxis\": {\"tickfont\": {\"color\": \"rgb(107, 107, 107)\", \"size\": 10}, \"title\": \"Bike Station\"}, \"yaxis\": {\"tickfont\": {\"color\": \"rgb(107, 107, 107)\", \"size\": 14}, \"title\": \"Average number of trips\", \"titlefont\": {\"color\": \"rgb(107, 107, 107)\", \"size\": 16}}}, {\"showLink\": true, \"linkText\": \"Export to plot.ly\"})});</script>"
      ]
     },
     "metadata": {},
     "output_type": "display_data"
    }
   ],
   "source": [
    "# Count the bike usage per station on each day, average those counts number for each day\n",
    "data = []\n",
    "day = [\"Monday\",'Tuesday','Wednesday','Thursday','Friday','Saturday','Sunday']\n",
    "\n",
    "for j,i in enumerate(bike_df.started_at.dt.dayofweek.unique()):\n",
    "    # I would like to discover the bike usage between 9:00-17:00\n",
    "    time_interval = (bike_df.ended_at.dt.dayofweek==i) & (bike_df.started_at.dt.hour>9) & (bike_df.started_at.dt.hour<17)\n",
    "    data.append(\n",
    "        go.Bar(\n",
    "            # Count the usage of each station\n",
    "            x=bike_df[time_interval].end_station_name.value_counts().sort_index().index,\n",
    "            # Average the counts for each day\n",
    "            y=(bike_df[time_interval].end_station_name.value_counts()/\n",
    "               len(bike_df[time_interval].ended_at.dt.day.value_counts())).sort_index(),\n",
    "            # Legend\n",
    "            name=day[j]\n",
    "        )\n",
    "    )\n",
    "\n",
    "    \n",
    "# Set the feature of the chart\n",
    "layout = go.Layout(\n",
    "    title='Average count of destinations on each day of the week between 9:00-17:00',\n",
    "    xaxis=dict(\n",
    "        title='Bike Station',\n",
    "        tickfont=dict(\n",
    "            size=10,\n",
    "            color='rgb(107, 107, 107)'\n",
    "        )\n",
    "    ),\n",
    "    yaxis=dict(\n",
    "        title='Average number of trips',\n",
    "        titlefont=dict(\n",
    "            size=16,\n",
    "            color='rgb(107, 107, 107)'\n",
    "        ),\n",
    "        tickfont=dict(\n",
    "            size=14,\n",
    "            color='rgb(107, 107, 107)'\n",
    "        )\n",
    "    ),\n",
    "    barmode='group',\n",
    "    bargap=0.25,\n",
    "    bargroupgap=0.5\n",
    ")\n",
    "\n",
    "# Plot the graph\n",
    "fig = go.Figure(data=data, layout=layout)\n",
    "iplot(fig, filename='basic-bar')"
   ]
  },
  {
   "cell_type": "markdown",
   "metadata": {},
   "source": [
    "\n",
    "- For daytime activity, we can see Portobello and Victoria Quay are two most popular places people would like to go on weekends.\n",
    "- Also, Canonmills and Stockbridge and Leith Links are quite popular places to go on weekends.\n",
    "- On workdays, people are mor likely to go to Canonmills and George Square."
   ]
  },
  {
   "cell_type": "markdown",
   "metadata": {},
   "source": [
    "Let's check the nighttime data."
   ]
  },
  {
   "cell_type": "code",
   "execution_count": 24,
   "metadata": {},
   "outputs": [
    {
     "data": {
      "application/vnd.plotly.v1+json": {
       "data": [
        {
         "name": "Monday",
         "type": "bar",
         "uid": "3f1822da-f977-11e8-8d27-9801a79eab69",
         "x": [
          "Brunswick Place",
          "Canonmills",
          "Castle Street",
          "Charlotte Square",
          "City Chambers",
          "Fountainbridge",
          "George Square",
          "Kings Building 3",
          "Meadows East",
          "Royal Commonwealth Pool",
          "Shrubhill",
          "St Andrew Square",
          "St Andrews House",
          "Stockbridge",
          "Victoria Park",
          "Victoria Quay",
          "Waitrose, Comely Bank",
          "Waverley Court"
         ],
         "y": [
          1,
          0.4,
          0.2,
          0.4,
          0.2,
          1.2,
          0.4,
          0.2,
          0.6,
          0.2,
          1.2,
          0.4,
          0.4,
          0.6,
          0.2,
          0.4,
          0.2,
          0.2
         ]
        },
        {
         "name": "Tuesday",
         "type": "bar",
         "uid": "3f1824ba-f977-11e8-93fc-9801a79eab69",
         "x": [
          "Bristo Square",
          "Brunswick Place",
          "Canonmills",
          "Charlotte Square",
          "Fountainbridge",
          "George Square",
          "Kings Building 2",
          "Kings Buildings 1",
          "Lauriston Place",
          "Leith Links",
          "Meadows East",
          "Pollock Halls",
          "Portobello",
          "Riego Street",
          "Shrubhill",
          "St Andrew Square",
          "St Andrews House",
          "Stockbridge",
          "Victoria Park",
          "Victoria Quay",
          "Waitrose, Comely Bank",
          "Waverley Court",
          "Waverley Station"
         ],
         "y": [
          0.4,
          3.2,
          0.8,
          0.8,
          1.4,
          1,
          0.2,
          0.6,
          0.2,
          0.6,
          1.2,
          0.2,
          0.6,
          0.2,
          1,
          0.6,
          0.2,
          0.8,
          0.2,
          0.6,
          0.2,
          0.2,
          0.8
         ]
        },
        {
         "name": "Wednesday",
         "type": "bar",
         "uid": "3f1825c8-f977-11e8-9570-9801a79eab69",
         "x": [
          "Brunswick Place",
          "Canonmills",
          "Charlotte Square",
          "Fountainbridge",
          "George Square",
          "Kings Building 3",
          "Leith Links",
          "Meadows East",
          "Pollock Halls",
          "Portobello",
          "Riego Street",
          "Royal Commonwealth Pool",
          "Shrubhill",
          "St Andrew Square",
          "Victoria Park",
          "Victoria Quay",
          "Waitrose, Comely Bank"
         ],
         "y": [
          0.5,
          0.5,
          0.75,
          2.5,
          1.5,
          0.25,
          0.5,
          0.5,
          0.75,
          0.25,
          0.25,
          0.25,
          2,
          0.5,
          0.75,
          0.75,
          0.5
         ]
        },
        {
         "name": "Thursday",
         "type": "bar",
         "uid": "3f182690-f977-11e8-a572-9801a79eab69",
         "x": [
          "Bristo Square",
          "Brunswick Place",
          "Canonmills",
          "Charlotte Square",
          "City Chambers",
          "Fountainbridge",
          "George Square",
          "Kings Building 3",
          "Kings Buildings 1",
          "Lauriston Place",
          "Leith Links",
          "Meadows East",
          "Ocean Terminal",
          "Pollock Halls",
          "Portobello",
          "Riego Street",
          "Shrubhill",
          "St Andrew Square",
          "St Andrews House",
          "Stockbridge",
          "Victoria Quay",
          "Waitrose, Comely Bank",
          "Waverley Bridge",
          "Waverley Station"
         ],
         "y": [
          0.5,
          0.5,
          0.5,
          1.75,
          0.25,
          2,
          0.25,
          0.5,
          0.25,
          0.25,
          0.75,
          1.5,
          0.25,
          0.5,
          0.5,
          1,
          1.5,
          0.25,
          0.75,
          2,
          0.75,
          0.25,
          1,
          0.5
         ]
        },
        {
         "name": "Friday",
         "type": "bar",
         "uid": "3f18274c-f977-11e8-b78c-9801a79eab69",
         "x": [
          "Bristo Square",
          "Brunswick Place",
          "Bruntsfield",
          "Canonmills",
          "Charlotte Square",
          "Fountainbridge",
          "George Square",
          "Lauriston Place",
          "Leith Links",
          "Meadows East",
          "Ocean Terminal",
          "Pollock Halls",
          "Shrubhill",
          "St Andrew Square",
          "Stockbridge",
          "Victoria Park",
          "Victoria Quay",
          "Waverley Bridge"
         ],
         "y": [
          0.25,
          1,
          0.5,
          0.75,
          0.5,
          1.5,
          1.25,
          1.5,
          0.25,
          0.5,
          0.75,
          0.75,
          2,
          0.25,
          0.75,
          1.5,
          0.75,
          0.25
         ]
        },
        {
         "name": "Saturday",
         "type": "bar",
         "uid": "3f182802-f977-11e8-9e1d-9801a79eab69",
         "x": [
          "Bristo Square",
          "Brunswick Place",
          "Canonmills",
          "Charlotte Square",
          "Fountainbridge",
          "George Square",
          "Kings Building 2",
          "Leith Links",
          "Meadows East",
          "Ocean Terminal",
          "Portobello",
          "Riego Street",
          "Shrubhill",
          "St Andrew Square",
          "St Andrews House",
          "Stockbridge"
         ],
         "y": [
          0.5,
          0.5,
          0.5,
          1.5,
          1.75,
          0.5,
          0.5,
          0.5,
          0.75,
          0.25,
          0.25,
          2,
          2,
          0.5,
          0.25,
          0.5
         ]
        },
        {
         "name": "Sunday",
         "type": "bar",
         "uid": "3f1828a2-f977-11e8-88a4-9801a79eab69",
         "x": [
          "Bristo Square",
          "Brunswick Place",
          "Canonmills",
          "Castle Street",
          "Fountainbridge",
          "Kings Building 2",
          "Leith Links",
          "Meadows East",
          "Ocean Terminal",
          "Pollock Halls",
          "Portobello",
          "Riego Street",
          "Royal Commonwealth Pool",
          "Shrubhill",
          "St Andrew Square",
          "Victoria Quay",
          "Waitrose, Comely Bank",
          "Waverley Bridge",
          "Waverley Station"
         ],
         "y": [
          0.25,
          2,
          0.25,
          0.25,
          2,
          0.25,
          0.25,
          0.5,
          0.5,
          0.75,
          0.5,
          0.75,
          0.25,
          1.25,
          0.25,
          0.75,
          0.25,
          0.25,
          0.5
         ]
        }
       ],
       "layout": {
        "bargap": 0.25,
        "bargroupgap": 0.5,
        "barmode": "group",
        "title": "Average count of destinations on each day of the week between 17:00-21:00",
        "xaxis": {
         "tickfont": {
          "color": "rgb(107, 107, 107)",
          "size": 10
         },
         "title": "Bike Station"
        },
        "yaxis": {
         "tickfont": {
          "color": "rgb(107, 107, 107)",
          "size": 14
         },
         "title": "Average number of trips",
         "titlefont": {
          "color": "rgb(107, 107, 107)",
          "size": 16
         }
        }
       }
      },
      "text/html": [
       "<div id=\"5a889964-ea38-4ab1-a823-b306d9a1ac48\" style=\"height: 525px; width: 100%;\" class=\"plotly-graph-div\"></div><script type=\"text/javascript\">require([\"plotly\"], function(Plotly) { window.PLOTLYENV=window.PLOTLYENV || {};window.PLOTLYENV.BASE_URL=\"https://plot.ly\";Plotly.newPlot(\"5a889964-ea38-4ab1-a823-b306d9a1ac48\", [{\"name\": \"Monday\", \"x\": [\"Brunswick Place\", \"Canonmills\", \"Castle Street\", \"Charlotte Square\", \"City Chambers\", \"Fountainbridge\", \"George Square\", \"Kings Building 3\", \"Meadows East\", \"Royal Commonwealth Pool\", \"Shrubhill\", \"St Andrew Square\", \"St Andrews House\", \"Stockbridge\", \"Victoria Park\", \"Victoria Quay\", \"Waitrose, Comely Bank\", \"Waverley Court\"], \"y\": [1.0, 0.4, 0.2, 0.4, 0.2, 1.2, 0.4, 0.2, 0.6, 0.2, 1.2, 0.4, 0.4, 0.6, 0.2, 0.4, 0.2, 0.2], \"type\": \"bar\", \"uid\": \"3f1822da-f977-11e8-8d27-9801a79eab69\"}, {\"name\": \"Tuesday\", \"x\": [\"Bristo Square\", \"Brunswick Place\", \"Canonmills\", \"Charlotte Square\", \"Fountainbridge\", \"George Square\", \"Kings Building 2\", \"Kings Buildings 1\", \"Lauriston Place\", \"Leith Links\", \"Meadows East\", \"Pollock Halls\", \"Portobello\", \"Riego Street\", \"Shrubhill\", \"St Andrew Square\", \"St Andrews House\", \"Stockbridge\", \"Victoria Park\", \"Victoria Quay\", \"Waitrose, Comely Bank\", \"Waverley Court\", \"Waverley Station\"], \"y\": [0.4, 3.2, 0.8, 0.8, 1.4, 1.0, 0.2, 0.6, 0.2, 0.6, 1.2, 0.2, 0.6, 0.2, 1.0, 0.6, 0.2, 0.8, 0.2, 0.6, 0.2, 0.2, 0.8], \"type\": \"bar\", \"uid\": \"3f1824ba-f977-11e8-93fc-9801a79eab69\"}, {\"name\": \"Wednesday\", \"x\": [\"Brunswick Place\", \"Canonmills\", \"Charlotte Square\", \"Fountainbridge\", \"George Square\", \"Kings Building 3\", \"Leith Links\", \"Meadows East\", \"Pollock Halls\", \"Portobello\", \"Riego Street\", \"Royal Commonwealth Pool\", \"Shrubhill\", \"St Andrew Square\", \"Victoria Park\", \"Victoria Quay\", \"Waitrose, Comely Bank\"], \"y\": [0.5, 0.5, 0.75, 2.5, 1.5, 0.25, 0.5, 0.5, 0.75, 0.25, 0.25, 0.25, 2.0, 0.5, 0.75, 0.75, 0.5], \"type\": \"bar\", \"uid\": \"3f1825c8-f977-11e8-9570-9801a79eab69\"}, {\"name\": \"Thursday\", \"x\": [\"Bristo Square\", \"Brunswick Place\", \"Canonmills\", \"Charlotte Square\", \"City Chambers\", \"Fountainbridge\", \"George Square\", \"Kings Building 3\", \"Kings Buildings 1\", \"Lauriston Place\", \"Leith Links\", \"Meadows East\", \"Ocean Terminal\", \"Pollock Halls\", \"Portobello\", \"Riego Street\", \"Shrubhill\", \"St Andrew Square\", \"St Andrews House\", \"Stockbridge\", \"Victoria Quay\", \"Waitrose, Comely Bank\", \"Waverley Bridge\", \"Waverley Station\"], \"y\": [0.5, 0.5, 0.5, 1.75, 0.25, 2.0, 0.25, 0.5, 0.25, 0.25, 0.75, 1.5, 0.25, 0.5, 0.5, 1.0, 1.5, 0.25, 0.75, 2.0, 0.75, 0.25, 1.0, 0.5], \"type\": \"bar\", \"uid\": \"3f182690-f977-11e8-a572-9801a79eab69\"}, {\"name\": \"Friday\", \"x\": [\"Bristo Square\", \"Brunswick Place\", \"Bruntsfield\", \"Canonmills\", \"Charlotte Square\", \"Fountainbridge\", \"George Square\", \"Lauriston Place\", \"Leith Links\", \"Meadows East\", \"Ocean Terminal\", \"Pollock Halls\", \"Shrubhill\", \"St Andrew Square\", \"Stockbridge\", \"Victoria Park\", \"Victoria Quay\", \"Waverley Bridge\"], \"y\": [0.25, 1.0, 0.5, 0.75, 0.5, 1.5, 1.25, 1.5, 0.25, 0.5, 0.75, 0.75, 2.0, 0.25, 0.75, 1.5, 0.75, 0.25], \"type\": \"bar\", \"uid\": \"3f18274c-f977-11e8-b78c-9801a79eab69\"}, {\"name\": \"Saturday\", \"x\": [\"Bristo Square\", \"Brunswick Place\", \"Canonmills\", \"Charlotte Square\", \"Fountainbridge\", \"George Square\", \"Kings Building 2\", \"Leith Links\", \"Meadows East\", \"Ocean Terminal\", \"Portobello\", \"Riego Street\", \"Shrubhill\", \"St Andrew Square\", \"St Andrews House\", \"Stockbridge\"], \"y\": [0.5, 0.5, 0.5, 1.5, 1.75, 0.5, 0.5, 0.5, 0.75, 0.25, 0.25, 2.0, 2.0, 0.5, 0.25, 0.5], \"type\": \"bar\", \"uid\": \"3f182802-f977-11e8-9e1d-9801a79eab69\"}, {\"name\": \"Sunday\", \"x\": [\"Bristo Square\", \"Brunswick Place\", \"Canonmills\", \"Castle Street\", \"Fountainbridge\", \"Kings Building 2\", \"Leith Links\", \"Meadows East\", \"Ocean Terminal\", \"Pollock Halls\", \"Portobello\", \"Riego Street\", \"Royal Commonwealth Pool\", \"Shrubhill\", \"St Andrew Square\", \"Victoria Quay\", \"Waitrose, Comely Bank\", \"Waverley Bridge\", \"Waverley Station\"], \"y\": [0.25, 2.0, 0.25, 0.25, 2.0, 0.25, 0.25, 0.5, 0.5, 0.75, 0.5, 0.75, 0.25, 1.25, 0.25, 0.75, 0.25, 0.25, 0.5], \"type\": \"bar\", \"uid\": \"3f1828a2-f977-11e8-88a4-9801a79eab69\"}], {\"bargap\": 0.25, \"bargroupgap\": 0.5, \"barmode\": \"group\", \"title\": \"Average count of destinations on each day of the week between 17:00-21:00\", \"xaxis\": {\"tickfont\": {\"color\": \"rgb(107, 107, 107)\", \"size\": 10}, \"title\": \"Bike Station\"}, \"yaxis\": {\"tickfont\": {\"color\": \"rgb(107, 107, 107)\", \"size\": 14}, \"title\": \"Average number of trips\", \"titlefont\": {\"color\": \"rgb(107, 107, 107)\", \"size\": 16}}}, {\"showLink\": true, \"linkText\": \"Export to plot.ly\"})});</script>"
      ],
      "text/vnd.plotly.v1+html": [
       "<div id=\"5a889964-ea38-4ab1-a823-b306d9a1ac48\" style=\"height: 525px; width: 100%;\" class=\"plotly-graph-div\"></div><script type=\"text/javascript\">require([\"plotly\"], function(Plotly) { window.PLOTLYENV=window.PLOTLYENV || {};window.PLOTLYENV.BASE_URL=\"https://plot.ly\";Plotly.newPlot(\"5a889964-ea38-4ab1-a823-b306d9a1ac48\", [{\"name\": \"Monday\", \"x\": [\"Brunswick Place\", \"Canonmills\", \"Castle Street\", \"Charlotte Square\", \"City Chambers\", \"Fountainbridge\", \"George Square\", \"Kings Building 3\", \"Meadows East\", \"Royal Commonwealth Pool\", \"Shrubhill\", \"St Andrew Square\", \"St Andrews House\", \"Stockbridge\", \"Victoria Park\", \"Victoria Quay\", \"Waitrose, Comely Bank\", \"Waverley Court\"], \"y\": [1.0, 0.4, 0.2, 0.4, 0.2, 1.2, 0.4, 0.2, 0.6, 0.2, 1.2, 0.4, 0.4, 0.6, 0.2, 0.4, 0.2, 0.2], \"type\": \"bar\", \"uid\": \"3f1822da-f977-11e8-8d27-9801a79eab69\"}, {\"name\": \"Tuesday\", \"x\": [\"Bristo Square\", \"Brunswick Place\", \"Canonmills\", \"Charlotte Square\", \"Fountainbridge\", \"George Square\", \"Kings Building 2\", \"Kings Buildings 1\", \"Lauriston Place\", \"Leith Links\", \"Meadows East\", \"Pollock Halls\", \"Portobello\", \"Riego Street\", \"Shrubhill\", \"St Andrew Square\", \"St Andrews House\", \"Stockbridge\", \"Victoria Park\", \"Victoria Quay\", \"Waitrose, Comely Bank\", \"Waverley Court\", \"Waverley Station\"], \"y\": [0.4, 3.2, 0.8, 0.8, 1.4, 1.0, 0.2, 0.6, 0.2, 0.6, 1.2, 0.2, 0.6, 0.2, 1.0, 0.6, 0.2, 0.8, 0.2, 0.6, 0.2, 0.2, 0.8], \"type\": \"bar\", \"uid\": \"3f1824ba-f977-11e8-93fc-9801a79eab69\"}, {\"name\": \"Wednesday\", \"x\": [\"Brunswick Place\", \"Canonmills\", \"Charlotte Square\", \"Fountainbridge\", \"George Square\", \"Kings Building 3\", \"Leith Links\", \"Meadows East\", \"Pollock Halls\", \"Portobello\", \"Riego Street\", \"Royal Commonwealth Pool\", \"Shrubhill\", \"St Andrew Square\", \"Victoria Park\", \"Victoria Quay\", \"Waitrose, Comely Bank\"], \"y\": [0.5, 0.5, 0.75, 2.5, 1.5, 0.25, 0.5, 0.5, 0.75, 0.25, 0.25, 0.25, 2.0, 0.5, 0.75, 0.75, 0.5], \"type\": \"bar\", \"uid\": \"3f1825c8-f977-11e8-9570-9801a79eab69\"}, {\"name\": \"Thursday\", \"x\": [\"Bristo Square\", \"Brunswick Place\", \"Canonmills\", \"Charlotte Square\", \"City Chambers\", \"Fountainbridge\", \"George Square\", \"Kings Building 3\", \"Kings Buildings 1\", \"Lauriston Place\", \"Leith Links\", \"Meadows East\", \"Ocean Terminal\", \"Pollock Halls\", \"Portobello\", \"Riego Street\", \"Shrubhill\", \"St Andrew Square\", \"St Andrews House\", \"Stockbridge\", \"Victoria Quay\", \"Waitrose, Comely Bank\", \"Waverley Bridge\", \"Waverley Station\"], \"y\": [0.5, 0.5, 0.5, 1.75, 0.25, 2.0, 0.25, 0.5, 0.25, 0.25, 0.75, 1.5, 0.25, 0.5, 0.5, 1.0, 1.5, 0.25, 0.75, 2.0, 0.75, 0.25, 1.0, 0.5], \"type\": \"bar\", \"uid\": \"3f182690-f977-11e8-a572-9801a79eab69\"}, {\"name\": \"Friday\", \"x\": [\"Bristo Square\", \"Brunswick Place\", \"Bruntsfield\", \"Canonmills\", \"Charlotte Square\", \"Fountainbridge\", \"George Square\", \"Lauriston Place\", \"Leith Links\", \"Meadows East\", \"Ocean Terminal\", \"Pollock Halls\", \"Shrubhill\", \"St Andrew Square\", \"Stockbridge\", \"Victoria Park\", \"Victoria Quay\", \"Waverley Bridge\"], \"y\": [0.25, 1.0, 0.5, 0.75, 0.5, 1.5, 1.25, 1.5, 0.25, 0.5, 0.75, 0.75, 2.0, 0.25, 0.75, 1.5, 0.75, 0.25], \"type\": \"bar\", \"uid\": \"3f18274c-f977-11e8-b78c-9801a79eab69\"}, {\"name\": \"Saturday\", \"x\": [\"Bristo Square\", \"Brunswick Place\", \"Canonmills\", \"Charlotte Square\", \"Fountainbridge\", \"George Square\", \"Kings Building 2\", \"Leith Links\", \"Meadows East\", \"Ocean Terminal\", \"Portobello\", \"Riego Street\", \"Shrubhill\", \"St Andrew Square\", \"St Andrews House\", \"Stockbridge\"], \"y\": [0.5, 0.5, 0.5, 1.5, 1.75, 0.5, 0.5, 0.5, 0.75, 0.25, 0.25, 2.0, 2.0, 0.5, 0.25, 0.5], \"type\": \"bar\", \"uid\": \"3f182802-f977-11e8-9e1d-9801a79eab69\"}, {\"name\": \"Sunday\", \"x\": [\"Bristo Square\", \"Brunswick Place\", \"Canonmills\", \"Castle Street\", \"Fountainbridge\", \"Kings Building 2\", \"Leith Links\", \"Meadows East\", \"Ocean Terminal\", \"Pollock Halls\", \"Portobello\", \"Riego Street\", \"Royal Commonwealth Pool\", \"Shrubhill\", \"St Andrew Square\", \"Victoria Quay\", \"Waitrose, Comely Bank\", \"Waverley Bridge\", \"Waverley Station\"], \"y\": [0.25, 2.0, 0.25, 0.25, 2.0, 0.25, 0.25, 0.5, 0.5, 0.75, 0.5, 0.75, 0.25, 1.25, 0.25, 0.75, 0.25, 0.25, 0.5], \"type\": \"bar\", \"uid\": \"3f1828a2-f977-11e8-88a4-9801a79eab69\"}], {\"bargap\": 0.25, \"bargroupgap\": 0.5, \"barmode\": \"group\", \"title\": \"Average count of destinations on each day of the week between 17:00-21:00\", \"xaxis\": {\"tickfont\": {\"color\": \"rgb(107, 107, 107)\", \"size\": 10}, \"title\": \"Bike Station\"}, \"yaxis\": {\"tickfont\": {\"color\": \"rgb(107, 107, 107)\", \"size\": 14}, \"title\": \"Average number of trips\", \"titlefont\": {\"color\": \"rgb(107, 107, 107)\", \"size\": 16}}}, {\"showLink\": true, \"linkText\": \"Export to plot.ly\"})});</script>"
      ]
     },
     "metadata": {},
     "output_type": "display_data"
    }
   ],
   "source": [
    "# Count the bike usage per station on each day, average those counts number for each day\n",
    "data = []\n",
    "day = [\"Monday\",'Tuesday','Wednesday','Thursday','Friday','Saturday','Sunday']\n",
    "\n",
    "\n",
    "for j,i in enumerate(bike_df.started_at.dt.dayofweek.unique()):\n",
    "    # I would like to discover the bike usage between 17:00-21:00\n",
    "    time_interval = (bike_df.ended_at.dt.dayofweek==i) & (bike_df.started_at.dt.hour>17) & (bike_df.started_at.dt.hour<21)\n",
    "    data.append(\n",
    "        go.Bar(\n",
    "            # Count the usage of each station\n",
    "            x=bike_df[time_interval].end_station_name.value_counts().sort_index().index,\n",
    "            # Average the counts for each day\n",
    "            y=(bike_df[time_interval].end_station_name.value_counts()/\n",
    "               len(bike_df[time_interval].ended_at.dt.day.value_counts())).sort_index(),\n",
    "            # Legend\n",
    "            name=day[j]\n",
    "        )\n",
    "    )\n",
    "\n",
    "# Set the feature of the chart\n",
    "layout = go.Layout(\n",
    "    title='Average count of destinations on each day of the week between 17:00-21:00',\n",
    "    xaxis=dict(\n",
    "        title='Bike Station',\n",
    "        tickfont=dict(\n",
    "            size=10,\n",
    "            color='rgb(107, 107, 107)'\n",
    "        )\n",
    "    ),\n",
    "    yaxis=dict(\n",
    "        title='Average number of trips',\n",
    "        titlefont=dict(\n",
    "            size=16,\n",
    "            color='rgb(107, 107, 107)'\n",
    "        ),\n",
    "        tickfont=dict(\n",
    "            size=14,\n",
    "            color='rgb(107, 107, 107)'\n",
    "        )\n",
    "    ),\n",
    "    barmode='group',\n",
    "    bargap=0.25,\n",
    "    bargroupgap=0.5\n",
    ")\n",
    "\n",
    "\n",
    "# Plot the graph\n",
    "fig = go.Figure(data=data, layout=layout)\n",
    "iplot(fig, filename='basic-bar')"
   ]
  },
  {
   "cell_type": "markdown",
   "metadata": {},
   "source": [
    "- We can see Fountainbridge, Shrubhill and Riego Street are the most popular places to go at night on weekends.\n",
    "- Fountainbridge, Shrubhill are still popular on workday night, whereas Riego Street is not as popular as it is on weekends. Brunswick Place and Charlotte Square are quite popular for workday night."
   ]
  },
  {
   "cell_type": "markdown",
   "metadata": {},
   "source": [
    "Last, check the data for midnight, I suggest the time interval of 21:00-3:00."
   ]
  },
  {
   "cell_type": "code",
   "execution_count": 25,
   "metadata": {},
   "outputs": [
    {
     "data": {
      "application/vnd.plotly.v1+json": {
       "data": [
        {
         "name": "Monday",
         "type": "bar",
         "uid": "3f314c10-f977-11e8-83bd-9801a79eab69",
         "x": [
          "Fountainbridge",
          "Canonmills",
          "Brunswick Place",
          "Meadows East",
          "Pollock Halls",
          "St Andrew Square",
          "Shrubhill",
          "Bristo Square",
          "Victoria Quay",
          "Portobello",
          "Stockbridge",
          "Riego Street",
          "Lauriston Place",
          "Kings Building 3",
          "Bruntsfield",
          "St Andrews House",
          "Leith Links",
          "Royal Commonwealth Pool",
          "George Square",
          "Waverley Bridge"
         ],
         "y": [
          0.15384615384615385,
          0.5,
          0.11538461538461539,
          0.5384615384615384,
          0.5769230769230769,
          0.038461538461538464,
          0.11538461538461539,
          0.15384615384615385,
          0.038461538461538464,
          0.4230769230769231,
          0.2692307692307692,
          0.15384615384615385,
          0.15384615384615385,
          0.038461538461538464,
          0.19230769230769232,
          0.23076923076923078,
          0.07692307692307693,
          0.15384615384615385,
          0.15384615384615385,
          0.038461538461538464
         ]
        },
        {
         "name": "Tuesday",
         "type": "bar",
         "uid": "3f314e5e-f977-11e8-9747-9801a79eab69",
         "x": [
          "Fountainbridge",
          "Brunswick Place",
          "Canonmills",
          "Meadows East",
          "Pollock Halls",
          "Bristo Square",
          "Lauriston Place",
          "Victoria Quay",
          "Stockbridge",
          "Shrubhill",
          "St Andrew Square",
          "Riego Street",
          "Kings Building 3",
          "Bruntsfield",
          "Portobello",
          "Royal Commonwealth Pool",
          "George Square",
          "Leith Links",
          "St Andrews House",
          "Waverley Bridge"
         ],
         "y": [
          0.25,
          0.4642857142857143,
          0.07142857142857142,
          0.39285714285714285,
          0.5714285714285714,
          0.03571428571428571,
          0.10714285714285714,
          0.21428571428571427,
          0.03571428571428571,
          0.35714285714285715,
          0.2857142857142857,
          0.07142857142857142,
          0.14285714285714285,
          0.03571428571428571,
          0.14285714285714285,
          0.14285714285714285,
          0.03571428571428571,
          0.14285714285714285,
          0.17857142857142858,
          0.03571428571428571
         ]
        },
        {
         "name": "Wednesday",
         "type": "bar",
         "uid": "3f314f94-f977-11e8-bd28-9801a79eab69",
         "x": [
          "Brunswick Place",
          "Meadows East",
          "Fountainbridge",
          "Canonmills",
          "Shrubhill",
          "Pollock Halls",
          "Riego Street",
          "Stockbridge",
          "Charlotte Square",
          "St Andrew Square",
          "Bristo Square",
          "Victoria Quay",
          "Lauriston Place",
          "Portobello",
          "Royal Commonwealth Pool",
          "Kings Building 3",
          "Bruntsfield",
          "Leith Links",
          "George Square",
          "St Andrews House",
          "Waverley Bridge"
         ],
         "y": [
          0.14814814814814814,
          0.5925925925925926,
          0.07407407407407407,
          0.4074074074074074,
          0.14814814814814814,
          0.48148148148148145,
          0.037037037037037035,
          0.1111111111111111,
          0.14814814814814814,
          0.037037037037037035,
          0.48148148148148145,
          0.2222222222222222,
          0.1111111111111111,
          0.18518518518518517,
          0.1111111111111111,
          0.3333333333333333,
          0.14814814814814814,
          0.037037037037037035,
          0.18518518518518517,
          0.14814814814814814,
          0.037037037037037035
         ]
        },
        {
         "name": "Thursday",
         "type": "bar",
         "uid": "3f3150a2-f977-11e8-a884-9801a79eab69",
         "x": [
          "Fountainbridge",
          "Brunswick Place",
          "Canonmills",
          "Meadows East",
          "Shrubhill",
          "Pollock Halls",
          "Bristo Square",
          "Stockbridge",
          "St Andrew Square",
          "Victoria Quay",
          "Riego Street",
          "Lauriston Place",
          "Kings Building 3",
          "Portobello",
          "Bruntsfield",
          "Royal Commonwealth Pool",
          "Leith Links",
          "George Square",
          "St Andrews House",
          "Waverley Bridge"
         ],
         "y": [
          0.23076923076923078,
          0.5769230769230769,
          0.07692307692307693,
          0.5,
          0.8461538461538461,
          0.038461538461538464,
          0.11538461538461539,
          0.15384615384615385,
          0.07692307692307693,
          0.4230769230769231,
          0.23076923076923078,
          0.07692307692307693,
          0.15384615384615385,
          0.07692307692307693,
          0.2692307692307692,
          0.15384615384615385,
          0.038461538461538464,
          0.19230769230769232,
          0.15384615384615385,
          0.038461538461538464
         ]
        },
        {
         "name": "Friday",
         "type": "bar",
         "uid": "3f31519c-f977-11e8-be34-9801a79eab69",
         "x": [
          "Fountainbridge",
          "Brunswick Place",
          "Meadows East",
          "Canonmills",
          "Lauriston Place",
          "Victoria Quay",
          "Shrubhill",
          "Pollock Halls",
          "Stockbridge",
          "St Andrew Square",
          "Bristo Square",
          "Riego Street",
          "Royal Commonwealth Pool",
          "Kings Building 3",
          "Portobello",
          "Bruntsfield",
          "George Square",
          "Leith Links",
          "St Andrews House",
          "Waverley Bridge"
         ],
         "y": [
          0.14814814814814814,
          0.5185185185185185,
          0.07407407407407407,
          0.4074074074074074,
          0.6666666666666666,
          0.07407407407407407,
          0.1111111111111111,
          0.2962962962962963,
          0.07407407407407407,
          0.4444444444444444,
          0.2222222222222222,
          0.07407407407407407,
          0.14814814814814814,
          0.1111111111111111,
          0.25925925925925924,
          0.18518518518518517,
          0.037037037037037035,
          0.18518518518518517,
          0.2962962962962963,
          0.037037037037037035
         ]
        },
        {
         "name": "Saturday",
         "type": "bar",
         "uid": "3f31528c-f977-11e8-ba14-9801a79eab69",
         "x": [
          "Brunswick Place",
          "Fountainbridge",
          "Meadows East",
          "Canonmills",
          "Lauriston Place",
          "Pollock Halls",
          "Riego Street",
          "Victoria Quay",
          "Shrubhill",
          "St Andrew Square",
          "Bristo Square",
          "Stockbridge",
          "Kings Building 3",
          "Bruntsfield",
          "Portobello",
          "George Square",
          "Royal Commonwealth Pool",
          "Waitrose, Comely Bank",
          "Leith Links",
          "St Andrews House",
          "Waverley Bridge"
         ],
         "y": [
          0.15384615384615385,
          0.6538461538461539,
          0.07692307692307693,
          0.46153846153846156,
          0.5384615384615384,
          0.038461538461538464,
          0.11538461538461539,
          0.3076923076923077,
          0.038461538461538464,
          0.46153846153846156,
          0.2692307692307692,
          0.07692307692307693,
          0.19230769230769232,
          0.038461538461538464,
          0.15384615384615385,
          0.15384615384615385,
          0.038461538461538464,
          0.15384615384615385,
          0.19230769230769232,
          0.038461538461538464,
          0.038461538461538464
         ]
        },
        {
         "name": "Sunday",
         "type": "bar",
         "uid": "3f31535e-f977-11e8-875f-9801a79eab69",
         "x": [
          "Fountainbridge",
          "Canonmills",
          "Brunswick Place",
          "Meadows East",
          "Pollock Halls",
          "Shrubhill",
          "Lauriston Place",
          "Riego Street",
          "Stockbridge",
          "St Andrew Square",
          "Bristo Square",
          "Victoria Quay",
          "Kings Building 3",
          "Portobello",
          "Bruntsfield",
          "Leith Links",
          "St Andrews House",
          "Royal Commonwealth Pool",
          "George Square",
          "Waverley Bridge"
         ],
         "y": [
          0.15384615384615385,
          0.46153846153846156,
          0.07692307692307693,
          0.5,
          0.5384615384615384,
          0.038461538461538464,
          0.11538461538461539,
          0.19230769230769232,
          0.07692307692307693,
          0.34615384615384615,
          0.2692307692307692,
          0.07692307692307693,
          0.19230769230769232,
          0.038461538461538464,
          0.23076923076923078,
          0.15384615384615385,
          0.07692307692307693,
          0.15384615384615385,
          0.15384615384615385,
          0.038461538461538464
         ]
        }
       ],
       "layout": {
        "bargap": 0.25,
        "bargroupgap": 0.5,
        "barmode": "group",
        "title": "Average count of destinations on each day of the week between 21:00-3:00",
        "xaxis": {
         "tickfont": {
          "color": "rgb(107, 107, 107)",
          "size": 10
         },
         "title": "Bike Station"
        },
        "yaxis": {
         "tickfont": {
          "color": "rgb(107, 107, 107)",
          "size": 14
         },
         "title": "Average number of trips",
         "titlefont": {
          "color": "rgb(107, 107, 107)",
          "size": 16
         }
        }
       }
      },
      "text/html": [
       "<div id=\"574d25ff-45b1-49d2-8f96-4c7f710eef48\" style=\"height: 525px; width: 100%;\" class=\"plotly-graph-div\"></div><script type=\"text/javascript\">require([\"plotly\"], function(Plotly) { window.PLOTLYENV=window.PLOTLYENV || {};window.PLOTLYENV.BASE_URL=\"https://plot.ly\";Plotly.newPlot(\"574d25ff-45b1-49d2-8f96-4c7f710eef48\", [{\"name\": \"Monday\", \"x\": [\"Fountainbridge\", \"Canonmills\", \"Brunswick Place\", \"Meadows East\", \"Pollock Halls\", \"St Andrew Square\", \"Shrubhill\", \"Bristo Square\", \"Victoria Quay\", \"Portobello\", \"Stockbridge\", \"Riego Street\", \"Lauriston Place\", \"Kings Building 3\", \"Bruntsfield\", \"St Andrews House\", \"Leith Links\", \"Royal Commonwealth Pool\", \"George Square\", \"Waverley Bridge\"], \"y\": [0.15384615384615385, 0.5, 0.11538461538461539, 0.5384615384615384, 0.5769230769230769, 0.038461538461538464, 0.11538461538461539, 0.15384615384615385, 0.038461538461538464, 0.4230769230769231, 0.2692307692307692, 0.15384615384615385, 0.15384615384615385, 0.038461538461538464, 0.19230769230769232, 0.23076923076923078, 0.07692307692307693, 0.15384615384615385, 0.15384615384615385, 0.038461538461538464], \"type\": \"bar\", \"uid\": \"3f314c10-f977-11e8-83bd-9801a79eab69\"}, {\"name\": \"Tuesday\", \"x\": [\"Fountainbridge\", \"Brunswick Place\", \"Canonmills\", \"Meadows East\", \"Pollock Halls\", \"Bristo Square\", \"Lauriston Place\", \"Victoria Quay\", \"Stockbridge\", \"Shrubhill\", \"St Andrew Square\", \"Riego Street\", \"Kings Building 3\", \"Bruntsfield\", \"Portobello\", \"Royal Commonwealth Pool\", \"George Square\", \"Leith Links\", \"St Andrews House\", \"Waverley Bridge\"], \"y\": [0.25, 0.4642857142857143, 0.07142857142857142, 0.39285714285714285, 0.5714285714285714, 0.03571428571428571, 0.10714285714285714, 0.21428571428571427, 0.03571428571428571, 0.35714285714285715, 0.2857142857142857, 0.07142857142857142, 0.14285714285714285, 0.03571428571428571, 0.14285714285714285, 0.14285714285714285, 0.03571428571428571, 0.14285714285714285, 0.17857142857142858, 0.03571428571428571], \"type\": \"bar\", \"uid\": \"3f314e5e-f977-11e8-9747-9801a79eab69\"}, {\"name\": \"Wednesday\", \"x\": [\"Brunswick Place\", \"Meadows East\", \"Fountainbridge\", \"Canonmills\", \"Shrubhill\", \"Pollock Halls\", \"Riego Street\", \"Stockbridge\", \"Charlotte Square\", \"St Andrew Square\", \"Bristo Square\", \"Victoria Quay\", \"Lauriston Place\", \"Portobello\", \"Royal Commonwealth Pool\", \"Kings Building 3\", \"Bruntsfield\", \"Leith Links\", \"George Square\", \"St Andrews House\", \"Waverley Bridge\"], \"y\": [0.14814814814814814, 0.5925925925925926, 0.07407407407407407, 0.4074074074074074, 0.14814814814814814, 0.48148148148148145, 0.037037037037037035, 0.1111111111111111, 0.14814814814814814, 0.037037037037037035, 0.48148148148148145, 0.2222222222222222, 0.1111111111111111, 0.18518518518518517, 0.1111111111111111, 0.3333333333333333, 0.14814814814814814, 0.037037037037037035, 0.18518518518518517, 0.14814814814814814, 0.037037037037037035], \"type\": \"bar\", \"uid\": \"3f314f94-f977-11e8-bd28-9801a79eab69\"}, {\"name\": \"Thursday\", \"x\": [\"Fountainbridge\", \"Brunswick Place\", \"Canonmills\", \"Meadows East\", \"Shrubhill\", \"Pollock Halls\", \"Bristo Square\", \"Stockbridge\", \"St Andrew Square\", \"Victoria Quay\", \"Riego Street\", \"Lauriston Place\", \"Kings Building 3\", \"Portobello\", \"Bruntsfield\", \"Royal Commonwealth Pool\", \"Leith Links\", \"George Square\", \"St Andrews House\", \"Waverley Bridge\"], \"y\": [0.23076923076923078, 0.5769230769230769, 0.07692307692307693, 0.5, 0.8461538461538461, 0.038461538461538464, 0.11538461538461539, 0.15384615384615385, 0.07692307692307693, 0.4230769230769231, 0.23076923076923078, 0.07692307692307693, 0.15384615384615385, 0.07692307692307693, 0.2692307692307692, 0.15384615384615385, 0.038461538461538464, 0.19230769230769232, 0.15384615384615385, 0.038461538461538464], \"type\": \"bar\", \"uid\": \"3f3150a2-f977-11e8-a884-9801a79eab69\"}, {\"name\": \"Friday\", \"x\": [\"Fountainbridge\", \"Brunswick Place\", \"Meadows East\", \"Canonmills\", \"Lauriston Place\", \"Victoria Quay\", \"Shrubhill\", \"Pollock Halls\", \"Stockbridge\", \"St Andrew Square\", \"Bristo Square\", \"Riego Street\", \"Royal Commonwealth Pool\", \"Kings Building 3\", \"Portobello\", \"Bruntsfield\", \"George Square\", \"Leith Links\", \"St Andrews House\", \"Waverley Bridge\"], \"y\": [0.14814814814814814, 0.5185185185185185, 0.07407407407407407, 0.4074074074074074, 0.6666666666666666, 0.07407407407407407, 0.1111111111111111, 0.2962962962962963, 0.07407407407407407, 0.4444444444444444, 0.2222222222222222, 0.07407407407407407, 0.14814814814814814, 0.1111111111111111, 0.25925925925925924, 0.18518518518518517, 0.037037037037037035, 0.18518518518518517, 0.2962962962962963, 0.037037037037037035], \"type\": \"bar\", \"uid\": \"3f31519c-f977-11e8-be34-9801a79eab69\"}, {\"name\": \"Saturday\", \"x\": [\"Brunswick Place\", \"Fountainbridge\", \"Meadows East\", \"Canonmills\", \"Lauriston Place\", \"Pollock Halls\", \"Riego Street\", \"Victoria Quay\", \"Shrubhill\", \"St Andrew Square\", \"Bristo Square\", \"Stockbridge\", \"Kings Building 3\", \"Bruntsfield\", \"Portobello\", \"George Square\", \"Royal Commonwealth Pool\", \"Waitrose, Comely Bank\", \"Leith Links\", \"St Andrews House\", \"Waverley Bridge\"], \"y\": [0.15384615384615385, 0.6538461538461539, 0.07692307692307693, 0.46153846153846156, 0.5384615384615384, 0.038461538461538464, 0.11538461538461539, 0.3076923076923077, 0.038461538461538464, 0.46153846153846156, 0.2692307692307692, 0.07692307692307693, 0.19230769230769232, 0.038461538461538464, 0.15384615384615385, 0.15384615384615385, 0.038461538461538464, 0.15384615384615385, 0.19230769230769232, 0.038461538461538464, 0.038461538461538464], \"type\": \"bar\", \"uid\": \"3f31528c-f977-11e8-ba14-9801a79eab69\"}, {\"name\": \"Sunday\", \"x\": [\"Fountainbridge\", \"Canonmills\", \"Brunswick Place\", \"Meadows East\", \"Pollock Halls\", \"Shrubhill\", \"Lauriston Place\", \"Riego Street\", \"Stockbridge\", \"St Andrew Square\", \"Bristo Square\", \"Victoria Quay\", \"Kings Building 3\", \"Portobello\", \"Bruntsfield\", \"Leith Links\", \"St Andrews House\", \"Royal Commonwealth Pool\", \"George Square\", \"Waverley Bridge\"], \"y\": [0.15384615384615385, 0.46153846153846156, 0.07692307692307693, 0.5, 0.5384615384615384, 0.038461538461538464, 0.11538461538461539, 0.19230769230769232, 0.07692307692307693, 0.34615384615384615, 0.2692307692307692, 0.07692307692307693, 0.19230769230769232, 0.038461538461538464, 0.23076923076923078, 0.15384615384615385, 0.07692307692307693, 0.15384615384615385, 0.15384615384615385, 0.038461538461538464], \"type\": \"bar\", \"uid\": \"3f31535e-f977-11e8-875f-9801a79eab69\"}], {\"bargap\": 0.25, \"bargroupgap\": 0.5, \"barmode\": \"group\", \"title\": \"Average count of destinations on each day of the week between 21:00-3:00\", \"xaxis\": {\"tickfont\": {\"color\": \"rgb(107, 107, 107)\", \"size\": 10}, \"title\": \"Bike Station\"}, \"yaxis\": {\"tickfont\": {\"color\": \"rgb(107, 107, 107)\", \"size\": 14}, \"title\": \"Average number of trips\", \"titlefont\": {\"color\": \"rgb(107, 107, 107)\", \"size\": 16}}}, {\"showLink\": true, \"linkText\": \"Export to plot.ly\"})});</script>"
      ],
      "text/vnd.plotly.v1+html": [
       "<div id=\"574d25ff-45b1-49d2-8f96-4c7f710eef48\" style=\"height: 525px; width: 100%;\" class=\"plotly-graph-div\"></div><script type=\"text/javascript\">require([\"plotly\"], function(Plotly) { window.PLOTLYENV=window.PLOTLYENV || {};window.PLOTLYENV.BASE_URL=\"https://plot.ly\";Plotly.newPlot(\"574d25ff-45b1-49d2-8f96-4c7f710eef48\", [{\"name\": \"Monday\", \"x\": [\"Fountainbridge\", \"Canonmills\", \"Brunswick Place\", \"Meadows East\", \"Pollock Halls\", \"St Andrew Square\", \"Shrubhill\", \"Bristo Square\", \"Victoria Quay\", \"Portobello\", \"Stockbridge\", \"Riego Street\", \"Lauriston Place\", \"Kings Building 3\", \"Bruntsfield\", \"St Andrews House\", \"Leith Links\", \"Royal Commonwealth Pool\", \"George Square\", \"Waverley Bridge\"], \"y\": [0.15384615384615385, 0.5, 0.11538461538461539, 0.5384615384615384, 0.5769230769230769, 0.038461538461538464, 0.11538461538461539, 0.15384615384615385, 0.038461538461538464, 0.4230769230769231, 0.2692307692307692, 0.15384615384615385, 0.15384615384615385, 0.038461538461538464, 0.19230769230769232, 0.23076923076923078, 0.07692307692307693, 0.15384615384615385, 0.15384615384615385, 0.038461538461538464], \"type\": \"bar\", \"uid\": \"3f314c10-f977-11e8-83bd-9801a79eab69\"}, {\"name\": \"Tuesday\", \"x\": [\"Fountainbridge\", \"Brunswick Place\", \"Canonmills\", \"Meadows East\", \"Pollock Halls\", \"Bristo Square\", \"Lauriston Place\", \"Victoria Quay\", \"Stockbridge\", \"Shrubhill\", \"St Andrew Square\", \"Riego Street\", \"Kings Building 3\", \"Bruntsfield\", \"Portobello\", \"Royal Commonwealth Pool\", \"George Square\", \"Leith Links\", \"St Andrews House\", \"Waverley Bridge\"], \"y\": [0.25, 0.4642857142857143, 0.07142857142857142, 0.39285714285714285, 0.5714285714285714, 0.03571428571428571, 0.10714285714285714, 0.21428571428571427, 0.03571428571428571, 0.35714285714285715, 0.2857142857142857, 0.07142857142857142, 0.14285714285714285, 0.03571428571428571, 0.14285714285714285, 0.14285714285714285, 0.03571428571428571, 0.14285714285714285, 0.17857142857142858, 0.03571428571428571], \"type\": \"bar\", \"uid\": \"3f314e5e-f977-11e8-9747-9801a79eab69\"}, {\"name\": \"Wednesday\", \"x\": [\"Brunswick Place\", \"Meadows East\", \"Fountainbridge\", \"Canonmills\", \"Shrubhill\", \"Pollock Halls\", \"Riego Street\", \"Stockbridge\", \"Charlotte Square\", \"St Andrew Square\", \"Bristo Square\", \"Victoria Quay\", \"Lauriston Place\", \"Portobello\", \"Royal Commonwealth Pool\", \"Kings Building 3\", \"Bruntsfield\", \"Leith Links\", \"George Square\", \"St Andrews House\", \"Waverley Bridge\"], \"y\": [0.14814814814814814, 0.5925925925925926, 0.07407407407407407, 0.4074074074074074, 0.14814814814814814, 0.48148148148148145, 0.037037037037037035, 0.1111111111111111, 0.14814814814814814, 0.037037037037037035, 0.48148148148148145, 0.2222222222222222, 0.1111111111111111, 0.18518518518518517, 0.1111111111111111, 0.3333333333333333, 0.14814814814814814, 0.037037037037037035, 0.18518518518518517, 0.14814814814814814, 0.037037037037037035], \"type\": \"bar\", \"uid\": \"3f314f94-f977-11e8-bd28-9801a79eab69\"}, {\"name\": \"Thursday\", \"x\": [\"Fountainbridge\", \"Brunswick Place\", \"Canonmills\", \"Meadows East\", \"Shrubhill\", \"Pollock Halls\", \"Bristo Square\", \"Stockbridge\", \"St Andrew Square\", \"Victoria Quay\", \"Riego Street\", \"Lauriston Place\", \"Kings Building 3\", \"Portobello\", \"Bruntsfield\", \"Royal Commonwealth Pool\", \"Leith Links\", \"George Square\", \"St Andrews House\", \"Waverley Bridge\"], \"y\": [0.23076923076923078, 0.5769230769230769, 0.07692307692307693, 0.5, 0.8461538461538461, 0.038461538461538464, 0.11538461538461539, 0.15384615384615385, 0.07692307692307693, 0.4230769230769231, 0.23076923076923078, 0.07692307692307693, 0.15384615384615385, 0.07692307692307693, 0.2692307692307692, 0.15384615384615385, 0.038461538461538464, 0.19230769230769232, 0.15384615384615385, 0.038461538461538464], \"type\": \"bar\", \"uid\": \"3f3150a2-f977-11e8-a884-9801a79eab69\"}, {\"name\": \"Friday\", \"x\": [\"Fountainbridge\", \"Brunswick Place\", \"Meadows East\", \"Canonmills\", \"Lauriston Place\", \"Victoria Quay\", \"Shrubhill\", \"Pollock Halls\", \"Stockbridge\", \"St Andrew Square\", \"Bristo Square\", \"Riego Street\", \"Royal Commonwealth Pool\", \"Kings Building 3\", \"Portobello\", \"Bruntsfield\", \"George Square\", \"Leith Links\", \"St Andrews House\", \"Waverley Bridge\"], \"y\": [0.14814814814814814, 0.5185185185185185, 0.07407407407407407, 0.4074074074074074, 0.6666666666666666, 0.07407407407407407, 0.1111111111111111, 0.2962962962962963, 0.07407407407407407, 0.4444444444444444, 0.2222222222222222, 0.07407407407407407, 0.14814814814814814, 0.1111111111111111, 0.25925925925925924, 0.18518518518518517, 0.037037037037037035, 0.18518518518518517, 0.2962962962962963, 0.037037037037037035], \"type\": \"bar\", \"uid\": \"3f31519c-f977-11e8-be34-9801a79eab69\"}, {\"name\": \"Saturday\", \"x\": [\"Brunswick Place\", \"Fountainbridge\", \"Meadows East\", \"Canonmills\", \"Lauriston Place\", \"Pollock Halls\", \"Riego Street\", \"Victoria Quay\", \"Shrubhill\", \"St Andrew Square\", \"Bristo Square\", \"Stockbridge\", \"Kings Building 3\", \"Bruntsfield\", \"Portobello\", \"George Square\", \"Royal Commonwealth Pool\", \"Waitrose, Comely Bank\", \"Leith Links\", \"St Andrews House\", \"Waverley Bridge\"], \"y\": [0.15384615384615385, 0.6538461538461539, 0.07692307692307693, 0.46153846153846156, 0.5384615384615384, 0.038461538461538464, 0.11538461538461539, 0.3076923076923077, 0.038461538461538464, 0.46153846153846156, 0.2692307692307692, 0.07692307692307693, 0.19230769230769232, 0.038461538461538464, 0.15384615384615385, 0.15384615384615385, 0.038461538461538464, 0.15384615384615385, 0.19230769230769232, 0.038461538461538464, 0.038461538461538464], \"type\": \"bar\", \"uid\": \"3f31528c-f977-11e8-ba14-9801a79eab69\"}, {\"name\": \"Sunday\", \"x\": [\"Fountainbridge\", \"Canonmills\", \"Brunswick Place\", \"Meadows East\", \"Pollock Halls\", \"Shrubhill\", \"Lauriston Place\", \"Riego Street\", \"Stockbridge\", \"St Andrew Square\", \"Bristo Square\", \"Victoria Quay\", \"Kings Building 3\", \"Portobello\", \"Bruntsfield\", \"Leith Links\", \"St Andrews House\", \"Royal Commonwealth Pool\", \"George Square\", \"Waverley Bridge\"], \"y\": [0.15384615384615385, 0.46153846153846156, 0.07692307692307693, 0.5, 0.5384615384615384, 0.038461538461538464, 0.11538461538461539, 0.19230769230769232, 0.07692307692307693, 0.34615384615384615, 0.2692307692307692, 0.07692307692307693, 0.19230769230769232, 0.038461538461538464, 0.23076923076923078, 0.15384615384615385, 0.07692307692307693, 0.15384615384615385, 0.15384615384615385, 0.038461538461538464], \"type\": \"bar\", \"uid\": \"3f31535e-f977-11e8-875f-9801a79eab69\"}], {\"bargap\": 0.25, \"bargroupgap\": 0.5, \"barmode\": \"group\", \"title\": \"Average count of destinations on each day of the week between 21:00-3:00\", \"xaxis\": {\"tickfont\": {\"color\": \"rgb(107, 107, 107)\", \"size\": 10}, \"title\": \"Bike Station\"}, \"yaxis\": {\"tickfont\": {\"color\": \"rgb(107, 107, 107)\", \"size\": 14}, \"title\": \"Average number of trips\", \"titlefont\": {\"color\": \"rgb(107, 107, 107)\", \"size\": 16}}}, {\"showLink\": true, \"linkText\": \"Export to plot.ly\"})});</script>"
      ]
     },
     "metadata": {},
     "output_type": "display_data"
    }
   ],
   "source": [
    "# Count the bike usage per station on each day, average those counts number for each day\n",
    "data = []\n",
    "day = [\"Monday\",'Tuesday','Wednesday','Thursday','Friday','Saturday','Sunday']\n",
    "\n",
    "\n",
    "for j,i in enumerate(bike_df.started_at.dt.dayofweek.unique()):\n",
    "    # I would like to discover the bike usage between 21:00-3:00\n",
    "    time_interval = (bike_df.ended_at.dt.dayofweek==i) & (bike_df.started_at.dt.hour>21)|(bike_df.started_at.dt.hour<3)\n",
    "    data.append(\n",
    "        go.Bar(\n",
    "            # Count the usage of each station\n",
    "            x=bike_df[time_interval].end_station_name.value_counts().index,\n",
    "            # Average the counts for each day\n",
    "            y=(bike_df[time_interval].end_station_name.value_counts()/\n",
    "               len(bike_df[time_interval].ended_at.dt.day.value_counts())).sort_index(),\n",
    "            # Legend\n",
    "            name=day[j]\n",
    "        )\n",
    "    )\n",
    "\n",
    "# Set the feature of the chart\n",
    "layout = go.Layout(\n",
    "    title='Average count of destinations on each day of the week between 21:00-3:00',\n",
    "    xaxis=dict(\n",
    "        title='Bike Station',\n",
    "        tickfont=dict(\n",
    "            size=10,\n",
    "            color='rgb(107, 107, 107)'\n",
    "        )\n",
    "    ),\n",
    "    yaxis=dict(\n",
    "        title='Average number of trips',\n",
    "        titlefont=dict(\n",
    "            size=16,\n",
    "            color='rgb(107, 107, 107)'\n",
    "        ),\n",
    "        tickfont=dict(\n",
    "            size=14,\n",
    "            color='rgb(107, 107, 107)'\n",
    "        )\n",
    "    ),\n",
    "    barmode='group',\n",
    "    bargap=0.25,\n",
    "    bargroupgap=0.5\n",
    ")\n",
    "\n",
    "\n",
    "# Plot the graph\n",
    "fig = go.Figure(data=data, layout=layout)\n",
    "iplot(fig, filename='basic-bar')"
   ]
  },
  {
   "cell_type": "markdown",
   "metadata": {},
   "source": [
    "- We can see Meadows East, Victoria Quay, Lauriston Place and Fountainbridge are the most popular places to go in midnight on weekends.\n",
    "- Shrubhill, Meadows East, Pollock Halls and Brunswick Place are most popular places to go in midnight on workdays."
   ]
  },
  {
   "cell_type": "markdown",
   "metadata": {},
   "source": [
    "---"
   ]
  },
  {
   "cell_type": "markdown",
   "metadata": {},
   "source": [
    "## Task 2 - Text data analysis"
   ]
  },
  {
   "cell_type": "markdown",
   "metadata": {},
   "source": [
    "The second task concerns the text file `midsummer.txt` which contains the text of William Shakespeare's play *A Midsummer Night's Dream*. The play contains 5 acts, each with 2 scenes, and the task is to investigate them, and in particular to decide how positive or negative each scene is.\n",
    "\n",
    "To that end, there are two more data files: `positive-words.txt` and `negative-words.txt`, which contain lists of positive and negative words respectively. These words come from the paper *Minqing Hu and Bing Liu. \"Mining and summarizing customer reviews.\" Proceedings of the ACM SIGKDD International Conference on Knowledge Discovery & Data Mining, Seattle, Washington, USA, Aug 22-25, 2004*. So whilst the words are not ideal for our purpose (since they are mainly to do with product review sentiments), they still represent an interesting way to examine our scenes.\n",
    "\n",
    "- You should read in all three of the data files. You will need to split the play in 'midsummer.txt' up so that each scene can be considered individually.\n",
    "- You need to invent a metric for how positive or negative a given scene is, based on how many of the words in it are in the positive/negative word lists. For instance, is a scene containing one positive and one negative word: overall positive, negative or neutral? - try and develop a single measure based on the word occurrences that will describe the positivity/negativity of the scene.\n",
    "- Make a plot of the measure you have invented as a y-axis, with scene number as an x-axis.\n",
    "- When a character starts speaking, their name appears in capitals, on its own line. Which character(s) speak most often?\n",
    "- Can you use this data to answer any other questions about the data? For instance, could you compare different measures of positivity/negativity, or compare the pattern of positivity/negativity with that found in other plays? (You can find other texts on [the Project Gutenberg website](http://www.gutenberg.org/wiki/Main_Page).)\n",
    "\n",
    "Note - this is a very simplistic way of doing this kind of text analysis, there are far more complex things that can be done, but I think even the basic approach is cool and can give quite interesting results.\n",
    "\n",
    "Please include here all the code used to answer this question and generate any plots."
   ]
  },
  {
   "cell_type": "markdown",
   "metadata": {},
   "source": [
    "#### 1. You should read in all three of the data files. You will need to split the play in 'midsummer.txt' up so that each scene can be considered individually."
   ]
  },
  {
   "cell_type": "code",
   "execution_count": 26,
   "metadata": {},
   "outputs": [],
   "source": [
    "# Read in text files.\n",
    "with open('midsummer.txt') as f1, open('positive-words.txt', encoding='latin-1') as f2, \\\n",
    "     open('negative-words.txt', encoding='latin-1') as f3:\n",
    "    \n",
    "    # Split the play\n",
    "    midsummer = f1.read().split('SCENE')\n",
    "    midsummer = ['SCENE'+i for i in midsummer[2:]]\n",
    "    \n",
    "    # Split the positive and negative words\n",
    "    pos_word = f2.read().split(';;;;;;;;;;;;;;;;;;;;;;;;;;;;;;;;;;;;;;;;;;;;;;;;;;;;;;;;;;;;;;;;;;;;;;;;;;;;')[2].split()\n",
    "    neg_word = f3.read().split(';;;;;;;;;;;;;;;;;;;;;;;;;;;;;;;;;;;;;;;;;;;;;;;;;;;;;;;;;;;;;;;;;;;;;;;;;;;;;;')[2].split()"
   ]
  },
  {
   "cell_type": "markdown",
   "metadata": {},
   "source": [
    "#### 2. You need to invent a metric for how positive or negative a given scene is, based on how many of the words in it are in the positive/negative word lists. For instance, is a scene containing one positive and one negative word: overall positive, negative or neutral? - try and develop a single measure based on the word occurrences that will describe the positivity/negativity of the scene."
   ]
  },
  {
   "cell_type": "code",
   "execution_count": 27,
   "metadata": {},
   "outputs": [],
   "source": [
    "def PerDiff(data,pos_word,neg_word):\n",
    "    '''\n",
    "    This function is used to compute the difference bewteen the precentage of positive words and percentage of \n",
    "    negative words in one scene.\n",
    "    '''\n",
    "    # The percentage of positive words in such scene\n",
    "    per_pos_word = sum([data.split().count(i) for i in pos_word])/len(data.split())\n",
    "    \n",
    "    # The percentage of negative words in such scene\n",
    "    per_neg_word = sum([data.split().count(i) for i in neg_word])/len(data.split())                                                               \n",
    "    \n",
    "    # Return their difference\n",
    "    diff = per_pos_word - per_neg_word\n",
    "    \n",
    "    return diff"
   ]
  },
  {
   "cell_type": "markdown",
   "metadata": {},
   "source": [
    "My positivity/negativity metric is: if the percentage of postive words in the given scene is 0.5 percent more than the negative words in that scene, then this scene is positive, and vice versa. If their difference is bewteen 0.5 percent, then it is neutral.\n",
    "\n",
    "Thus, according to this criteria, I make the following function:"
   ]
  },
  {
   "cell_type": "code",
   "execution_count": 28,
   "metadata": {},
   "outputs": [],
   "source": [
    "def examine_scene(diff):\n",
    "    '''\n",
    "    - This function is used to examine if the scene in the given text is postive/negative/neutural.\n",
    "    - if the percentage of postive words in a scene is 0.5 percent more than the negative words in that scene, \n",
    "    then this scene is positive, and vice versa.\n",
    "    '''\n",
    "    examine={}\n",
    "    \n",
    "    for i in range(len(diff)): \n",
    "        # Returen 'Negative' if %positive - %negative is less than -0.005\n",
    "        if diff[i] < -0.005:\n",
    "            examine[i] = 'Negative'\n",
    "        elif diff[i] > 0.005:\n",
    "            examine[i] = 'Positive'\n",
    "        else :\n",
    "            examine[i] = 'Neutral'\n",
    "    \n",
    "    return print(examine)"
   ]
  },
  {
   "cell_type": "code",
   "execution_count": 29,
   "metadata": {},
   "outputs": [],
   "source": [
    "# These are the punctuation to be removed \n",
    "regex = re.compile('[' +re.escape(string.punctuation)+']')\n",
    "\n",
    "# Drop the punctuation, turn the paragraphs into lowercase\n",
    "midsummer_depunc = [(lambda x: regex.sub(\" \", i).lower())(i) for i in midsummer]"
   ]
  },
  {
   "cell_type": "code",
   "execution_count": 30,
   "metadata": {},
   "outputs": [
    {
     "name": "stdout",
     "output_type": "stream",
     "text": [
      "2070 119 65\n",
      "849 33 26\n",
      "2245 80 86\n",
      "1257 67 55\n",
      "1645 72 39\n",
      "3942 161 221\n",
      "1859 89 51\n",
      "389 16 6\n",
      "2872 132 132\n",
      "446 18 20\n"
     ]
    }
   ],
   "source": [
    "# Count the number of Words, Positive Words and Negative Words in each scene\n",
    "# not necessary here, I just want to check the exact number\n",
    "for i in range(10):\n",
    "    print(len(midsummer_depunc[i].split()),\n",
    "          sum([midsummer_depunc[i].split().count(word) for word in pos_word]),\n",
    "          sum([midsummer_depunc[i].split().count(word) for word in neg_word]))"
   ]
  },
  {
   "cell_type": "code",
   "execution_count": 31,
   "metadata": {},
   "outputs": [
    {
     "name": "stdout",
     "output_type": "stream",
     "text": [
      "{0: 'Positive', 1: 'Positive', 2: 'Neutral', 3: 'Positive', 4: 'Positive', 5: 'Negative', 6: 'Positive', 7: 'Positive', 8: 'Neutral', 9: 'Neutral'}\n"
     ]
    }
   ],
   "source": [
    "# Apply the PerFiff function to compute the difference of precentage of positive and negative words in each scene of midsumeer\n",
    "diff = [PerDiff(i,pos_word,neg_word) for i in midsummer_depunc]\n",
    "# Examine if a scene is Positive, Negative or Neutral\n",
    "examine_scene(diff)"
   ]
  },
  {
   "cell_type": "markdown",
   "metadata": {},
   "source": [
    "Based on my metric, there are three neutral scenes, one negative scene and the rest are positive."
   ]
  },
  {
   "cell_type": "markdown",
   "metadata": {},
   "source": [
    "#### 3. Make a plot of the measure you have invented as a y-axis, with scene number as an x-axis.\n"
   ]
  },
  {
   "cell_type": "code",
   "execution_count": 32,
   "metadata": {},
   "outputs": [
    {
     "data": {
      "text/plain": [
       "<matplotlib.patches.Polygon at 0x1156b5eb8>"
      ]
     },
     "execution_count": 32,
     "metadata": {},
     "output_type": "execute_result"
    },
    {
     "data": {
      "image/png": "[encoded data removed]",
      "text/plain": [
       "<Figure size 720x360 with 1 Axes>"
      ]
     },
     "metadata": {},
     "output_type": "display_data"
    }
   ],
   "source": [
    "# Build a dataframe for the diff data\n",
    "measure = pd.DataFrame(\n",
    "    {'%Positive-%Negative':diff},\n",
    "    index=['ACT I(SCENE I)','ACT I(SCENE II)','ACT II(SCENE I)','ACT II(SCENE II)',\n",
    "           'ACT III(SCENE I)','ACT III(SCENE II)','ACT IV(SCENE I)','ACT IV(SCENE II)',\n",
    "           'ACT V(SCENE I)','ACT V(SCENE II)']\n",
    ")\n",
    "\n",
    "\n",
    "# Plot the bat chart\n",
    "measure.plot.bar(\n",
    "    figsize=(10,5),\n",
    "    title='Positivity/Negativity of the scene',\n",
    "    color='c'\n",
    ")\n",
    "plt.xlabel('SCENE', fontsize='12')\n",
    "plt.ylabel('%Positive words - %Negative words', fontsize='12')\n",
    "plt.axhline(y=0, color='dodgerblue', linestyle='-')\n",
    "\n",
    "\n",
    "# Set the shaded area as borders of different criteria of neutural\n",
    "# Difference within 0.5% to be netural\n",
    "plt.axhspan(-0.005, 0.005, alpha=0.2, color='deepskyblue')\n",
    "# Difference within 1% to be netural\n",
    "plt.axhspan(-0.01, 0.01, alpha=0.2, color='skyblue')\n",
    "# Difference within 2% to be netural\n",
    "plt.axhspan(-0.02, 0.02, alpha=0.1, color='lightskyblue')"
   ]
  },
  {
   "cell_type": "markdown",
   "metadata": {},
   "source": [
    "The shaded areas are the neutral borders. I make different shade areas with three different colors, they represent different criteria of the positivity/negativity. For example, if one bar lies in the central shade area, it means this scene has less than 0.5% of the difference between %(positive words) and %(negative words). Other borders denote 1% of difference and 2% of difference respectively. \n",
    "\n",
    "From the above bar chart, we can see that most scenes in *midsummer* are significantly positive, the SCENE II in ACT III is the most negative one, ACT V(SCENE I), ACT II(SCENE I) and ACT V(SCENE I) are relatively neutral."
   ]
  },
  {
   "cell_type": "markdown",
   "metadata": {},
   "source": [
    "#### 4. When a character starts speaking, their name appears in capitals, on its own line. Which character(s) speak most often?"
   ]
  },
  {
   "cell_type": "code",
   "execution_count": 33,
   "metadata": {},
   "outputs": [
    {
     "data": {
      "text/html": [
       "<div>\n",
       "<style scoped>\n",
       "    .dataframe tbody tr th:only-of-type {\n",
       "        vertical-align: middle;\n",
       "    }\n",
       "\n",
       "    .dataframe tbody tr th {\n",
       "        vertical-align: top;\n",
       "    }\n",
       "\n",
       "    .dataframe thead th {\n",
       "        text-align: right;\n",
       "    }\n",
       "</style>\n",
       "<table border=\"1\" class=\"dataframe\">\n",
       "  <thead>\n",
       "    <tr style=\"text-align: right;\">\n",
       "      <th></th>\n",
       "      <th>Character</th>\n",
       "      <th>Times</th>\n",
       "    </tr>\n",
       "  </thead>\n",
       "  <tbody>\n",
       "    <tr>\n",
       "      <th>28</th>\n",
       "      <td>LYSANDER</td>\n",
       "      <td>51</td>\n",
       "    </tr>\n",
       "    <tr>\n",
       "      <th>26</th>\n",
       "      <td>THESEUS</td>\n",
       "      <td>50</td>\n",
       "    </tr>\n",
       "    <tr>\n",
       "      <th>14</th>\n",
       "      <td>DEMETRIUS</td>\n",
       "      <td>48</td>\n",
       "    </tr>\n",
       "    <tr>\n",
       "      <th>24</th>\n",
       "      <td>HERMIA</td>\n",
       "      <td>48</td>\n",
       "    </tr>\n",
       "    <tr>\n",
       "      <th>19</th>\n",
       "      <td>BOTTOM</td>\n",
       "      <td>47</td>\n",
       "    </tr>\n",
       "    <tr>\n",
       "      <th>20</th>\n",
       "      <td>QUINCE</td>\n",
       "      <td>39</td>\n",
       "    </tr>\n",
       "    <tr>\n",
       "      <th>18</th>\n",
       "      <td>HELENA</td>\n",
       "      <td>36</td>\n",
       "    </tr>\n",
       "    <tr>\n",
       "      <th>16</th>\n",
       "      <td>PUCK</td>\n",
       "      <td>33</td>\n",
       "    </tr>\n",
       "    <tr>\n",
       "      <th>4</th>\n",
       "      <td>OBERON</td>\n",
       "      <td>29</td>\n",
       "    </tr>\n",
       "    <tr>\n",
       "      <th>22</th>\n",
       "      <td>TITANIA</td>\n",
       "      <td>23</td>\n",
       "    </tr>\n",
       "    <tr>\n",
       "      <th>5</th>\n",
       "      <td>FAIRY</td>\n",
       "      <td>14</td>\n",
       "    </tr>\n",
       "    <tr>\n",
       "      <th>13</th>\n",
       "      <td>HIPPOLYTA</td>\n",
       "      <td>14</td>\n",
       "    </tr>\n",
       "    <tr>\n",
       "      <th>3</th>\n",
       "      <td>PYRAMUS</td>\n",
       "      <td>12</td>\n",
       "    </tr>\n",
       "    <tr>\n",
       "      <th>21</th>\n",
       "      <td>THISBE</td>\n",
       "      <td>11</td>\n",
       "    </tr>\n",
       "    <tr>\n",
       "      <th>6</th>\n",
       "      <td>SNOUT</td>\n",
       "      <td>7</td>\n",
       "    </tr>\n",
       "    <tr>\n",
       "      <th>7</th>\n",
       "      <td>EGEUS</td>\n",
       "      <td>7</td>\n",
       "    </tr>\n",
       "    <tr>\n",
       "      <th>11</th>\n",
       "      <td>FLUTE</td>\n",
       "      <td>7</td>\n",
       "    </tr>\n",
       "    <tr>\n",
       "      <th>15</th>\n",
       "      <td>PHILOSTRATE</td>\n",
       "      <td>6</td>\n",
       "    </tr>\n",
       "    <tr>\n",
       "      <th>23</th>\n",
       "      <td>STARVELING</td>\n",
       "      <td>4</td>\n",
       "    </tr>\n",
       "    <tr>\n",
       "      <th>8</th>\n",
       "      <td>MUSTARDSEED</td>\n",
       "      <td>3</td>\n",
       "    </tr>\n",
       "    <tr>\n",
       "      <th>25</th>\n",
       "      <td>MOONSHINE</td>\n",
       "      <td>2</td>\n",
       "    </tr>\n",
       "    <tr>\n",
       "      <th>0</th>\n",
       "      <td>PEASBLOSSOM</td>\n",
       "      <td>2</td>\n",
       "    </tr>\n",
       "    <tr>\n",
       "      <th>17</th>\n",
       "      <td>PROLOGUE</td>\n",
       "      <td>2</td>\n",
       "    </tr>\n",
       "    <tr>\n",
       "      <th>1</th>\n",
       "      <td>WALL</td>\n",
       "      <td>2</td>\n",
       "    </tr>\n",
       "    <tr>\n",
       "      <th>12</th>\n",
       "      <td>SNUG</td>\n",
       "      <td>2</td>\n",
       "    </tr>\n",
       "    <tr>\n",
       "      <th>9</th>\n",
       "      <td>LION</td>\n",
       "      <td>2</td>\n",
       "    </tr>\n",
       "    <tr>\n",
       "      <th>2</th>\n",
       "      <td>COBWEB</td>\n",
       "      <td>2</td>\n",
       "    </tr>\n",
       "    <tr>\n",
       "      <th>10</th>\n",
       "      <td>ATTENDANT</td>\n",
       "      <td>0</td>\n",
       "    </tr>\n",
       "    <tr>\n",
       "      <th>27</th>\n",
       "      <td>FAIRIES</td>\n",
       "      <td>0</td>\n",
       "    </tr>\n",
       "    <tr>\n",
       "      <th>29</th>\n",
       "      <td>MOTH</td>\n",
       "      <td>0</td>\n",
       "    </tr>\n",
       "  </tbody>\n",
       "</table>\n",
       "</div>"
      ],
      "text/plain": [
       "      Character  Times\n",
       "28     LYSANDER     51\n",
       "26      THESEUS     50\n",
       "14    DEMETRIUS     48\n",
       "24       HERMIA     48\n",
       "19       BOTTOM     47\n",
       "20       QUINCE     39\n",
       "18       HELENA     36\n",
       "16         PUCK     33\n",
       "4        OBERON     29\n",
       "22      TITANIA     23\n",
       "5         FAIRY     14\n",
       "13    HIPPOLYTA     14\n",
       "3       PYRAMUS     12\n",
       "21       THISBE     11\n",
       "6         SNOUT      7\n",
       "7         EGEUS      7\n",
       "11        FLUTE      7\n",
       "15  PHILOSTRATE      6\n",
       "23   STARVELING      4\n",
       "8   MUSTARDSEED      3\n",
       "25    MOONSHINE      2\n",
       "0   PEASBLOSSOM      2\n",
       "17     PROLOGUE      2\n",
       "1          WALL      2\n",
       "12         SNUG      2\n",
       "9          LION      2\n",
       "2        COBWEB      2\n",
       "10    ATTENDANT      0\n",
       "27      FAIRIES      0\n",
       "29         MOTH      0"
      ]
     },
     "execution_count": 33,
     "metadata": {},
     "output_type": "execute_result"
    }
   ],
   "source": [
    "# Link all the paragraphs\n",
    "midsummer_all = ' '.join(midsummer)\n",
    "\n",
    "\n",
    "# Find all the sentences whthin the square brackets\n",
    "attendance = re.findall(r\"[^[]*\\[([^]]*)\\]\", midsummer_all)\n",
    "# Link them altogether\n",
    "attendance = ' '.join(attendance)\n",
    "# Remove the punctuations\n",
    "attendance = regex.sub(\" \", attendance)\n",
    "\n",
    "\n",
    "# Find all the characters attend\n",
    "people = set([i for i in attendance.split() if i.isupper() and len(i)>1])\n",
    "\n",
    "\n",
    "# Remove all the sentences whthin the square brackets\n",
    "midsummer_all = re.sub(r\"\\[.+\", \"\", midsummer_all)\n",
    "midsummer_all = re.sub(r\".+\\]\", \"\", midsummer_all)\n",
    "\n",
    "\n",
    "# Count the times of each character speaks\n",
    "speaker = pd.DataFrame([(i,midsummer_all.count(i)) for i in people],columns=['Character','Times'])\n",
    "# Sort the speakers\n",
    "speaker.sort_values('Times',ascending=False)"
   ]
  },
  {
   "cell_type": "markdown",
   "metadata": {},
   "source": [
    "Hence, LYSANDER speaks most often."
   ]
  },
  {
   "cell_type": "markdown",
   "metadata": {},
   "source": [
    "#### 5.Can you use this data to answer any other questions about the data? For instance, could you compare different measures of positivity/negativity, or compare the pattern of positivity/negativity with that found in other plays? (You can find other texts on [the Project Gutenberg website](http://www.gutenberg.org/wiki/Main_Page).)"
   ]
  },
  {
   "cell_type": "markdown",
   "metadata": {},
   "source": [
    "In this part, I want to discover the difference between the patterns of positivity/negativity between William Shakespeare's works. \n",
    "\n",
    "In addition to *A Midsummer Night's Dream*, I selected nine other plays by William Shakespeare. They are:\n",
    "\n",
    "- Comedies: *The Merchant of Venice*, *As You Like It*, *Twelfth Night* and *The Taming of the Shrew* \n",
    "- Tragedies: *Hamlet*, *King Lear*, *Macbeth* and *Othello*\n",
    "- Other: *Romeo and Juliet*\n",
    "\n",
    "\n",
    "Again, my positivity/negativity metric is: if the percentage of positive words in the given scene is 0.5 percent more than the negative words in that scene, then this scene is positive, and vice versa. If their difference is between 0.5 percent, then it is neutral.\n",
    "\n",
    "I would also make different shade areas with three different colors on the plot graphs, to represent different criteria of the positivity/negativity (difference of 0.5%, 1% and 2%). For example, if one bar lies in the 0.5% shade area, it means this scene has less than 0.5% of the difference between %(positive words) and %(negative words). Other borders are 1% of difference and 2% of difference respectively. "
   ]
  },
  {
   "cell_type": "code",
   "execution_count": 34,
   "metadata": {},
   "outputs": [],
   "source": [
    "def read_text_cap(txt_file):\n",
    "    '''\n",
    "    This function is used to read in the text file and split the text into several scenes.\n",
    "    Made for text files with capital title - 'SCENE'\n",
    "    '''\n",
    "    with open(txt_file) as f1:\n",
    "        # Split the play in text\n",
    "        text = f1.read().split('SCENE')\n",
    "        text = ['SCENE'+i for i in text[2:]]\n",
    "        return text"
   ]
  },
  {
   "cell_type": "code",
   "execution_count": 35,
   "metadata": {},
   "outputs": [],
   "source": [
    "def read_text_low(txt_file):\n",
    "    '''\n",
    "    This function is used to read in the text file and split the text into several scenes.\n",
    "    Made for text files with lowercase title - 'Scene'\n",
    "    '''\n",
    "    with open(txt_file) as f1:\n",
    "        # Split the play in text\n",
    "        text = f1.read().split('Scene')\n",
    "        text = ['Scene'+i for i in text[2:]]\n",
    "        return text      "
   ]
  },
  {
   "cell_type": "code",
   "execution_count": 36,
   "metadata": {},
   "outputs": [],
   "source": [
    "def plot_graph(text):\n",
    "    '''\n",
    "    This function is used to plot the positivity/negativity graph\n",
    "    '''\n",
    "\n",
    "    # These are the punctuation to be removed \n",
    "    regex = re.compile('[' +re.escape(string.punctuation)+']')\n",
    "    # Drop the punctuation, turn the paragraphs into lowercase\n",
    "    text_depunc = [(lambda x: regex.sub(\" \", i).lower())(i) for i in text]\n",
    "    \n",
    "    # Find the scenes\n",
    "    seq_scene = [item[0:9] for item in text]\n",
    "    # Remove the punctuation\n",
    "    seq_scene = [''.join(c for c in s if c not in string.punctuation) for s in seq_scene]\n",
    "\n",
    "    # Apply the PerDiff function to compute the difference of precentage of positive and negative words in each scene\n",
    "    diff = [PerDiff(i,pos_word,neg_word) for i in text_depunc]\n",
    "    # Build a dataframe for the diff data\n",
    "    measure = pd.DataFrame(\n",
    "        {'%Positive-%Negative':diff},\n",
    "        index = seq_scene\n",
    "    )\n",
    "\n",
    "    # Plot the bat chart\n",
    "    measure.plot.bar(\n",
    "        figsize=(12,5),\n",
    "        title='Positivity/Negativity of the scene',\n",
    "        color='c'\n",
    "    )\n",
    "    plt.xlabel('SCENE', fontsize='12')\n",
    "    plt.ylabel('%Positive words - %Negative words', fontsize='12')\n",
    "    plt.axhline(y=0, color='dodgerblue', linestyle='-')\n",
    "    \n",
    "    # Set the shaded area for netural border\n",
    "    # Difference within 0.5% to be netural\n",
    "    plt.axhspan(-0.005, 0.005, alpha=0.15, color='deepskyblue')\n",
    "    # Difference within 1% to be netural\n",
    "    plt.axhspan(-0.01, 0.01, alpha=0.15, color='skyblue')\n",
    "    # Difference within 2% to be netural\n",
    "    plt.axhspan(-0.02, 0.02, alpha=0.1, color='lightskyblue')"
   ]
  },
  {
   "cell_type": "markdown",
   "metadata": {},
   "source": [
    "#### Part I : William Shakespeare's comedies"
   ]
  },
  {
   "cell_type": "markdown",
   "metadata": {},
   "source": [
    " **1. A Midsummer Night's Dream**"
   ]
  },
  {
   "cell_type": "code",
   "execution_count": 37,
   "metadata": {},
   "outputs": [
    {
     "data": {
      "image/png": "[encoded data removed]",
      "text/plain": [
       "<Figure size 864x360 with 1 Axes>"
      ]
     },
     "metadata": {},
     "output_type": "display_data"
    }
   ],
   "source": [
    "# Plot the graph of midsummer again\n",
    "plot_graph(read_text_cap('midsummer.txt'))"
   ]
  },
  {
   "cell_type": "markdown",
   "metadata": {},
   "source": [
    "**2. The Merchant of Venice**"
   ]
  },
  {
   "cell_type": "code",
   "execution_count": 38,
   "metadata": {},
   "outputs": [
    {
     "data": {
      "image/png": "[encoded data removed]",
      "text/plain": [
       "<Figure size 864x360 with 1 Axes>"
      ]
     },
     "metadata": {},
     "output_type": "display_data"
    }
   ],
   "source": [
    "# Plot the graph of the merchant of venice\n",
    "plot_graph(read_text_cap('venice.txt'))"
   ]
  },
  {
   "cell_type": "markdown",
   "metadata": {},
   "source": [
    "**3. As You Like It**"
   ]
  },
  {
   "cell_type": "code",
   "execution_count": 39,
   "metadata": {},
   "outputs": [
    {
     "data": {
      "image/png": "[encoded data removed]",
      "text/plain": [
       "<Figure size 864x360 with 1 Axes>"
      ]
     },
     "metadata": {},
     "output_type": "display_data"
    }
   ],
   "source": [
    "# Plot the graph of as you like it \n",
    "plot_graph(read_text_cap('asyoulike.txt'))"
   ]
  },
  {
   "cell_type": "markdown",
   "metadata": {},
   "source": [
    "**4. Twelfth Night**"
   ]
  },
  {
   "cell_type": "code",
   "execution_count": 40,
   "metadata": {},
   "outputs": [
    {
     "data": {
      "image/png": "[encoded data removed]",
      "text/plain": [
       "<Figure size 864x360 with 1 Axes>"
      ]
     },
     "metadata": {},
     "output_type": "display_data"
    }
   ],
   "source": [
    "# Plot the graph of twelfth night\n",
    "plot_graph(read_text_cap('twelfthnight.txt'))"
   ]
  },
  {
   "cell_type": "markdown",
   "metadata": {},
   "source": [
    "**5. The Taming of the Shrew**"
   ]
  },
  {
   "cell_type": "code",
   "execution_count": 41,
   "metadata": {},
   "outputs": [
    {
     "data": {
      "image/png": "[encoded data removed]",
      "text/plain": [
       "<Figure size 864x360 with 1 Axes>"
      ]
     },
     "metadata": {},
     "output_type": "display_data"
    }
   ],
   "source": [
    "# Plot the graph of the taming of the shrew\n",
    "plot_graph(read_text_cap('taming.txt'))"
   ]
  },
  {
   "cell_type": "markdown",
   "metadata": {},
   "source": [
    "- We can see that most of the scenes in these comedies are positive. In the meantime, they are more or less interspersed with some negative scenes. \n",
    "- **The Merchant of Venice**, **As You Like It** and **The Taming of the Shrew** have a very similar pattern of the positivity/negativity: the overall play tend to be positive, with several scenes indicate very strong positivity, and with few scenes indicate strong negativity. The ending part of these plays usually has strong positivity.\n",
    "- The pattern of **Twelfth Night** is very interesting. As we can see, there is no negative scene in the front half of the play, and this positivity maintains for a long time, it keeps until the back half of the ACT III. Then the play turns to a rather negative tune, but this negativity is not very strong. What attracts me is that the most positive scene in the play suddenly appears between those neutral-negative scenes, just before the play ends."
   ]
  },
  {
   "cell_type": "markdown",
   "metadata": {},
   "source": [
    "#### Part II: William Shakespeare's tragedies"
   ]
  },
  {
   "cell_type": "markdown",
   "metadata": {},
   "source": [
    "**1. Hamlet**"
   ]
  },
  {
   "cell_type": "code",
   "execution_count": 42,
   "metadata": {},
   "outputs": [
    {
     "data": {
      "image/png": "[encoded data removed]",
      "text/plain": [
       "<Figure size 864x360 with 1 Axes>"
      ]
     },
     "metadata": {},
     "output_type": "display_data"
    }
   ],
   "source": [
    "# Plot the graph of hamlet\n",
    "plot_graph(read_text_cap('hamlet.txt'))"
   ]
  },
  {
   "cell_type": "markdown",
   "metadata": {},
   "source": [
    "**2. King Lear**"
   ]
  },
  {
   "cell_type": "code",
   "execution_count": 43,
   "metadata": {},
   "outputs": [
    {
     "data": {
      "image/png": "[encoded data removed]",
      "text/plain": [
       "<Figure size 864x360 with 1 Axes>"
      ]
     },
     "metadata": {},
     "output_type": "display_data"
    }
   ],
   "source": [
    "# Plot the graph of king lear\n",
    "plot_graph(read_text_low('kinglear.txt'))"
   ]
  },
  {
   "cell_type": "markdown",
   "metadata": {},
   "source": [
    "**3. Macbeth**"
   ]
  },
  {
   "cell_type": "code",
   "execution_count": 44,
   "metadata": {},
   "outputs": [
    {
     "data": {
      "image/png": "[encoded data removed]",
      "text/plain": [
       "<Figure size 864x360 with 1 Axes>"
      ]
     },
     "metadata": {},
     "output_type": "display_data"
    }
   ],
   "source": [
    "# Plot the graph of macbeth\n",
    "plot_graph(read_text_cap('macbeth.txt'))"
   ]
  },
  {
   "cell_type": "markdown",
   "metadata": {},
   "source": [
    "**4. Othello**"
   ]
  },
  {
   "cell_type": "code",
   "execution_count": 45,
   "metadata": {},
   "outputs": [
    {
     "data": {
      "image/png": "[encoded data removed]",
      "text/plain": [
       "<Figure size 864x360 with 1 Axes>"
      ]
     },
     "metadata": {},
     "output_type": "display_data"
    }
   ],
   "source": [
    "# Plot the graph of othello\n",
    "plot_graph(read_text_cap('othello.txt'))"
   ]
  },
  {
   "cell_type": "markdown",
   "metadata": {},
   "source": [
    "- These are William Shakespeare's most well-known tragedies. We can clearly see the difference of the positivity/negativity pattern between tragedies and comedies. There is a limit number of positive scenes in these tragedies, the typical play is **King Lear**, almost the whole play is in a strongly negative tune.\n",
    "- In these four tragedies, **King Lear** and **Macbeth** are obviously more negative. The negativity of **King Lear** is even stronger than **Macbeth**, because it doesn't have any scene with strong positivity at all while **Macbeth** has at least two scenes showing strong positivity.\n",
    "- **Othello** has a distinct pattern compared with other Shakespeare tragedies, most of its scenes have a neutral tune, especially, the 2nd SCENE in ACT II is significantly positive. The ending part of **Othello** is the most negative part of this play. This might be where the tragic stories are told.\n",
    "- It is also interesting to see that **Hamlet** is the only one among these four tragedies which has a positive ending part and ends with a relatively strong positivity."
   ]
  },
  {
   "cell_type": "markdown",
   "metadata": {},
   "source": [
    "#### Part III: Other masterpiece by William Shakespeare"
   ]
  },
  {
   "cell_type": "markdown",
   "metadata": {},
   "source": [
    "I'm also interested in the story of *Romeo and Juliet*, so I analyze this story here as well. \n",
    "\n",
    "On Wikipedia, *Romeo and Juliet* is labeled as a tragedy, but I don't regard it as a typical tragedy (although the hero's ending is tragic), it's more like a tragicomedy, which blends aspects of both tragic and comic, so I put it in an extra part to discuss."
   ]
  },
  {
   "cell_type": "markdown",
   "metadata": {},
   "source": [
    "** Romeo and Juliet **"
   ]
  },
  {
   "cell_type": "code",
   "execution_count": 46,
   "metadata": {},
   "outputs": [
    {
     "data": {
      "image/png": "[encoded data removed]",
      "text/plain": [
       "<Figure size 864x360 with 1 Axes>"
      ]
     },
     "metadata": {},
     "output_type": "display_data"
    }
   ],
   "source": [
    "# Plot the graph of romeo and juliet\n",
    "plot_graph(read_text_cap('romeojuliet.txt'))"
   ]
  },
  {
   "cell_type": "markdown",
   "metadata": {},
   "source": [
    "As we can see, the story of ** Romeo and Juliet ** is obviously more convoluted than any of the previous plays I have analyzed. Especially in the front half of the story, the direction of the scene twists and turns a lot. In the back half of the story, the tune is softened, there is no more significantly positive scenes. The ending part shows negativity starts from ACT VIII.\n",
    "\n",
    "Through text analysis, we can see that the tragic color of this story is more intense."
   ]
  },
  {
   "cell_type": "code",
   "execution_count": null,
   "metadata": {},
   "outputs": [],
   "source": []
  }
 ],
 "metadata": {
  "kernelspec": {
   "display_name": "Python 3",
   "language": "python",
   "name": "python3"
  },
  "language_info": {
   "codemirror_mode": {
    "name": "ipython",
    "version": 3
   },
   "file_extension": ".py",
   "mimetype": "text/x-python",
   "name": "python",
   "nbconvert_exporter": "python",
   "pygments_lexer": "ipython3",
   "version": "3.6.5"
  }
 },
 "nbformat": 4,
 "nbformat_minor": 2
}
